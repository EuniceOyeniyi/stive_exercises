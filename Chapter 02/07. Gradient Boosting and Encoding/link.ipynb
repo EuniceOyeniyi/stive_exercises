{
 "cells": [
  {
   "cell_type": "markdown",
   "metadata": {},
   "source": [
    "1. Tranformer: https://machinelearningmastery.com/columntransformer-for-numerical-and-categorical-data/\n",
    "2. XGBoost: https://machinelearningmastery.com/feature-importance-and-feature-selection-with-xgboost-in-python/\n",
    "3. Adaboost: https://www.analyticsvidhya.com/blog/2021/09/adaboost-algorithm-a-complete-guide-for-beginners/\n",
    "4. Gradient Descent: https://www.analyticsvidhya.com/blog/2021/03/understanding-gradient-descent-algorithm/\n",
    "5. Save n load models: https://machinelearningmastery.com/save-load-machine-learning-models-python-scikit-learn/\n"
   ]
  },
  {
   "cell_type": "markdown",
   "metadata": {},
   "source": []
  }
 ],
 "metadata": {
  "language_info": {
   "name": "python"
  },
  "orig_nbformat": 4
 },
 "nbformat": 4,
 "nbformat_minor": 2
}
