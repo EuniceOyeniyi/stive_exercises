{
 "cells": [
  {
   "cell_type": "markdown",
   "metadata": {},
   "source": [
    "1.MAchine learning 'https://www.slideshare.net/butest/brief-tour-of-machine-learning?next_slideshow=3858892'\n",
    "\n",
    "\n",
    "2. Plotting tree 'https://stackoverflow.com/questions/40155128/plot-trees-for-a-random-forest-in-python-with-scikit-learn'\n",
    "\n",
    "3.  RF EDA 'https://hands-on.cloud/implementation-of-random-forest-algorithm-using-python/'\n",
    "\n",
    "4. Mterics 'https://www.upgrad.com/blog/what-are-sklearn-metrics/#:~:text=%20Sklearn%20Metrics%20Explained%20%201%20accuracy_score.%20It,positive%20events%20that%20are%20positive.%20After...%20More%20'\n",
    "\n",
    "5. parametric & nonparametric ML https://machinelearningmastery.com/parametric-and-nonparametric-machine-learning-algorithms/\n",
    "\n",
    "6. Ordinal and One-Hot Encodings 'https://machinelearningmastery.com/one-hot-encoding-for-categorical-data/'\n",
    "\n",
    "7. Bagging and Random Forest 'https://machinelearningmastery.com/bagging-and-random-forest-ensemble-algorithms-for-machine-learning/'\n",
    "\n",
    "8. RF  example 'https://machinelearningmastery.com/implement-random-forest-scratch-python/'\n",
    "\n",
    "9. RF eg 2 'https://machinelearningmastery.com/random-forest-ensemble-in-python/'\n",
    "\n"
   ]
  },
  {
   "cell_type": "markdown",
   "metadata": {},
   "source": []
  }
 ],
 "metadata": {
  "language_info": {
   "name": "python"
  },
  "orig_nbformat": 4
 },
 "nbformat": 4,
 "nbformat_minor": 2
}
