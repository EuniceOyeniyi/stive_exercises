{
 "cells": [
  {
   "cell_type": "markdown",
   "id": "cb47ce40",
   "metadata": {},
   "source": [
    "#### Creating a class that has a method that receives a list of numbers and returns:\n",
    "\n",
    "    - Strive if the number is divisible by 3\n",
    "    - School if the number is divisible by 5\n",
    "    - Strive School if the number is divisible by 3 and 5\n",
    "    - the number itself otherwise"
   ]
  },
  {
   "cell_type": "code",
   "execution_count": 24,
   "id": "a0c8082e",
   "metadata": {},
   "outputs": [],
   "source": [
    "class strive_challenge():\n",
    "    def __init__(self, num):\n",
    "        self.number = num\n",
    "    def calculations(self):\n",
    "        lists = []\n",
    "        for i in self.number:\n",
    "            if i%3 == 0 and i%5 == 0:\n",
    "                lists.append('Strive School')\n",
    "            elif i % 3== 0:\n",
    "                lists.append('Strive')\n",
    "            elif i % 5== 0:\n",
    "                lists.append('School')\n",
    "            else:\n",
    "                lists.append(i)\n",
    "        return lists       \n",
    "\n",
    "        \n",
    "        \n",
    "        \n",
    "    \n",
    "    "
   ]
  },
  {
   "cell_type": "code",
   "execution_count": 25,
   "id": "f53e4215",
   "metadata": {},
   "outputs": [],
   "source": [
    "result = strive_challenge([1,2,3,5,15]) #created an instance"
   ]
  },
  {
   "cell_type": "code",
   "execution_count": 26,
   "id": "c2d5882d",
   "metadata": {},
   "outputs": [
    {
     "data": {
      "text/plain": [
       "[1, 2, 'Strive', 'School', 'Strive School']"
      ]
     },
     "execution_count": 26,
     "metadata": {},
     "output_type": "execute_result"
    }
   ],
   "source": [
    "result.calculations()"
   ]
  }
 ],
 "metadata": {
  "kernelspec": {
   "display_name": "Python 3 (ipykernel)",
   "language": "python",
   "name": "python3"
  },
  "language_info": {
   "codemirror_mode": {
    "name": "ipython",
    "version": 3
   },
   "file_extension": ".py",
   "mimetype": "text/x-python",
   "name": "python",
   "nbconvert_exporter": "python",
   "pygments_lexer": "ipython3",
   "version": "3.9.7"
  }
 },
 "nbformat": 4,
 "nbformat_minor": 5
}
