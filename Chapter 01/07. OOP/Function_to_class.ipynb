{
 "cells": [
  {
   "cell_type": "code",
   "execution_count": 21,
   "id": "8ee78deb",
   "metadata": {},
   "outputs": [],
   "source": [
    "class strive_challenge():\n",
    "    def __init__(self, num):\n",
    "        self.list = num\n",
    "    def calculations(self):\n",
    "        lists = []\n",
    "        for i in self.list:\n",
    "            if i%3 == 0 and i%5 == 0:\n",
    "                lists.append('Strive School')\n",
    "            elif i % 3== 0:\n",
    "                lists.append('Strive')\n",
    "            elif i % 5== 0:\n",
    "                lists.append('School')\n",
    "            else:\n",
    "                lists.append(i)\n",
    "        return lists       \n",
    "\n",
    "        \n",
    "        \n",
    "        \n",
    "    \n",
    "    "
   ]
  },
  {
   "cell_type": "code",
   "execution_count": 22,
   "id": "b493510e",
   "metadata": {},
   "outputs": [],
   "source": [
    "result = strive_challenge([1,2,3,5,15])"
   ]
  },
  {
   "cell_type": "code",
   "execution_count": 23,
   "id": "0c15e557",
   "metadata": {},
   "outputs": [
    {
     "data": {
      "text/plain": [
       "[1, 2, 'Strive', 'School', 'Strive School']"
      ]
     },
     "execution_count": 23,
     "metadata": {},
     "output_type": "execute_result"
    }
   ],
   "source": [
    "result.calculations()"
   ]
  },
  {
   "cell_type": "code",
   "execution_count": null,
   "id": "ef3a17eb",
   "metadata": {},
   "outputs": [],
   "source": []
  }
 ],
 "metadata": {
  "kernelspec": {
   "display_name": "Python 3 (ipykernel)",
   "language": "python",
   "name": "python3"
  },
  "language_info": {
   "codemirror_mode": {
    "name": "ipython",
    "version": 3
   },
   "file_extension": ".py",
   "mimetype": "text/x-python",
   "name": "python",
   "nbconvert_exporter": "python",
   "pygments_lexer": "ipython3",
   "version": "3.9.7"
  }
 },
 "nbformat": 4,
 "nbformat_minor": 5
}
