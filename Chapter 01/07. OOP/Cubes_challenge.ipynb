{
 "cells": [
  {
   "cell_type": "code",
   "execution_count": 10,
   "metadata": {},
   "outputs": [
    {
     "name": "stdout",
     "output_type": "stream",
     "text": [
      "True\n"
     ]
    }
   ],
   "source": [
    "\n",
    "class Solution:\n",
    "   def solve(self, length1, width1, height1, size1, length2, width2, height2, size2):\n",
    "      self.y1 = width1\n",
    "      self.z1 = height1\n",
    "      self.x1 = length1\n",
    "      self.a1 = size1\n",
    "      self.a2 = size2\n",
    "      self.x2 = length2\n",
    "      self.y2 = width2\n",
    "      self.z2 = height2\n",
    "   \n",
    "#for the negative axis\n",
    "      halfofbox2= (length2 - (size2/2))\n",
    "      halfofbox1= (length1 - (size1/2))\n",
    "#for the positive axis\n",
    "      halfofbox1_2= (length1 + (size1/2))\n",
    "      halfofbox2_2= (length2 + (size2/2))\n",
    "      if not ( ((halfofbox2 > halfofbox1) and (halfofbox2 < halfofbox1_2)) or ( (halfofbox2_2 > halfofbox1) and (halfofbox2 < halfofbox1_2) )):\n",
    "         return False\n",
    "      else:\n",
    "         return True\n",
    "ob = Solution()\n",
    "print(ob.solve(10,10,0,5,8,9,0,2))\n",
    "\n",
    "\n",
    "       \n",
    "           \n",
    "   \n",
    "  \n"
   ]
  },
  {
   "cell_type": "code",
   "execution_count": null,
   "metadata": {},
   "outputs": [],
   "source": []
  }
 ],
 "metadata": {
  "interpreter": {
   "hash": "125040c3ba315ac39142bdac996c1d5896d90ce3fda4b471bfe94cc79edfa6b4"
  },
  "kernelspec": {
   "display_name": "Python 3.9.7 ('base')",
   "language": "python",
   "name": "python3"
  },
  "language_info": {
   "codemirror_mode": {
    "name": "ipython",
    "version": 3
   },
   "file_extension": ".py",
   "mimetype": "text/x-python",
   "name": "python",
   "nbconvert_exporter": "python",
   "pygments_lexer": "ipython3",
   "version": "3.9.7"
  },
  "orig_nbformat": 4
 },
 "nbformat": 4,
 "nbformat_minor": 2
}
