{
 "cells": [
  {
   "cell_type": "code",
   "execution_count": 10,
   "metadata": {},
   "outputs": [],
   "source": [
    "class Footwear:\n",
    "\n",
    "  #Create a class called footwear with attributes  color, size, price\n",
    "\n",
    "    # methods:  calculate shipping\n",
    "\n",
    "    \n",
    "    def __init__(self, color, size,brand, continent_of_order):\n",
    "        self.color= color\n",
    "        self.size = size\n",
    "        self.brand = brand\n",
    "        self.country = continent_of_order\n",
    "        #self.__basicprice = 20\n",
    "        self.__rate = 0.15\n",
    "\n",
    "        if self.country == 'Antarctica':\n",
    "            print(\"Sorry we don't ship to Antarctica\")\n",
    "\n",
    "    def shipping_cost(self, weight):\n",
    "        shipping_price = weight * self.__rate\n",
    "        return shipping_price\n",
    "\n",
    "class Heels(Footwear):\n",
    "\n",
    "    def __init__(self, color, size, brand,continent_of_order, inches):\n",
    "        super().__init__(color, size, brand,continent_of_order)\n",
    "        self.inches = inches \n",
    "        \n",
    "        \n",
    "    def selling_price(self):\n",
    "        self.__basicprice = 20\n",
    "        if self.inches > 4:\n",
    "            sell_price = self.__basicprice * 3\n",
    "            print(f'The price for this shoe is {sell_price}')\n",
    "        else:\n",
    "            sell_price = self.__basicprice * 1.2\n",
    "            print(f'The price for this shoe is {sell_price}')\n",
    "                \n",
    "        \n",
    "\n",
    "\n",
    "    \n",
    "\n",
    "\n",
    "\n",
    "    \n",
    "\n"
   ]
  },
  {
   "cell_type": "code",
   "execution_count": 11,
   "metadata": {},
   "outputs": [
    {
     "name": "stdout",
     "output_type": "stream",
     "text": [
      "Sorry we don't ship to Antarctica\n"
     ]
    }
   ],
   "source": [
    "shoes = Footwear('red',15,'gussi','Antarctica')"
   ]
  },
  {
   "cell_type": "code",
   "execution_count": 12,
   "metadata": {},
   "outputs": [
    {
     "name": "stdout",
     "output_type": "stream",
     "text": [
      "The price for this shoe is 60\n"
     ]
    }
   ],
   "source": [
    "H = Heels('red',15,'gussi','Europe',6)\n",
    "H.selling_price()"
   ]
  },
  {
   "cell_type": "code",
   "execution_count": null,
   "metadata": {},
   "outputs": [],
   "source": []
  }
 ],
 "metadata": {
  "interpreter": {
   "hash": "125040c3ba315ac39142bdac996c1d5896d90ce3fda4b471bfe94cc79edfa6b4"
  },
  "kernelspec": {
   "display_name": "Python 3.9.7 ('base')",
   "language": "python",
   "name": "python3"
  },
  "language_info": {
   "codemirror_mode": {
    "name": "ipython",
    "version": 3
   },
   "file_extension": ".py",
   "mimetype": "text/x-python",
   "name": "python",
   "nbconvert_exporter": "python",
   "pygments_lexer": "ipython3",
   "version": "3.9.7"
  },
  "orig_nbformat": 4
 },
 "nbformat": 4,
 "nbformat_minor": 2
}
