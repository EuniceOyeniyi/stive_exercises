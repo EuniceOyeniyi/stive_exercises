{
 "cells": [
  {
   "cell_type": "code",
   "execution_count": 163,
   "metadata": {},
   "outputs": [],
   "source": [
    "class Footwear:\n",
    "\n",
    "  #Create a class called footwear with attributes  color, size, price, \n",
    "  # continent_of_order\n",
    "  #  methods:  calculate shipping\n",
    "\n",
    "    \n",
    "    def __init__(self, color, size, continent_of_order):\n",
    "        self.color= color\n",
    "        self.size = size\n",
    "        self.country = continent_of_order\n",
    "        self.__rate = 0.15\n",
    "        #self.__basicprice = 50\n",
    "\n",
    "        if self.country == 'Antarctica':\n",
    "            print(\"Sorry we don't ship to Antarctica\")\n",
    "        if self.size >= 43:\n",
    "            print(f\"Sorry size {self.size} is out of stock\")\n",
    "\n",
    "\n",
    "    # @property\n",
    "    # ##Getter\n",
    "    # def shoe_price(self):\n",
    "    #     return self.__basicprice\n",
    "\n",
    "\n",
    "    def shipping_cost(self, weight):\n",
    "        shipping_price = weight * self.__rate\n",
    "        print(f'The shipping price for this shoe is {round(shipping_price, 3)}')\n",
    "\n",
    "class Heels(Footwear):\n",
    "\n",
    "    def __init__(self, color, size,continent_of_order, inches):\n",
    "        super().__init__(color, size,continent_of_order)\n",
    "        self.inches = inches \n",
    "        \n",
    "    def heel_price(self):\n",
    "        '''\n",
    "        This method calculates the price of Heels depending on the inches \n",
    "        '''\n",
    "        self.__heelprice = 20\n",
    "        if self.inches > 4:\n",
    "            sell_price = self.__heelprice * 3\n",
    "            print(f'The price for this shoe is {sell_price}')\n",
    "        else:\n",
    "            sell_price = self.__heelprice * 1.2\n",
    "            print(f'The price for this shoe is {sell_price}')\n",
    "\n",
    "\n",
    "\n",
    "class Sneakers(Footwear):\n",
    "    def __init__(self, color, size,continent_of_order,brand):\n",
    "        super().__init__(color, size,continent_of_order)\n",
    "        self.brand = brand\n",
    "\n",
    "    def sneakers_price(self):\n",
    "        '''\n",
    "        This method calculates the price of sneaker depending on specific brand \n",
    "        '''\n",
    "        self.__sneakersprice = 70\n",
    "        self.brand=self.brand.lower()\n",
    "        self.__availablebrands=['nike','adidas','reebok','new balance','puma','fila','converse']\n",
    "        if self.brand not in self.__availablebrands:\n",
    "            print(\"We do not have this brand at the moment, please visit back\")\n",
    "        elif self.brand == 'fila':\n",
    "            print(f'The price for {self.brand} is {self.__sneakersprice*2}')\n",
    "        elif self.brand != 'fila':\n",
    "            print(f'The price for {self.brand} is {self.__sneakersprice}')\n",
    "\n",
    "\n",
    "\n",
    "\n",
    "\n",
    "                \n",
    "        \n",
    "\n",
    "\n",
    "    \n",
    "\n",
    "\n",
    "\n",
    "    \n",
    "\n"
   ]
  },
  {
   "cell_type": "code",
   "execution_count": 160,
   "metadata": {},
   "outputs": [
    {
     "name": "stdout",
     "output_type": "stream",
     "text": [
      "Sorry size 45 is out of stock\n"
     ]
    }
   ],
   "source": [
    "shoes = Footwear('red',45,'Europe')"
   ]
  },
  {
   "cell_type": "code",
   "execution_count": 162,
   "metadata": {},
   "outputs": [
    {
     "name": "stdout",
     "output_type": "stream",
     "text": [
      "The shipping price for this shoe is 0.6\n"
     ]
    }
   ],
   "source": [
    "shoes.shipping_cost()"
   ]
  },
  {
   "cell_type": "code",
   "execution_count": 156,
   "metadata": {},
   "outputs": [
    {
     "name": "stdout",
     "output_type": "stream",
     "text": [
      "Sorry size 44 is out of stock\n",
      "The price for this shoe is 60\n",
      "The shipping price for this shoe is 1.8\n"
     ]
    }
   ],
   "source": [
    "heel = Heels('red',44,'Europe',6)\n",
    "heel.heel_price()\n",
    "heel.shipping_cost(12)"
   ]
  },
  {
   "cell_type": "code",
   "execution_count": 157,
   "metadata": {},
   "outputs": [
    {
     "name": "stdout",
     "output_type": "stream",
     "text": [
      "The price for fila is 140\n",
      "The shipping price for this shoe is 1.2\n"
     ]
    }
   ],
   "source": [
    "sneakers= Sneakers('black',38,'Europe','fila')\n",
    "sneakers.sneakers_price()\n",
    "sneakers.shipping_cost(8)"
   ]
  },
  {
   "cell_type": "code",
   "execution_count": null,
   "metadata": {},
   "outputs": [],
   "source": []
  }
 ],
 "metadata": {
  "interpreter": {
   "hash": "125040c3ba315ac39142bdac996c1d5896d90ce3fda4b471bfe94cc79edfa6b4"
  },
  "kernelspec": {
   "display_name": "Python 3.9.7 ('base')",
   "language": "python",
   "name": "python3"
  },
  "language_info": {
   "codemirror_mode": {
    "name": "ipython",
    "version": 3
   },
   "file_extension": ".py",
   "mimetype": "text/x-python",
   "name": "python",
   "nbconvert_exporter": "python",
   "pygments_lexer": "ipython3",
   "version": "3.9.7"
  },
  "orig_nbformat": 4
 },
 "nbformat": 4,
 "nbformat_minor": 2
}
