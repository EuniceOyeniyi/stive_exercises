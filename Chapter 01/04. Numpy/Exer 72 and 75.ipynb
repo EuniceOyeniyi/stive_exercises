{
 "cells": [
  {
   "cell_type": "markdown",
   "id": "fa419536",
   "metadata": {},
   "source": [
    "#### 72. How to swap two rows of an array? (★★★)"
   ]
  },
  {
   "cell_type": "code",
   "execution_count": 4,
   "id": "c20fcb95",
   "metadata": {},
   "outputs": [
    {
     "data": {
      "text/plain": [
       "array([[4, 3, 1],\n",
       "       [8, 2, 4],\n",
       "       [9, 9, 3],\n",
       "       [5, 7, 0]])"
      ]
     },
     "execution_count": 4,
     "metadata": {},
     "output_type": "execute_result"
    }
   ],
   "source": [
    "import numpy as np\n",
    "\n",
    "arr1 = np.array([[4,3,1], [5,7,0], [9,9,3], [8,2,4]])\n",
    "arr1[[1, 3]] = arr1[[3, 1]]\n",
    "arr1"
   ]
  },
  {
   "cell_type": "markdown",
   "id": "ad0eb234",
   "metadata": {},
   "source": [
    "#### 75. How to compute averages using a sliding window over an array? (★★★) "
   ]
  },
  {
   "cell_type": "code",
   "execution_count": 5,
   "id": "a7072bc8",
   "metadata": {},
   "outputs": [
    {
     "data": {
      "text/plain": [
       "array([0.5, 1.5, 2.5, 3.5, 4.5, 5.5, 6.5, 7.5, 8.5])"
      ]
     },
     "execution_count": 5,
     "metadata": {},
     "output_type": "execute_result"
    }
   ],
   "source": [
    "def averages(arr, num=2) :\n",
    "    x = np.arange(arr)\n",
    "    ret = np.cumsum(x)\n",
    "    ret[num:] = ret[num:] - ret[:-num]\n",
    "    return ret[num - 1:] / num\n",
    "averages(10)"
   ]
  },
  {
   "cell_type": "code",
   "execution_count": null,
   "id": "d15a553b",
   "metadata": {},
   "outputs": [],
   "source": []
  }
 ],
 "metadata": {
  "kernelspec": {
   "display_name": "Python 3 (ipykernel)",
   "language": "python",
   "name": "python3"
  },
  "language_info": {
   "codemirror_mode": {
    "name": "ipython",
    "version": 3
   },
   "file_extension": ".py",
   "mimetype": "text/x-python",
   "name": "python",
   "nbconvert_exporter": "python",
   "pygments_lexer": "ipython3",
   "version": "3.9.7"
  }
 },
 "nbformat": 4,
 "nbformat_minor": 5
}
