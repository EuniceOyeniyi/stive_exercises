{
 "cells": [
  {
   "cell_type": "markdown",
   "id": "abbad358",
   "metadata": {},
   "source": [
    "# Non Duplicated Challenge:"
   ]
  },
  {
   "cell_type": "markdown",
   "id": "0f919507",
   "metadata": {},
   "source": [
    "#### A function that receives a list of numbers and returns the non-duplicated number"
   ]
  },
  {
   "cell_type": "code",
   "execution_count": 9,
   "id": "8d1d62bb",
   "metadata": {},
   "outputs": [
    {
     "name": "stdout",
     "output_type": "stream",
     "text": [
      "[3, 7]\n"
     ]
    }
   ],
   "source": [
    "def non_dup(num):\n",
    "    y = []\n",
    "    for i in x:\n",
    "        count = x.count(i)\n",
    "        if count == 1:\n",
    "            y.append(i)\n",
    "    print(y)\n",
    "non_dup([1, 1, 2, 2, 3, 5, 5, 6, 6,7])"
   ]
  }
 ],
 "metadata": {
  "kernelspec": {
   "display_name": "Python 3 (ipykernel)",
   "language": "python",
   "name": "python3"
  },
  "language_info": {
   "codemirror_mode": {
    "name": "ipython",
    "version": 3
   },
   "file_extension": ".py",
   "mimetype": "text/x-python",
   "name": "python",
   "nbconvert_exporter": "python",
   "pygments_lexer": "ipython3",
   "version": "3.9.7"
  }
 },
 "nbformat": 4,
 "nbformat_minor": 5
}
