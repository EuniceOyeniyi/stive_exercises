{
 "cells": [
  {
   "cell_type": "markdown",
   "id": "937873ca",
   "metadata": {},
   "source": [
    "# Strive School Challenge"
   ]
  },
  {
   "cell_type": "markdown",
   "id": "bf370008",
   "metadata": {},
   "source": [
    "#### In this challenge you need to code a function that receives a list of numbers and returns:\n",
    "\n",
    "    - Strive if the number is divisible by 3\n",
    "    - School if the number is divisible by 5\n",
    "    - Strive School if the number is divisible by 3 and 5\n",
    "    - the number itself otherwise"
   ]
  },
  {
   "cell_type": "code",
   "execution_count": 12,
   "id": "72087692",
   "metadata": {},
   "outputs": [
    {
     "data": {
      "text/plain": [
       "[1, 2, 'Strive', 'School', 'Strive School']"
      ]
     },
     "execution_count": 12,
     "metadata": {},
     "output_type": "execute_result"
    }
   ],
   "source": [
    "def strive_school(num):\n",
    "    lists = []\n",
    "    for i in num:\n",
    "        if i%3 == 0 and i%5 == 0:\n",
    "            lists.append('Strive School')\n",
    "        elif i % 3== 0:\n",
    "            lists.append('Strive')\n",
    "        elif i % 5== 0:\n",
    "            lists.append('School')\n",
    "        else:\n",
    "            lists.append(i)\n",
    "    return lists       \n",
    "strive_school([1,2,3,5,15])"
   ]
  },
  {
   "cell_type": "code",
   "execution_count": null,
   "id": "a19ee2b0",
   "metadata": {},
   "outputs": [],
   "source": []
  }
 ],
 "metadata": {
  "kernelspec": {
   "display_name": "Python 3 (ipykernel)",
   "language": "python",
   "name": "python3"
  },
  "language_info": {
   "codemirror_mode": {
    "name": "ipython",
    "version": 3
   },
   "file_extension": ".py",
   "mimetype": "text/x-python",
   "name": "python",
   "nbconvert_exporter": "python",
   "pygments_lexer": "ipython3",
   "version": "3.9.7"
  }
 },
 "nbformat": 4,
 "nbformat_minor": 5
}
