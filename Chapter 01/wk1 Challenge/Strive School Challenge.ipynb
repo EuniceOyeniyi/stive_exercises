{
 "cells": [
  {
   "cell_type": "markdown",
   "id": "937873ca",
   "metadata": {},
   "source": [
    "# Strive School Challenge"
   ]
  },
  {
   "cell_type": "markdown",
   "id": "bf370008",
   "metadata": {},
   "source": [
    "#### In this challenge you need to code a function that receives a list of numbers and returns:\n",
    "\n",
    "    - Strive if the number is divisible by 3\n",
    "    - School if the number is divisible by 5\n",
    "    - Strive School if the number is divisible by 3 and 5\n",
    "    - the number itself otherwise"
   ]
  },
  {
   "cell_type": "code",
   "execution_count": 26,
   "id": "72087692",
   "metadata": {},
   "outputs": [
    {
     "name": "stdout",
     "output_type": "stream",
     "text": [
      "1\n",
      "2\n",
      "Strive\n",
      "School\n",
      "Strive School\n"
     ]
    }
   ],
   "source": [
    "def strive_school(num):\n",
    "    for i in num:\n",
    "        if (i % 3 == 0) & (i % 5 == 0):\n",
    "            print('Strive School')\n",
    "        elif i % 3== 0:\n",
    "            print('Strive')\n",
    "        elif i % 5== 0:\n",
    "            print('School')\n",
    "        else:\n",
    "             print(i)\n",
    "strive_school([1,2,3,5,15])"
   ]
  },
  {
   "cell_type": "code",
   "execution_count": null,
   "id": "9864cdfc",
   "metadata": {},
   "outputs": [],
   "source": []
  }
 ],
 "metadata": {
  "kernelspec": {
   "display_name": "Python 3 (ipykernel)",
   "language": "python",
   "name": "python3"
  },
  "language_info": {
   "codemirror_mode": {
    "name": "ipython",
    "version": 3
   },
   "file_extension": ".py",
   "mimetype": "text/x-python",
   "name": "python",
   "nbconvert_exporter": "python",
   "pygments_lexer": "ipython3",
   "version": "3.9.7"
  }
 },
 "nbformat": 4,
 "nbformat_minor": 5
}
