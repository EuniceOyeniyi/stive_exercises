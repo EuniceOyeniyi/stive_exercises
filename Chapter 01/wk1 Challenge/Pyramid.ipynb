{
 "cells": [
  {
   "cell_type": "markdown",
   "id": "37a22b1f",
   "metadata": {},
   "source": [
    "# Pyramid"
   ]
  },
  {
   "cell_type": "markdown",
   "id": "199e2988",
   "metadata": {},
   "source": [
    "### A function that receives a number prints out a pyramid"
   ]
  },
  {
   "cell_type": "code",
   "execution_count": 48,
   "id": "f654802e",
   "metadata": {},
   "outputs": [
    {
     "name": "stdout",
     "output_type": "stream",
     "text": [
      "\n",
      "#\n",
      "##\n",
      "###\n",
      "####\n",
      "#####\n",
      "######\n",
      "#######\n",
      "########\n",
      "#########\n"
     ]
    }
   ],
   "source": [
    "def pyramid(num):\n",
    "    for i in range(num):\n",
    "        print('#'*(i))\n",
    "    \n",
    "        \n",
    "pyramid(10)"
   ]
  },
  {
   "cell_type": "code",
   "execution_count": null,
   "id": "0f4504c8",
   "metadata": {},
   "outputs": [],
   "source": []
  }
 ],
 "metadata": {
  "kernelspec": {
   "display_name": "Python 3 (ipykernel)",
   "language": "python",
   "name": "python3"
  },
  "language_info": {
   "codemirror_mode": {
    "name": "ipython",
    "version": 3
   },
   "file_extension": ".py",
   "mimetype": "text/x-python",
   "name": "python",
   "nbconvert_exporter": "python",
   "pygments_lexer": "ipython3",
   "version": "3.9.7"
  }
 },
 "nbformat": 4,
 "nbformat_minor": 5
}
