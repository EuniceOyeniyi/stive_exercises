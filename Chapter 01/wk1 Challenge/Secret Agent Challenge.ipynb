{
 "cells": [
  {
   "cell_type": "markdown",
   "id": "a41adcef",
   "metadata": {},
   "source": [
    "# Secret Agent Challenge"
   ]
  },
  {
   "cell_type": "code",
   "execution_count": 3,
   "id": "e7658f14",
   "metadata": {},
   "outputs": [
    {
     "name": "stdout",
     "output_type": "stream",
     "text": [
      "lara\n",
      "felix\n",
      "jeno\n"
     ]
    }
   ],
   "source": [
    "import numpy as np\n",
    "arr = np.array([['felix', 'lara'], ['felix', 'jeno'], ['lara', 'jeno']])\n",
    "agent =[]\n",
    "for i in range(len(arr)):\n",
    "    #agent = agent.append(arr[i][i])\n",
    "    print (arr[i][i-1])\n",
    "    #print (agent)\n",
    "    "
   ]
  },
  {
   "cell_type": "code",
   "execution_count": null,
   "id": "48ae60ba",
   "metadata": {},
   "outputs": [],
   "source": []
  }
 ],
 "metadata": {
  "kernelspec": {
   "display_name": "Python 3 (ipykernel)",
   "language": "python",
   "name": "python3"
  },
  "language_info": {
   "codemirror_mode": {
    "name": "ipython",
    "version": 3
   },
   "file_extension": ".py",
   "mimetype": "text/x-python",
   "name": "python",
   "nbconvert_exporter": "python",
   "pygments_lexer": "ipython3",
   "version": "3.9.7"
  }
 },
 "nbformat": 4,
 "nbformat_minor": 5
}
