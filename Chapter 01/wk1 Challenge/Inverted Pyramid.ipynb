{
 "cells": [
  {
   "cell_type": "markdown",
   "id": "a9e124fe",
   "metadata": {},
   "source": [
    "# Inverted Pyramid "
   ]
  },
  {
   "cell_type": "markdown",
   "id": "606d620a",
   "metadata": {},
   "source": [
    "### A function that receives a number prints out an inverted pyramid"
   ]
  },
  {
   "cell_type": "code",
   "execution_count": 1,
   "id": "3fa108b3",
   "metadata": {},
   "outputs": [
    {
     "name": "stdout",
     "output_type": "stream",
     "text": [
      "          #\n",
      "         ##\n",
      "        ###\n",
      "       ####\n",
      "      #####\n",
      "     ######\n",
      "    #######\n",
      "   ########\n",
      "  #########\n",
      " ##########\n"
     ]
    }
   ],
   "source": [
    "def pyramid(num):\n",
    "    for i in range(num):\n",
    "        print(' '*(num-i)+'#'*(i+1))\n",
    "        #print(('#'*(i+1)).rjust(num))\n",
    "    \n",
    "        \n",
    "pyramid(10)"
   ]
  },
  {
   "cell_type": "code",
   "execution_count": null,
   "id": "28fdb3cc",
   "metadata": {},
   "outputs": [],
   "source": []
  }
 ],
 "metadata": {
  "kernelspec": {
   "display_name": "Python 3 (ipykernel)",
   "language": "python",
   "name": "python3"
  },
  "language_info": {
   "codemirror_mode": {
    "name": "ipython",
    "version": 3
   },
   "file_extension": ".py",
   "mimetype": "text/x-python",
   "name": "python",
   "nbconvert_exporter": "python",
   "pygments_lexer": "ipython3",
   "version": "3.8.12"
  }
 },
 "nbformat": 4,
 "nbformat_minor": 5
}
