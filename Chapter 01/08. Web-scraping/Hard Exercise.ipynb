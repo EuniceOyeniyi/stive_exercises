{
 "cells": [
  {
   "cell_type": "code",
   "execution_count": 62,
   "metadata": {},
   "outputs": [],
   "source": [
    "import pandas as pd\n",
    "from datetime import timedelta, date\n",
    "import re\n",
    "import requests\n",
    "from bs4 import BeautifulSoup"
   ]
  },
  {
   "cell_type": "code",
   "execution_count": 115,
   "metadata": {},
   "outputs": [
    {
     "name": "stdout",
     "output_type": "stream",
     "text": [
      "<Response [200]>\n"
     ]
    }
   ],
   "source": [
    "## Getting the web page and content\n",
    "page = requests.get('https://weather.com/weather/tenday/l/San+Francisco+CA?canonicalCityId=dfdaba8cbe3a4d12a8796e1f7b1ccc7174b4b0a2d5ddb1c8566ae9f154fa638c')\n",
    "print(page)\n",
    "soup = BeautifulSoup(page.content,'html.parser')"
   ]
  },
  {
   "cell_type": "code",
   "execution_count": 117,
   "metadata": {},
   "outputs": [
    {
     "data": {
      "text/plain": [
       "['Mon 14',\n",
       " 'Mon 14',\n",
       " 'Tue 15',\n",
       " 'Tue 15',\n",
       " 'Wed 16',\n",
       " 'Wed 16',\n",
       " 'Thu 17',\n",
       " 'Thu 17',\n",
       " 'Fri 18',\n",
       " 'Fri 18',\n",
       " 'Sat 19',\n",
       " 'Sat 19']"
      ]
     },
     "execution_count": 117,
     "metadata": {},
     "output_type": "execute_result"
    }
   ],
   "source": [
    "#Scrapping the first 6 forcasted days\n",
    "day_forecast = soup.find_all('span',class_=\"DailyContent--daypartDate--2A3Wi\")[0:12]\n",
    "days = []\n",
    "for i in day_forecast:\n",
    "    days.append(i.text)\n",
    "days\n"
   ]
  },
  {
   "cell_type": "code",
   "execution_count": 119,
   "metadata": {},
   "outputs": [
    {
     "data": {
      "text/plain": [
       "[datetime.date(2022, 3, 14),\n",
       " datetime.date(2022, 3, 14),\n",
       " datetime.date(2022, 3, 15),\n",
       " datetime.date(2022, 3, 15),\n",
       " datetime.date(2022, 3, 16),\n",
       " datetime.date(2022, 3, 16),\n",
       " datetime.date(2022, 3, 17),\n",
       " datetime.date(2022, 3, 17),\n",
       " datetime.date(2022, 3, 18),\n",
       " datetime.date(2022, 3, 18),\n",
       " datetime.date(2022, 3, 19),\n",
       " datetime.date(2022, 3, 19)]"
      ]
     },
     "execution_count": 119,
     "metadata": {},
     "output_type": "execute_result"
    }
   ],
   "source": [
    "#Generating the dates for the 6days\n",
    "today = date.today()\n",
    "yesterday = today - timedelta(days = 1)\n",
    "dates_forecast =pd.date_range(start= yesterday, periods=6)\n",
    "\n",
    "#Creating a list of repeated dates\n",
    "repeated_dates = []\n",
    "for date1, date2 in zip(dates_forecast, dates_forecast):\n",
    "    repeated_dates.append(date1.date())\n",
    "    repeated_dates.append(date2.date())\n",
    "repeated_dates = repeated_dates[ 0:len(repeated_dates)]\n",
    "repeated_dates"
   ]
  },
  {
   "cell_type": "code",
   "execution_count": 113,
   "metadata": {},
   "outputs": [
    {
     "data": {
      "text/plain": [
       "['A mix of clouds and sun. High 66F. Winds WSW at 10 to 15 mph.',\n",
       " 'Rain showers early becoming a steady light rain overnight. Low 53F. Winds SSW at 5 to 10 mph. Chance of rain 70%.',\n",
       " 'Showers in the morning, then cloudy in the afternoon. High around 60F. Winds WSW at 10 to 15 mph. Chance of rain 50%.',\n",
       " 'Partly cloudy. Low 47F. Winds W at 10 to 15 mph.',\n",
       " 'Partly cloudy skies. High 62F. Winds W at 10 to 20 mph.',\n",
       " 'Partly cloudy skies during the evening will give way to cloudy skies overnight. Low 48F. Winds W at 10 to 15 mph.',\n",
       " 'Cloudy skies early will become partly cloudy later in the day. High near 60F. Winds WSW at 10 to 20 mph.',\n",
       " 'Mainly clear early, then a few clouds later on. Low 47F. Winds W at 10 to 15 mph.',\n",
       " 'Sunshine and clouds mixed. High near 60F. Winds WSW at 10 to 20 mph.',\n",
       " 'Cloudy with occasional showers late at night. Low 48F. Winds WSW at 10 to 15 mph. Chance of rain 50%.',\n",
       " 'Rain likely. Winds increasing late. High 56F. Winds WSW at 20 to 30 mph. Chance of rain 70%.',\n",
       " 'Mainly clear. Low 44F. Winds NW at 15 to 25 mph.']"
      ]
     },
     "execution_count": 113,
     "metadata": {},
     "output_type": "execute_result"
    }
   ],
   "source": [
    "#Scrapping forecasted description for the 6days\n",
    "forecast_decription = soup.find_all('p',class_=\"DailyContent--narrative--hplRl\")[0:12]\n",
    "description=[]\n",
    "for t in forecast_decription:\n",
    "    description.append(t.text)\n",
    "\n",
    "description"
   ]
  },
  {
   "cell_type": "code",
   "execution_count": 102,
   "metadata": {},
   "outputs": [
    {
     "data": {
      "text/plain": [
       "[18.89, 11.67, 15.56, 8.33, 16.67, 8.89, 15.56, 8.33, 15.56, 8.89, 13.33, 6.67]"
      ]
     },
     "execution_count": 102,
     "metadata": {},
     "output_type": "execute_result"
    }
   ],
   "source": [
    "#Scrapping forecasted temperature for the 6days\n",
    "daily_temp=[]\n",
    "for t in forecast_decription:\n",
    "    daily_temp.append(re.findall('[0-9]+',(t.text.split('F')[0]))[0:12])\n",
    "daily_temp = [temp for sublist in daily_temp for temp in sublist]\n",
    "daily_temp = [int(i) for i in daily_temp]\n",
    "Converted_temp = [round((fahri-32)*(5/9),2) for fahri in daily_temp]\n",
    "Converted_temp"
   ]
  },
  {
   "cell_type": "code",
   "execution_count": 120,
   "metadata": {},
   "outputs": [
    {
     "data": {
      "text/html": [
       "<div>\n",
       "<style scoped>\n",
       "    .dataframe tbody tr th:only-of-type {\n",
       "        vertical-align: middle;\n",
       "    }\n",
       "\n",
       "    .dataframe tbody tr th {\n",
       "        vertical-align: top;\n",
       "    }\n",
       "\n",
       "    .dataframe thead th {\n",
       "        text-align: right;\n",
       "    }\n",
       "</style>\n",
       "<table border=\"1\" class=\"dataframe\">\n",
       "  <thead>\n",
       "    <tr style=\"text-align: right;\">\n",
       "      <th></th>\n",
       "      <th>Days</th>\n",
       "      <th>Date</th>\n",
       "      <th>Description</th>\n",
       "      <th>Temperature in Celsius</th>\n",
       "    </tr>\n",
       "  </thead>\n",
       "  <tbody>\n",
       "    <tr>\n",
       "      <th>0</th>\n",
       "      <td>Mon 14</td>\n",
       "      <td>2022-03-14</td>\n",
       "      <td>A mix of clouds and sun. High 66F. Winds WSW a...</td>\n",
       "      <td>18.89</td>\n",
       "    </tr>\n",
       "    <tr>\n",
       "      <th>1</th>\n",
       "      <td>Mon 14</td>\n",
       "      <td>2022-03-14</td>\n",
       "      <td>Rain showers early becoming a steady light rai...</td>\n",
       "      <td>11.67</td>\n",
       "    </tr>\n",
       "    <tr>\n",
       "      <th>2</th>\n",
       "      <td>Tue 15</td>\n",
       "      <td>2022-03-15</td>\n",
       "      <td>Showers in the morning, then cloudy in the aft...</td>\n",
       "      <td>15.56</td>\n",
       "    </tr>\n",
       "    <tr>\n",
       "      <th>3</th>\n",
       "      <td>Tue 15</td>\n",
       "      <td>2022-03-15</td>\n",
       "      <td>Partly cloudy. Low 47F. Winds W at 10 to 15 mph.</td>\n",
       "      <td>8.33</td>\n",
       "    </tr>\n",
       "    <tr>\n",
       "      <th>4</th>\n",
       "      <td>Wed 16</td>\n",
       "      <td>2022-03-16</td>\n",
       "      <td>Partly cloudy skies. High 62F. Winds W at 10 t...</td>\n",
       "      <td>16.67</td>\n",
       "    </tr>\n",
       "    <tr>\n",
       "      <th>5</th>\n",
       "      <td>Wed 16</td>\n",
       "      <td>2022-03-16</td>\n",
       "      <td>Partly cloudy skies during the evening will gi...</td>\n",
       "      <td>8.89</td>\n",
       "    </tr>\n",
       "    <tr>\n",
       "      <th>6</th>\n",
       "      <td>Thu 17</td>\n",
       "      <td>2022-03-17</td>\n",
       "      <td>Cloudy skies early will become partly cloudy l...</td>\n",
       "      <td>15.56</td>\n",
       "    </tr>\n",
       "    <tr>\n",
       "      <th>7</th>\n",
       "      <td>Thu 17</td>\n",
       "      <td>2022-03-17</td>\n",
       "      <td>Mainly clear early, then a few clouds later on...</td>\n",
       "      <td>8.33</td>\n",
       "    </tr>\n",
       "    <tr>\n",
       "      <th>8</th>\n",
       "      <td>Fri 18</td>\n",
       "      <td>2022-03-18</td>\n",
       "      <td>Sunshine and clouds mixed. High near 60F. Wind...</td>\n",
       "      <td>15.56</td>\n",
       "    </tr>\n",
       "    <tr>\n",
       "      <th>9</th>\n",
       "      <td>Fri 18</td>\n",
       "      <td>2022-03-18</td>\n",
       "      <td>Cloudy with occasional showers late at night. ...</td>\n",
       "      <td>8.89</td>\n",
       "    </tr>\n",
       "    <tr>\n",
       "      <th>10</th>\n",
       "      <td>Sat 19</td>\n",
       "      <td>2022-03-19</td>\n",
       "      <td>Rain likely. Winds increasing late. High 56F. ...</td>\n",
       "      <td>13.33</td>\n",
       "    </tr>\n",
       "    <tr>\n",
       "      <th>11</th>\n",
       "      <td>Sat 19</td>\n",
       "      <td>2022-03-19</td>\n",
       "      <td>Mainly clear. Low 44F. Winds NW at 15 to 25 mph.</td>\n",
       "      <td>6.67</td>\n",
       "    </tr>\n",
       "  </tbody>\n",
       "</table>\n",
       "</div>"
      ],
      "text/plain": [
       "      Days        Date                                        Description  \\\n",
       "0   Mon 14  2022-03-14  A mix of clouds and sun. High 66F. Winds WSW a...   \n",
       "1   Mon 14  2022-03-14  Rain showers early becoming a steady light rai...   \n",
       "2   Tue 15  2022-03-15  Showers in the morning, then cloudy in the aft...   \n",
       "3   Tue 15  2022-03-15   Partly cloudy. Low 47F. Winds W at 10 to 15 mph.   \n",
       "4   Wed 16  2022-03-16  Partly cloudy skies. High 62F. Winds W at 10 t...   \n",
       "5   Wed 16  2022-03-16  Partly cloudy skies during the evening will gi...   \n",
       "6   Thu 17  2022-03-17  Cloudy skies early will become partly cloudy l...   \n",
       "7   Thu 17  2022-03-17  Mainly clear early, then a few clouds later on...   \n",
       "8   Fri 18  2022-03-18  Sunshine and clouds mixed. High near 60F. Wind...   \n",
       "9   Fri 18  2022-03-18  Cloudy with occasional showers late at night. ...   \n",
       "10  Sat 19  2022-03-19  Rain likely. Winds increasing late. High 56F. ...   \n",
       "11  Sat 19  2022-03-19   Mainly clear. Low 44F. Winds NW at 15 to 25 mph.   \n",
       "\n",
       "    Temperature in Celsius  \n",
       "0                    18.89  \n",
       "1                    11.67  \n",
       "2                    15.56  \n",
       "3                     8.33  \n",
       "4                    16.67  \n",
       "5                     8.89  \n",
       "6                    15.56  \n",
       "7                     8.33  \n",
       "8                    15.56  \n",
       "9                     8.89  \n",
       "10                   13.33  \n",
       "11                    6.67  "
      ]
     },
     "execution_count": 120,
     "metadata": {},
     "output_type": "execute_result"
    }
   ],
   "source": [
    "##Creating a dataframe for the scrapped forcasts\n",
    "final_data =pd.DataFrame({'Days':days, 'Date':repeated_dates,'Description':description,'Temperature in Celsius':Converted_temp}) \n",
    "final_data"
   ]
  }
 ],
 "metadata": {
  "interpreter": {
   "hash": "125040c3ba315ac39142bdac996c1d5896d90ce3fda4b471bfe94cc79edfa6b4"
  },
  "kernelspec": {
   "display_name": "Python 3.9.7 ('base')",
   "language": "python",
   "name": "python3"
  },
  "language_info": {
   "codemirror_mode": {
    "name": "ipython",
    "version": 3
   },
   "file_extension": ".py",
   "mimetype": "text/x-python",
   "name": "python",
   "nbconvert_exporter": "python",
   "pygments_lexer": "ipython3",
   "version": "3.8.12"
  },
  "orig_nbformat": 4
 },
 "nbformat": 4,
 "nbformat_minor": 2
}
