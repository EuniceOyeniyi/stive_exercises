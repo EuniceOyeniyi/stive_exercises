{
 "cells": [
  {
   "cell_type": "code",
   "execution_count": 1,
   "metadata": {},
   "outputs": [],
   "source": [
    "import pandas as pd\n",
    "from datetime import timedelta, date\n",
    "import re\n",
    "import requests\n",
    "from bs4 import BeautifulSoup"
   ]
  },
  {
   "cell_type": "code",
   "execution_count": null,
   "metadata": {},
   "outputs": [],
   "source": [
    "page_num = [1,51]\n",
    "soup=[]\n",
    "for pagenums in page_num:\n",
    "    page = requests.get(f'https://www.imdb.com/search/title/?title_type=feature&genres=crime&start={page_num}&explore=genres&ref_=adv_nxt')\n",
    "    print(page)\n",
    "    soup.append(BeautifulSoup(page.content,'html.parser'))"
   ]
  },
  {
   "cell_type": "code",
   "execution_count": null,
   "metadata": {},
   "outputs": [],
   "source": [
    "##movie_title and year of release\n",
    "title = []\n",
    "release =[]\n",
    "discriptions =  []\n",
    "durations = []\n",
    "genres = []\n",
    "for item in soup:\n",
    "    movie_title = item.find_all('h3',class_=\"lister-item-header\")\n",
    "    \n",
    "    for movie in movie_title:\n",
    "        title.append(movie.text.replace(\"\\n\",\"\").split(\".\")[1].split(\"(\")[0])\n",
    "    #Release Year\n",
    "        release.append(pd.Series(movie.text.replace(\"\\n\",\"\")).str.extract(r'\\((\\d+)').squeeze()) \n",
    "\n",
    "    #Description \n",
    "    movie_discrib=item.find_all('div',class_=\"lister-item-content\")\n",
    "    for discrip in movie_discrib:\n",
    "        ptags = discrip.find_all('p',class_='text-muted')\n",
    "        description = ptags[1].text.replace('\\n','')\n",
    "        discriptions.append(description)\n",
    "\n",
    "    #Duration\n",
    "        duration = ptags[0].text.replace('\\n','')\n",
    "        durations.append(pd.Series(duration).str.extract(r'(\\d+)\\s+min').squeeze() )\n",
    "\n",
    "    #Genre\n",
    "        spantags = discrip.find_all('span',class_='genre')\n",
    "        for genre in spantags:\n",
    "            genres.append(genre.text.replace('\\n','').strip('    '))"
   ]
  },
  {
   "cell_type": "code",
   "execution_count": null,
   "metadata": {},
   "outputs": [],
   "source": []
  },
  {
   "cell_type": "code",
   "execution_count": null,
   "metadata": {},
   "outputs": [],
   "source": []
  },
  {
   "cell_type": "code",
   "execution_count": null,
   "metadata": {},
   "outputs": [],
   "source": [
    "##movie_title and year of release\n",
    "titles=[]\n",
    "years= []\n",
    "descriptions =[]\n",
    "durations =[]\n",
    "ratings =[]\n",
    "votes = []\n",
    "genres= []\n",
    "stars = []\n",
    "directors = []\n",
    "for item in soups:\n",
    "    movie_title = item.find_all('h3',class_=\"lister-item-header\") #get the tag containing the movie title and year of release\n",
    "    movie_discrip = item.find_all('div',class_=\"lister-item-content\") #get tags containing the description\n",
    "\n",
    "\n",
    "    #Movies and Years\n",
    "    for movies in movie_title:\n",
    "        titles.append(movies.text.replace(\"\\n\",\"\").split(\".\")[1].split(\"(\")[0])\n",
    "        years.append( pd.Series(movies.text.replace('\\n','')).str.extract(r'\\((\\d+)').squeeze()  )\n",
    "    \n",
    "      \n",
    "    #Description\n",
    "    for discrip in movie_discrip:\n",
    "        ptags=discrip.find_all('p',class_=\"text-muted\")\n",
    "        discrips=ptags[1].text.replace('\\n','')\n",
    "        descriptions.append(discrips)\n",
    "    #Duration\n",
    "        duration =ptags[0].text.replace('\\n','')\n",
    "        durations.append( pd.Series(duration).str.extract(r'(\\d+) min').squeeze())\n",
    "\n",
    "    #Ratings\n",
    "    rate = item.select(\".lister-item-content\")   \n",
    "    for rates in rate:\n",
    "        ratings.append( pd.Series(rates.text.replace('\\n','')).str.extract(r'(\\d+\\.\\d+)Rate').squeeze()  )\n",
    "    #Votes\n",
    "        votes.append( pd.Series(rates.text.replace('\\n','')).str.extract(r'Votes\\:(\\d+,\\d+)') .squeeze() )\n",
    "        \n",
    "\n",
    "    #Genres\n",
    "    movie_genre = item.find_all('span',class_=\"genre\")\n",
    "    for genre in movie_genre:\n",
    "        genres.append(genre.text.replace(\"\\n\",\"\").strip('    '))\n",
    "\n",
    "    #Stars\n",
    "    movie_star = item.find_all('p',class_='')\n",
    "    for star in movie_star:\n",
    "        stars.append(star.text.replace(\"\\n\",'').split('Stars:')[1])\n",
    "    #Directors\n",
    "        directors.append(star.text.replace(\"\\n\",'').split('|')[0].split(':')[1])\n",
    "\n",
    "        \n",
    "\n",
    "\n",
    "\n",
    "years = [int(toint) for toint in years]\n",
    "\n",
    "final_data =pd.DataFrame({'Title':titles, 'Descriptions':descriptions,'Release':years,'directors':directors,'rating':ratings,'durations':durations,'votes':votes,'genres':genres,'stars':stars}) "
   ]
  },
  {
   "cell_type": "code",
   "execution_count": null,
   "metadata": {},
   "outputs": [],
   "source": [
    "final_data.to_csv('Finaldata.csv', index=False)"
   ]
  },
  {
   "cell_type": "code",
   "execution_count": null,
   "metadata": {},
   "outputs": [],
   "source": []
  },
  {
   "cell_type": "code",
   "execution_count": null,
   "metadata": {},
   "outputs": [],
   "source": []
  },
  {
   "cell_type": "code",
   "execution_count": null,
   "metadata": {},
   "outputs": [],
   "source": []
  },
  {
   "cell_type": "code",
   "execution_count": 2,
   "metadata": {},
   "outputs": [
    {
     "name": "stdout",
     "output_type": "stream",
     "text": [
      "<Response [200]>\n",
      "<Response [200]>\n"
     ]
    }
   ],
   "source": [
    "page = requests.get('https://www.imdb.com/search/title/?title_type=feature&genres=crime&genres=Crime&explore=genres&ref_=adv_explore_rhs')\n",
    "page2 = requests.get('https://www.imdb.com/search/title/?title_type=feature&genres=crime&start=51&explore=genres&ref_=adv_nxt')\n",
    "print(page)\n",
    "print(page2)\n",
    "soup = BeautifulSoup(page.content,'html.parser')\n",
    "soup2 = BeautifulSoup(page2.content,'html.parser')"
   ]
  },
  {
   "cell_type": "code",
   "execution_count": null,
   "metadata": {},
   "outputs": [],
   "source": [
    "##movie_title and year of release\n",
    "movie_title = soup.find_all('h3',class_=\"lister-item-header\")\n",
    "\n",
    "title=[]\n",
    "yearss=[]\n",
    "for movie in movie_title:\n",
    "    title.append(movie.text.replace(\"\\n\",\"\").split(\".\")[1].split(\"(\")[0])\n",
    "    yearss.append(re.findall('[0-9]+',(movie.text.replace(\"\\n\",\"\").split(\".\")[1])))\n",
    "\n",
    "#title\n",
    "#yearss\n",
    "\n"
   ]
  },
  {
   "cell_type": "code",
   "execution_count": null,
   "metadata": {},
   "outputs": [],
   "source": [
    "movie_test = soup.find_all('div',class_=\"lister-item-content\")\n",
    "\n",
    "tests=[]\n",
    "for test in movie_test:\n",
    "    tests.append(test.text.replace(\"\\n\",' '))\n",
    "#len(durations)\n",
    "#durationn  = pd.Series(tests,index=None).str.extract(r'(\\d+) min')\n",
    "#tests"
   ]
  },
  {
   "cell_type": "code",
   "execution_count": null,
   "metadata": {},
   "outputs": [],
   "source": [
    "movie_discrip = soup.find_all('p',class_=\"text-muted\")\n",
    "#movie_discrip\n",
    "discriptions=[]\n",
    "for discrip in movie_discrip:\n",
    "    discriptions.append((discrip.text))\n",
    "#discriptions"
   ]
  },
  {
   "cell_type": "code",
   "execution_count": null,
   "metadata": {},
   "outputs": [],
   "source": [
    "##Movie Genre\n",
    "movie_genre = soup.find_all('span',class_=\"genre\")\n",
    "genres=[]\n",
    "for genre in movie_genre:\n",
    "    genres.append(genre.text.replace(\"\\n\",\"\").strip('    '))\n",
    "#genres"
   ]
  },
  {
   "cell_type": "code",
   "execution_count": null,
   "metadata": {},
   "outputs": [],
   "source": [
    "##Movie Rating\n",
    "movie_rating = soup.find_all('div',class_=\"inline-block ratings-imdb-rating\")\n",
    "ratings=[]\n",
    "for rating in movie_rating:\n",
    "    ratings.append(rating.text.replace(\"\\n\",''))\n",
    "#ratings = [int(k) for k in ratings]\n",
    "#ratings\n",
    "\n",
    "##Movie Votes\n",
    "movie_votes = soup.find_all('p',class_=\"sort-num_votes-visible\")\n",
    "votes=[]\n",
    "\n",
    "for vote in movie_votes:\n",
    "    votes.append(vote.text.replace(\"\\n\", '').split(':')[1].replace(\",\", '').strip(\"| Gross\"))\n",
    "votes_int = [int(vot) for vot in votes]"
   ]
  },
  {
   "cell_type": "code",
   "execution_count": null,
   "metadata": {},
   "outputs": [],
   "source": [
    "#Movie directors and stars\n",
    "movie_director = soup.find_all('p',class_='')\n",
    "directors=[]\n",
    "starss=[]\n",
    "for director in movie_director:\n",
    "    directors.append(director.text.replace(\"\\n\",'').split('|')[0].split(':')[1].split(',')[0])\n",
    "    starss.append(director.text.replace(\"\\n\",'').split('Stars:')[1])\n",
    "#starss\n",
    "#directors"
   ]
  },
  {
   "cell_type": "code",
   "execution_count": null,
   "metadata": {},
   "outputs": [],
   "source": [
    "#For the next 50\n",
    "page2 = requests.get('https://www.imdb.com/search/title/?title_type=feature&genres=crime&start=51&explore=genres&ref_=adv_nxt')\n",
    "print(page)\n",
    "soup = BeautifulSoup(page2.content,'html.parser')\n"
   ]
  },
  {
   "cell_type": "code",
   "execution_count": null,
   "metadata": {},
   "outputs": [],
   "source": [
    "movie_title2 = soup.find_all('h3',class_=\"lister-item-header\")\n",
    "print(movie_title2)\n",
    "#movie_title2[2].find_all('a')\n",
    "\n",
    "# title2=[]\n",
    "# for movie2 in movie_title2:\n",
    "#     title2.append(movie2.text)\n",
    "# title2"
   ]
  },
  {
   "cell_type": "code",
   "execution_count": null,
   "metadata": {},
   "outputs": [],
   "source": []
  },
  {
   "cell_type": "code",
   "execution_count": null,
   "metadata": {},
   "outputs": [],
   "source": []
  },
  {
   "cell_type": "code",
   "execution_count": null,
   "metadata": {},
   "outputs": [],
   "source": []
  },
  {
   "cell_type": "code",
   "execution_count": null,
   "metadata": {},
   "outputs": [],
   "source": []
  },
  {
   "cell_type": "code",
   "execution_count": null,
   "metadata": {},
   "outputs": [],
   "source": []
  },
  {
   "cell_type": "code",
   "execution_count": null,
   "metadata": {},
   "outputs": [],
   "source": []
  },
  {
   "cell_type": "code",
   "execution_count": null,
   "metadata": {},
   "outputs": [],
   "source": []
  },
  {
   "cell_type": "code",
   "execution_count": null,
   "metadata": {},
   "outputs": [],
   "source": []
  },
  {
   "cell_type": "code",
   "execution_count": null,
   "metadata": {},
   "outputs": [],
   "source": []
  },
  {
   "cell_type": "code",
   "execution_count": null,
   "metadata": {},
   "outputs": [],
   "source": []
  },
  {
   "cell_type": "code",
   "execution_count": null,
   "metadata": {},
   "outputs": [],
   "source": []
  },
  {
   "cell_type": "code",
   "execution_count": null,
   "metadata": {},
   "outputs": [],
   "source": []
  },
  {
   "cell_type": "code",
   "execution_count": null,
   "metadata": {},
   "outputs": [],
   "source": []
  }
 ],
 "metadata": {
  "interpreter": {
   "hash": "b30284c3eb2fe4bedcae5b4d3ef6c8cdca82eb3ff0361126b1f813dcb02e6084"
  },
  "kernelspec": {
   "display_name": "Python 3.8.12 ('strive')",
   "language": "python",
   "name": "python3"
  },
  "language_info": {
   "codemirror_mode": {
    "name": "ipython",
    "version": 3
   },
   "file_extension": ".py",
   "mimetype": "text/x-python",
   "name": "python",
   "nbconvert_exporter": "python",
   "pygments_lexer": "ipython3",
   "version": "3.8.12"
  },
  "orig_nbformat": 4
 },
 "nbformat": 4,
 "nbformat_minor": 2
}
