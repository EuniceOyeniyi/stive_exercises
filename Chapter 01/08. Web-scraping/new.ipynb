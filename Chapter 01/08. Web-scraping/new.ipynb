{
 "cells": [
  {
   "cell_type": "code",
   "execution_count": 1,
   "metadata": {},
   "outputs": [],
   "source": [
    "import pandas as pd\n",
    "from datetime import timedelta, date\n",
    "import re\n",
    "import requests\n",
    "from bs4 import BeautifulSoup"
   ]
  },
  {
   "cell_type": "code",
   "execution_count": 2,
   "metadata": {},
   "outputs": [
    {
     "name": "stdout",
     "output_type": "stream",
     "text": [
      "<Response [200]>\n",
      "<Response [200]>\n"
     ]
    }
   ],
   "source": [
    "page = requests.get('https://www.imdb.com/search/title/?title_type=feature&genres=crime&genres=Crime&explore=genres&ref_=adv_explore_rhs')\n",
    "page2 = requests.get('https://www.imdb.com/search/title/?title_type=feature&genres=crime&start=51&explore=genres&ref_=adv_nxt')\n",
    "print(page)\n",
    "print(page2)\n",
    "soup = BeautifulSoup(page.content,'html.parser')\n",
    "soup2 = BeautifulSoup(page2.content,'html.parser')"
   ]
  },
  {
   "cell_type": "code",
   "execution_count": null,
   "metadata": {},
   "outputs": [],
   "source": [
    "##movie_title and year of release\n",
    "movie_title = soup.find_all('h3',class_=\"lister-item-header\")\n",
    "\n",
    "title=[]\n",
    "yearss=[]\n",
    "for movie in movie_title:\n",
    "    title.append(movie.text.replace(\"\\n\",\"\").split(\".\")[1].split(\"(\")[0])\n",
    "    yearss.append(re.findall('[0-9]+',(movie.text.replace(\"\\n\",\"\").split(\".\")[1])))\n",
    "\n",
    "#title\n",
    "#yearss\n",
    "\n"
   ]
  },
  {
   "cell_type": "code",
   "execution_count": null,
   "metadata": {},
   "outputs": [],
   "source": [
    "movie_test = soup.find_all('div',class_=\"lister-item-content\")\n",
    "\n",
    "tests=[]\n",
    "for test in movie_test:\n",
    "    tests.append(test.text.replace(\"\\n\",' '))\n",
    "#len(durations)\n",
    "#durationn  = pd.Series(tests,index=None).str.extract(r'(\\d+) min')\n",
    "#tests"
   ]
  },
  {
   "cell_type": "code",
   "execution_count": 21,
   "metadata": {},
   "outputs": [
    {
     "data": {
      "text/plain": [
       "[\"  1. The Batman (2022)   K-16 | 176 min |  Action, Crime, Drama                 8.4     Rate this       \\xa0 \\xa0  1 2 3 4 5 6 7 8 9 10  8.4/10 X \\xa0    72                 Metascore                When the Riddler, a sadistic serial killer, begins murdering key political figures in Gotham, Batman is forced to investigate the city's hidden corruption and question his family's involvement.      Director: Matt Reeves |      Stars: Robert Pattinson,  Zoë Kravitz,  Jeffrey Wright,  Colin Farrell   Votes: 232,659  \",\n",
       " '  2. West Side Story (2021)   K-12 | 156 min |  Crime, Drama, Musical                 7.5     Rate this       \\xa0 \\xa0  1 2 3 4 5 6 7 8 9 10  7.5/10 X \\xa0    85                 Metascore                An adaptation of the 1957 musical, West Side Story explores forbidden love and the rivalry between the Jets and the Sharks, two teenage street gangs of different ethnic backgrounds.      Director: Steven Spielberg |      Stars: Ansel Elgort,  Rachel Zegler,  Ariana DeBose,  David Alvarez   Votes: 50,562  ',\n",
       " '  3. The Weekend Away (2022)   89 min |  Crime, Drama, Mystery                 5.6     Rate this       \\xa0 \\xa0  1 2 3 4 5 6 7 8 9 10  5.6/10 X \\xa0    51                 Metascore                A weekend getaway to Croatia that goes awry when a woman is accused of killing her best friend. As she attempts to clear her name and uncover the truth, her efforts unearth a painful secret.      Director: Kim Farrant |      Stars: Leighton Meester,  Christina Wolfe,  Ziad Bakri,  Luke Norris   Votes: 12,512  ',\n",
       " '  4. Yön ritari (2008)   K-12 | 152 min |  Action, Crime, Drama                 9.1     Rate this       \\xa0 \\xa0  1 2 3 4 5 6 7 8 9 10  9.1/10 X \\xa0    84                 Metascore                When the menace known as the Joker wreaks havoc and chaos on the people of Gotham, Batman must accept one of the greatest psychological and physical tests of his ability to fight injustice.      Director: Christopher Nolan |      Stars: Christian Bale,  Heath Ledger,  Aaron Eckhart,  Michael Caine   Votes: 2,519,437 | Gross: $534.86M  ',\n",
       " '  5. Nightmare Alley (2021)   K-16 | 150 min |  Crime, Drama, Thriller                 7.1     Rate this       \\xa0 \\xa0  1 2 3 4 5 6 7 8 9 10  7.1/10 X \\xa0    70                 Metascore                An ambitious carny with a talent for manipulating people with a few well-chosen words hooks up with a female psychiatrist who is even more dangerous than he is.      Director: Guillermo del Toro |      Stars: Bradley Cooper,  Cate Blanchett,  Toni Collette,  Willem Dafoe   Votes: 81,545  ',\n",
       " '  6. Kuolema Niilillä (2022)   K-12 | 127 min |  Crime, Drama, Mystery                 6.6     Rate this       \\xa0 \\xa0  1 2 3 4 5 6 7 8 9 10  6.6/10 X \\xa0    52                 Metascore                While on vacation on the Nile, Hercule Poirot must investigate the murder of a young heiress.      Director: Kenneth Branagh |      Stars: Tom Bateman,  Annette Bening,  Kenneth Branagh,  Russell Brand   Votes: 30,065  ',\n",
       " '  7. Batman Begins (2005)   K-11 | 140 min |  Action, Crime, Drama                 8.3     Rate this       \\xa0 \\xa0  1 2 3 4 5 6 7 8 9 10  8.3/10 X \\xa0    70                 Metascore                After training with his mentor, Batman begins his fight to free crime-ridden Gotham City from corruption.      Director: Christopher Nolan |      Stars: Christian Bale,  Michael Caine,  Ken Watanabe,  Liam Neeson   Votes: 1,407,083 | Gross: $206.85M  ',\n",
       " '  8. House of Gucci (2021)   K-12 | 158 min |  Crime, Drama                 6.7     Rate this       \\xa0 \\xa0  1 2 3 4 5 6 7 8 9 10  6.7/10 X \\xa0    59                 Metascore                When Patrizia Reggiani, an outsider from humble beginnings, marries into the Gucci family, her unbridled ambition begins to unravel their legacy and triggers a reckless spiral of betrayal, decadence, revenge, and ultimately...murder.      Director: Ridley Scott |      Stars: Lady Gaga,  Adam Driver,  Al Pacino,  Jeremy Irons   Votes: 87,963  ',\n",
       " \"  9. Yön ritarin paluu (2012)   K-12 | 164 min |  Action, Crime, Drama                 8.4     Rate this       \\xa0 \\xa0  1 2 3 4 5 6 7 8 9 10  8.4/10 X \\xa0    78                 Metascore                Eight years after the Joker's reign of anarchy, Batman, with the help of the enigmatic Catwoman, is forced from his exile to save Gotham City from the brutal guerrilla terrorist Bane.      Director: Christopher Nolan |      Stars: Christian Bale,  Tom Hardy,  Anne Hathaway,  Gary Oldman   Votes: 1,631,596 | Gross: $448.14M  \",\n",
       " '  10. West Side Story (1961)   K-12 | 153 min |  Crime, Drama, Musical                 7.6     Rate this       \\xa0 \\xa0  1 2 3 4 5 6 7 8 9 10  7.6/10 X \\xa0    86                 Metascore                Two youngsters from rival New York City gangs fall in love, but tensions between their respective friends build toward tragedy.      Directors: Jerome Robbins,  Robert Wise |      Stars: Natalie Wood,  George Chakiris,  Richard Beymer,  Russ Tamblyn   Votes: 110,493 | Gross: $43.66M  ',\n",
       " \"  11. Fast & Furious 9 (2021)   K-12 | 143 min |  Action, Crime, Thriller                 5.2     Rate this       \\xa0 \\xa0  1 2 3 4 5 6 7 8 9 10  5.2/10 X \\xa0    58                 Metascore                Dom and the crew must take on an international terrorist who turns out to be Dom and Mia's estranged brother.      Director: Justin Lin |      Stars: Vin Diesel,  Michelle Rodriguez,  Jordana Brewster,  Tyrese Gibson   Votes: 117,056 | Gross: $173.20M  \",\n",
       " '  12. Texas Chainsaw Massacre (2022)   R | 83 min |  Crime, Horror, Thriller                 4.8     Rate this       \\xa0 \\xa0  1 2 3 4 5 6 7 8 9 10  4.8/10 X \\xa0    34                 Metascore                After nearly 50 years of hiding, Leatherface returns to terrorize a group of idealistic young friends who accidentally disrupt his carefully shielded world in a remote Texas town.      Director: David Blue Garcia |      Stars: Sarah Yarkin,  Elsie Fisher,  Mark Burnham,  Jacob Latimore   Votes: 40,192  ',\n",
       " '  13. Joker (I) (2019)   K-16 | 122 min |  Crime, Drama, Thriller                 8.4     Rate this       \\xa0 \\xa0  1 2 3 4 5 6 7 8 9 10  8.4/10 X \\xa0    59                 Metascore                In Gotham City, mentally troubled comedian Arthur Fleck is disregarded and mistreated by society. He then embarks on a downward spiral of revolution and bloody crime. This path brings him face-to-face with his alter-ego: the Joker.      Director: Todd Phillips |      Stars: Joaquin Phoenix,  Robert De Niro,  Zazie Beetz,  Frances Conroy   Votes: 1,160,956 | Gross: $335.45M  ',\n",
       " '  14. DC Superlemmikkien liiga (2022)    Animation, Action, Adventure             | Post-production   Krypto the Super-Dog and Superman are inseparable best friends, sharing the same superpowers and fighting crime side by side in Metropolis. However, Krypto must master his own powers for a rescue mission when Superman is kidnapped.      Directors: Jared Stern,  Sam Levine |      Stars: Dwayne Johnson,  Kevin Hart,  Vanessa Bayer,  Natasha Lyonne  ',\n",
       " '  15. Kummisetä (1972)   175 min |  Crime, Drama                 9.2     Rate this       \\xa0 \\xa0  1 2 3 4 5 6 7 8 9 10  9.2/10 X \\xa0    100                 Metascore                The aging patriarch of an organized crime dynasty in postwar New York City transfers control of his clandestine empire to his reluctant youngest son.      Director: Francis Ford Coppola |      Stars: Marlon Brando,  Al Pacino,  James Caan,  Diane Keaton   Votes: 1,761,963 | Gross: $134.97M  ',\n",
       " '  16. Batman - paluu (1992)   K-14 | 126 min |  Action, Crime, Fantasy                 7.1     Rate this       \\xa0 \\xa0  1 2 3 4 5 6 7 8 9 10  7.1/10 X \\xa0    68                 Metascore                While Batman deals with a deformed man calling himself the Penguin wreaking havoc across Gotham with the help of a cruel businessman, a female employee of the latter becomes the Catwoman with her own vendetta.      Director: Tim Burton |      Stars: Michael Keaton,  Danny DeVito,  Michelle Pfeiffer,  Christopher Walken   Votes: 295,638 | Gross: $162.83M  ',\n",
       " '  17. Kimi (2022)   R | 89 min |  Crime, Drama, Thriller                 6.3     Rate this       \\xa0 \\xa0  1 2 3 4 5 6 7 8 9 10  6.3/10 X \\xa0    78                 Metascore                An agoraphobic Seattle tech worker uncovers evidence of a crime.      Director: Steven Soderbergh |      Stars: Zoë Kravitz,  Byron Bowers,  Rita Wilson,  Erika Christensen   Votes: 17,435  ',\n",
       " '  18. Gangubai Kathiawadi (2022)   152 min |  Biography, Crime, Drama                 7.0     Rate this       \\xa0 \\xa0  1 2 3 4 5 6 7 8 9 10  7/10 X \\xa0     A woman becomes a powerful underworld figure.      Director: Sanjay Leela Bhansali |      Stars: Alia Bhatt,  Shantanu Maheshwari,  Vijay Raaz,  Indira Tiwari   Votes: 33,731  ',\n",
       " '  19. Veitset esiin - kaikki ovat epäiltyjä (2019)   K-12 | 130 min |  Comedy, Crime, Drama                 7.9     Rate this       \\xa0 \\xa0  1 2 3 4 5 6 7 8 9 10  7.9/10 X \\xa0    82                 Metascore                A detective investigates the death of the patriarch of an eccentric, combative family.      Director: Rian Johnson |      Stars: Daniel Craig,  Chris Evans,  Ana de Armas,  Jamie Lee Curtis   Votes: 579,441 | Gross: $165.36M  ',\n",
       " '  20. Nobody (I) (2021)   K-16 | 92 min |  Action, Crime, Drama                 7.4     Rate this       \\xa0 \\xa0  1 2 3 4 5 6 7 8 9 10  7.4/10 X \\xa0    64                 Metascore                A docile family man slowly reveals his true character after his house gets burgled by two petty thieves, which, coincidentally, leads him into a bloody war with a Russian crime boss.      Director: Ilya Naishuller |      Stars: Bob Odenkirk,  Aleksey Serebryakov,  Connie Nielsen,  Christopher Lloyd   Votes: 212,751 | Gross: $27.27M  ',\n",
       " '  21. Vihreä maili (1999)   K-16 | 189 min |  Crime, Drama, Fantasy                 8.6     Rate this       \\xa0 \\xa0  1 2 3 4 5 6 7 8 9 10  8.6/10 X \\xa0    61                 Metascore                The lives of guards on Death Row are affected by one of their charges: a black man accused of child murder and rape, yet who has a mysterious gift.      Director: Frank Darabont |      Stars: Tom Hanks,  Michael Clarke Duncan,  David Morse,  Bonnie Hunt   Votes: 1,244,806 | Gross: $136.80M  ',\n",
       " \"  22. Vangitut (2013)   K-16 | 153 min |  Crime, Drama, Mystery                 8.1     Rate this       \\xa0 \\xa0  1 2 3 4 5 6 7 8 9 10  8.1/10 X \\xa0    70                 Metascore                When Keller Dover's daughter and her friend go missing, he takes matters into his own hands as the police pursue multiple leads and the pressure mounts.      Director: Denis Villeneuve |      Stars: Hugh Jackman,  Jake Gyllenhaal,  Viola Davis,  Melissa Leo   Votes: 669,506 | Gross: $61.00M  \",\n",
       " '  23. Pulp Fiction: Tarinoita väkivallasta (1994)   R | 154 min |  Crime, Drama                 8.9     Rate this       \\xa0 \\xa0  1 2 3 4 5 6 7 8 9 10  8.9/10 X \\xa0    94                 Metascore                The lives of two mob hitmen, a boxer, a gangster and his wife, and a pair of diner bandits intertwine in four tales of violence and redemption.      Director: Quentin Tarantino |      Stars: John Travolta,  Uma Thurman,  Samuel L. Jackson,  Bruce Willis   Votes: 1,966,468 | Gross: $107.93M  ',\n",
       " '  24. The Wolf of Wall Street (2013)   K-16 | 180 min |  Biography, Comedy, Crime                 8.2     Rate this       \\xa0 \\xa0  1 2 3 4 5 6 7 8 9 10  8.2/10 X \\xa0    75                 Metascore                Based on the true story of Jordan Belfort, from his rise to a wealthy stock-broker living the high life to his fall involving crime, corruption and the federal government.      Director: Martin Scorsese |      Stars: Leonardo DiCaprio,  Jonah Hill,  Margot Robbie,  Matthew McConaughey   Votes: 1,324,147 | Gross: $116.90M  ',\n",
       " '  25. Killers of the Flower Moon (2022)    Crime, Drama, History             | Post-production   Members of the Osage tribe in the United States are murdered under mysterious circumstances in the 1920s sparking a major F.B.I. investigation involving J. Edgar Hoover.      Director: Martin Scorsese |      Stars: Jesse Plemons,  Leonardo DiCaprio,  Brendan Fraser,  Robert De Niro  ',\n",
       " '  26. Amerikan psyko (2000)   K-16 | 102 min |  Crime, Drama, Horror                 7.6     Rate this       \\xa0 \\xa0  1 2 3 4 5 6 7 8 9 10  7.6/10 X \\xa0    64                 Metascore                A wealthy New York City investment banking executive, Patrick Bateman, hides his alternate psychopathic ego from his co-workers and friends as he delves deeper into his violent, hedonistic fantasies.      Director: Mary Harron |      Stars: Christian Bale,  Justin Theroux,  Josh Lucas,  Bill Sage   Votes: 554,649 | Gross: $15.07M  ',\n",
       " \"  27. Suurenmoisen lahjakkuuden sietämätön taakaa (2022)    Action, Comedy, Crime                 8.8     Rate this       \\xa0 \\xa0  1 2 3 4 5 6 7 8 9 10  8.8/10 X \\xa0    78                 Metascore                A cash-strapped Nicolas Cage agrees to make a paid appearance at a billionaire super fan's birthday party, but is really an informant for the CIA since the billionaire fan is a drug kingpin and gets cast in a Tarantino movie.      Director: Tom Gormican |      Stars: Nicolas Cage,  Jacob Scipio,  Pedro Pascal,  Demi Moore   Votes: 125  \",\n",
       " '  28. Seitsemän (1995)   K-16 | 127 min |  Crime, Drama, Mystery                 8.6     Rate this       \\xa0 \\xa0  1 2 3 4 5 6 7 8 9 10  8.6/10 X \\xa0    65                 Metascore                Two detectives, a rookie and a veteran, hunt a serial killer who uses the seven deadly sins as his motives.      Director: David Fincher |      Stars: Morgan Freeman,  Brad Pitt,  Kevin Spacey,  Andrew Kevin Walker   Votes: 1,569,658 | Gross: $100.13M  ',\n",
       " '  29. The Devil All the Time (2020)   R | 138 min |  Crime, Drama, Thriller                 7.1     Rate this       \\xa0 \\xa0  1 2 3 4 5 6 7 8 9 10  7.1/10 X \\xa0    55                 Metascore                Sinister characters converge around a young man devoted to protecting those he loves in a postwar backwoods town teeming with corruption and brutality.      Director: Antonio Campos |      Stars: Bill Skarsgård,  Tom Holland,  Michael Banks Repeta,  Emilio Subercaseaux Campos   Votes: 123,831  ',\n",
       " \"  30. Good Time (2017)   K-16 | 102 min |  Crime, Drama, Thriller                 7.3     Rate this       \\xa0 \\xa0  1 2 3 4 5 6 7 8 9 10  7.3/10 X \\xa0    80                 Metascore                After a botched bank robbery lands his younger brother in prison, Connie Nikas embarks on a twisted odyssey through New York City's underworld to get his brother Nick out of jail.      Directors: Benny Safdie,  Josh Safdie |      Stars: Robert Pattinson,  Benny Safdie,  Jennifer Jason Leigh,  Buddy Duress   Votes: 113,026 | Gross: $2.03M  \",\n",
       " \"  31. The Outfit (2022)   R | 105 min |  Crime, Drama                 7.3     Rate this       \\xa0 \\xa0  1 2 3 4 5 6 7 8 9 10  7.3/10 X \\xa0    67                 Metascore                An expert tailor must outwit a dangerous group of mobsters in order to survive a fateful night.      Director: Graham Moore |      Stars: Mark Rylance,  Zoey Deutch,  Dylan O'Brien,  Johnny Flynn   Votes: 181  \",\n",
       " \"  32. Idän pikajunan arvoitus (2017)   K-12 | 114 min |  Crime, Drama, Mystery                 6.5     Rate this       \\xa0 \\xa0  1 2 3 4 5 6 7 8 9 10  6.5/10 X \\xa0    52                 Metascore                When a murder occurs on the train on which he's travelling, celebrated detective Hercule Poirot is recruited to solve the case.      Director: Kenneth Branagh |      Stars: Kenneth Branagh,  Penélope Cruz,  Willem Dafoe,  Judi Dench   Votes: 237,635 | Gross: $102.83M  \",\n",
       " \"  33. Kingsman: Kultainen kehä (2017)   K-16 | 141 min |  Action, Adventure, Comedy                 6.7     Rate this       \\xa0 \\xa0  1 2 3 4 5 6 7 8 9 10  6.7/10 X \\xa0    44                 Metascore                After the Kingsman's headquarters are destroyed and the world is held hostage, an allied spy organisation in the United States is discovered. These two elite secret organisations must band together to defeat a common enemy.      Director: Matthew Vaughn |      Stars: Taron Egerton,  Colin Firth,  Mark Strong,  Channing Tatum   Votes: 312,842 | Gross: $100.23M  \",\n",
       " '  34. Ambulance (2022)   R | 136 min |  Action, Crime, Drama             | Completed     8.6     Rate this       \\xa0 \\xa0  1 2 3 4 5 6 7 8 9 10  8.6/10 X \\xa0     Two robbers steal an ambulance after their heist goes awry.      Director: Michael Bay |      Stars: Jake Gyllenhaal,  Yahya Abdul-Mateen II,  Eiza González,  Garret Dillahunt   Votes: 92  ',\n",
       " '  35. The Gentlemen (2019)   K-16 | 113 min |  Action, Comedy, Crime                 7.8     Rate this       \\xa0 \\xa0  1 2 3 4 5 6 7 8 9 10  7.8/10 X \\xa0    51                 Metascore                An American expat tries to sell off his highly profitable marijuana empire in London, triggering plots, schemes, bribery and blackmail in an attempt to steal his domain out from under him.      Director: Guy Ritchie |      Stars: Matthew McConaughey,  Charlie Hunnam,  Michelle Dockery,  Jeremy Strong   Votes: 306,962  ',\n",
       " '  36. Miss Willoughby and the Haunted Bookshop (2021)   PG | 90 min |  Adventure, Crime, Mystery                 5.3     Rate this       \\xa0 \\xa0  1 2 3 4 5 6 7 8 9 10  5.3/10 X \\xa0     A University professor with an insatiable appetite for investigation is asked by some old family friends to investigate a series of hauntings at their antique bookstore.      Director: Brad Watson |      Stars: Nathalie Cox,  Kelsey Grammer,  Louise Bangay,  Tara Fitzgerald   Votes: 399  ',\n",
       " '  37. Zodiac (2007)   K-15 | 157 min |  Crime, Drama, Mystery                 7.7     Rate this       \\xa0 \\xa0  1 2 3 4 5 6 7 8 9 10  7.7/10 X \\xa0    78                 Metascore                Between 1968 and 1983, a San Francisco cartoonist becomes an amateur detective obsessed with tracking down the Zodiac Killer, an unidentified individual who terrorizes Northern California with a killing spree.      Director: David Fincher |      Stars: Jake Gyllenhaal,  Robert Downey Jr.,  Mark Ruffalo,  Anthony Edwards   Votes: 517,694 | Gross: $33.08M  ',\n",
       " '  38. Nightride (2021)   97 min |  Crime, Drama, Thriller                 5.7     Rate this       \\xa0 \\xa0  1 2 3 4 5 6 7 8 9 10  5.7/10 X \\xa0    51                 Metascore                Nightride is a real time, one shot thriller about a dealer trying to pull off one last job in order to go straight.      Director: Stephen Fingleton |      Stars: Moe Dunford,  Joana Ribeiro,  Gerard Jordan,  Ciaran Flynn   Votes: 368  ',\n",
       " \"  39. Sans répit (2022)   95 min |  Action, Crime, Thriller                 5.7     Rate this       \\xa0 \\xa0  1 2 3 4 5 6 7 8 9 10  5.7/10 X \\xa0     After going to extremes to cover up an accident, a corrupt cop's life spirals out of control when he starts receiving threats from a mysterious witness.      Director: Régis Blondeau |      Stars: Franck Gastambide,  Simon Abkarian,  Michaël Abiteboul,  Tracy Gotoas   Votes: 2,646  \",\n",
       " '  40. Hurja jengi (2022)   PG |  Animation, Adventure, Comedy             | Completed   Several reformed yet misunderstood criminal animals attempt to become good, with some disastrous results along the way.      Director: Pierre Perifel |      Stars: Sam Rockwell,  Awkwafina,  Anthony Ramos,  Marc Maron  ',\n",
       " '  41. Baby Driver (2017)   K-16 | 113 min |  Action, Crime, Drama                 7.6     Rate this       \\xa0 \\xa0  1 2 3 4 5 6 7 8 9 10  7.6/10 X \\xa0    86                 Metascore                After being coerced into working for a crime boss, a young getaway driver finds himself taking part in a heist doomed to fail.      Director: Edgar Wright |      Stars: Ansel Elgort,  Jon Bernthal,  Jon Hamm,  Eiza González   Votes: 504,373 | Gross: $107.83M  ',\n",
       " '  42. Wrath of Man (2021)   K-16 | 119 min |  Action, Crime, Thriller                 7.1     Rate this       \\xa0 \\xa0  1 2 3 4 5 6 7 8 9 10  7.1/10 X \\xa0    57                 Metascore                The plot follows H, a cold and mysterious character working at a cash truck company responsible for moving hundreds of millions of dollars around Los Angeles each week.      Director: Guy Ritchie |      Stars: Jason Statham,  Holt McCallany,  Josh Hartnett,  Rocci Williams   Votes: 153,526  ',\n",
       " '  43. Batgirl (2022)    Action, Adventure, Crime             | Filming   Based upon the popular DC character, Barbara Gordon dons the guise of Batgirl to fight crime.      Directors: Adil El Arbi,  Bilall Fallah |      Stars: Leslie Grace,  J.K. Simmons,  Michael Keaton,  Brendan Fraser  ',\n",
       " \"  44. The Many Saints of Newark (2021)   K-16 | 120 min |  Crime, Drama                 6.3     Rate this       \\xa0 \\xa0  1 2 3 4 5 6 7 8 9 10  6.3/10 X \\xa0    60                 Metascore                Witness the making of Tony Soprano. The story that reveals the humanity behind Tony's struggles and the influence his family - especially his uncle, Dickie Moltisanti - had over him becoming the most iconic mob boss of all time.      Director: Alan Taylor |      Stars: Alessandro Nivola,  Leslie Odom Jr.,  Jon Bernthal,  Vera Farmiga   Votes: 46,040  \",\n",
       " '  45. Menetetty maa (2007)   K-15 | 122 min |  Crime, Drama, Thriller                 8.2     Rate this       \\xa0 \\xa0  1 2 3 4 5 6 7 8 9 10  8.2/10 X \\xa0    91                 Metascore                Violence and mayhem ensue after a hunter stumbles upon a drug deal gone wrong and more than two million dollars in cash near the Rio Grande.      Directors: Ethan Coen,  Joel Coen |      Stars: Tommy Lee Jones,  Javier Bardem,  Josh Brolin,  Woody Harrelson   Votes: 932,326 | Gross: $74.28M  ',\n",
       " '  46. Cruella (2021)   PG-13 | 134 min |  Adventure, Comedy, Crime                 7.4     Rate this       \\xa0 \\xa0  1 2 3 4 5 6 7 8 9 10  7.4/10 X \\xa0    59                 Metascore                A live-action prequel feature film following a young Cruella de Vil.      Director: Craig Gillespie |      Stars: Emma Stone,  Emma Thompson,  Joel Fry,  Paul Walter Hauser   Votes: 214,255  ',\n",
       " '  47. Hiomattomat timantit (2019)   R | 135 min |  Crime, Drama, Thriller                 7.4     Rate this       \\xa0 \\xa0  1 2 3 4 5 6 7 8 9 10  7.4/10 X \\xa0    91                 Metascore                With his debts mounting and angry collectors closing in, a fast-talking New York City jeweler risks everything in hope of staying afloat and alive.      Directors: Benny Safdie,  Josh Safdie |      Stars: Adam Sandler,  Julia Fox,  Idina Menzel,  Mesfin Lamengo   Votes: 261,301  ',\n",
       " '  48. Uhrilampaat (1991)   118 min |  Crime, Drama, Thriller                 8.6     Rate this       \\xa0 \\xa0  1 2 3 4 5 6 7 8 9 10  8.6/10 X \\xa0    85                 Metascore                A young F.B.I. cadet must receive the help of an incarcerated and manipulative cannibal killer to help catch another serial killer, a madman who skins his victims.      Director: Jonathan Demme |      Stars: Jodie Foster,  Anthony Hopkins,  Lawrence A. Bonney,  Kasi Lemmons   Votes: 1,373,430 | Gross: $130.74M  ',\n",
       " \"  49. Leon (1994)   K-18 | 110 min |  Action, Crime, Drama                 8.6     Rate this       \\xa0 \\xa0  1 2 3 4 5 6 7 8 9 10  8.6/10 X \\xa0    64                 Metascore                12-year-old Mathilda is reluctantly taken in by Léon, a professional assassin, after her family is murdered. An unusual relationship forms as she becomes his protégée and learns the assassin's trade.      Director: Luc Besson |      Stars: Jean Reno,  Gary Oldman,  Natalie Portman,  Danny Aiello   Votes: 1,116,736 | Gross: $19.50M  \",\n",
       " '  50. Kummisetä osa II (1974)   K-12 | 202 min |  Crime, Drama                 9.0     Rate this       \\xa0 \\xa0  1 2 3 4 5 6 7 8 9 10  9/10 X \\xa0    90                 Metascore                The early life and career of Vito Corleone in 1920s New York City is portrayed, while his son, Michael, expands and tightens his grip on the family crime syndicate.      Director: Francis Ford Coppola |      Stars: Al Pacino,  Robert De Niro,  Robert Duvall,  Diane Keaton   Votes: 1,220,145 | Gross: $57.30M  ']"
      ]
     },
     "execution_count": 21,
     "metadata": {},
     "output_type": "execute_result"
    }
   ],
   "source": [
    "movie_duration = soup.find_all('div',class_=\"lister-item-content\")\n",
    "\n",
    "durations=[]\n",
    "# for duration in movie_duration:\n",
    "#     durations.append(duration.text.split('m')[0].strip(' '))\n",
    "# durations= [int(durat) for durat in durations]\n",
    "# len(durations)\n",
    "\n",
    "for duration in movie_duration:\n",
    "    durations.append(duration.text.replace(\"\\n\",' '))\n",
    "\n",
    "durations\n",
    "# durationss = pd.Series(durations,index=None).str.extract(r'(\\d+) min')\n",
    "# durationss"
   ]
  },
  {
   "cell_type": "code",
   "execution_count": null,
   "metadata": {},
   "outputs": [],
   "source": [
    "movie_discrip = soup.find_all('p',class_=\"text-muted\")\n",
    "#movie_discrip\n",
    "discriptions=[]\n",
    "for discrip in movie_discrip:\n",
    "    discriptions.append((discrip.text))\n",
    "#discriptions"
   ]
  },
  {
   "cell_type": "code",
   "execution_count": null,
   "metadata": {},
   "outputs": [],
   "source": [
    "##Movie Genre\n",
    "movie_genre = soup.find_all('span',class_=\"genre\")\n",
    "genres=[]\n",
    "for genre in movie_genre:\n",
    "    genres.append(genre.text.replace(\"\\n\",\"\").strip('    '))\n",
    "#genres"
   ]
  },
  {
   "cell_type": "code",
   "execution_count": null,
   "metadata": {},
   "outputs": [],
   "source": [
    "##Movie Rating\n",
    "movie_rating = soup.find_all('div',class_=\"inline-block ratings-imdb-rating\")\n",
    "ratings=[]\n",
    "for rating in movie_rating:\n",
    "    ratings.append(rating.text.replace(\"\\n\",''))\n",
    "#ratings = [int(k) for k in ratings]\n",
    "#ratings\n",
    "\n",
    "##Movie Votes\n",
    "movie_votes = soup.find_all('p',class_=\"sort-num_votes-visible\")\n",
    "votes=[]\n",
    "\n",
    "for vote in movie_votes:\n",
    "    votes.append(vote.text.replace(\"\\n\", '').split(':')[1].replace(\",\", '').strip(\"| Gross\"))\n",
    "votes_int = [int(vot) for vot in votes]"
   ]
  },
  {
   "cell_type": "code",
   "execution_count": null,
   "metadata": {},
   "outputs": [],
   "source": [
    "#Movie directors and stars\n",
    "movie_director = soup.find_all('p',class_='')\n",
    "directors=[]\n",
    "starss=[]\n",
    "for director in movie_director:\n",
    "    directors.append(director.text.replace(\"\\n\",'').split('|')[0].split(':')[1].split(',')[0])\n",
    "    starss.append(director.text.replace(\"\\n\",'').split('Stars:')[1])\n",
    "#starss\n",
    "#directors"
   ]
  },
  {
   "cell_type": "code",
   "execution_count": null,
   "metadata": {},
   "outputs": [],
   "source": [
    "#For the next 50\n",
    "page2 = requests.get('https://www.imdb.com/search/title/?title_type=feature&genres=crime&start=51&explore=genres&ref_=adv_nxt')\n",
    "print(page)\n",
    "soup = BeautifulSoup(page2.content,'html.parser')\n"
   ]
  },
  {
   "cell_type": "code",
   "execution_count": null,
   "metadata": {},
   "outputs": [],
   "source": [
    "movie_title2 = soup.find_all('h3',class_=\"lister-item-header\")\n",
    "print(movie_title2)\n",
    "#movie_title2[2].find_all('a')\n",
    "\n",
    "# title2=[]\n",
    "# for movie2 in movie_title2:\n",
    "#     title2.append(movie2.text)\n",
    "# title2"
   ]
  },
  {
   "cell_type": "code",
   "execution_count": null,
   "metadata": {},
   "outputs": [],
   "source": []
  },
  {
   "cell_type": "code",
   "execution_count": null,
   "metadata": {},
   "outputs": [],
   "source": []
  },
  {
   "cell_type": "code",
   "execution_count": null,
   "metadata": {},
   "outputs": [],
   "source": []
  },
  {
   "cell_type": "code",
   "execution_count": null,
   "metadata": {},
   "outputs": [],
   "source": []
  },
  {
   "cell_type": "code",
   "execution_count": null,
   "metadata": {},
   "outputs": [],
   "source": []
  },
  {
   "cell_type": "code",
   "execution_count": null,
   "metadata": {},
   "outputs": [],
   "source": []
  },
  {
   "cell_type": "code",
   "execution_count": null,
   "metadata": {},
   "outputs": [],
   "source": []
  },
  {
   "cell_type": "code",
   "execution_count": null,
   "metadata": {},
   "outputs": [],
   "source": []
  },
  {
   "cell_type": "code",
   "execution_count": null,
   "metadata": {},
   "outputs": [],
   "source": []
  },
  {
   "cell_type": "code",
   "execution_count": null,
   "metadata": {},
   "outputs": [],
   "source": []
  },
  {
   "cell_type": "code",
   "execution_count": null,
   "metadata": {},
   "outputs": [],
   "source": []
  },
  {
   "cell_type": "code",
   "execution_count": null,
   "metadata": {},
   "outputs": [],
   "source": []
  },
  {
   "cell_type": "code",
   "execution_count": null,
   "metadata": {},
   "outputs": [],
   "source": []
  }
 ],
 "metadata": {
  "interpreter": {
   "hash": "b30284c3eb2fe4bedcae5b4d3ef6c8cdca82eb3ff0361126b1f813dcb02e6084"
  },
  "kernelspec": {
   "display_name": "Python 3.8.12 ('strive')",
   "language": "python",
   "name": "python3"
  },
  "language_info": {
   "codemirror_mode": {
    "name": "ipython",
    "version": 3
   },
   "file_extension": ".py",
   "mimetype": "text/x-python",
   "name": "python",
   "nbconvert_exporter": "python",
   "pygments_lexer": "ipython3",
   "version": "3.8.12"
  },
  "orig_nbformat": 4
 },
 "nbformat": 4,
 "nbformat_minor": 2
}
