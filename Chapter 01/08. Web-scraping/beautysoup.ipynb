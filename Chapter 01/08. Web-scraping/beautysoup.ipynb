{
 "cells": [
  {
   "cell_type": "code",
   "execution_count": 101,
   "metadata": {},
   "outputs": [],
   "source": [
    "\n",
    "import pandas as pd\n",
    "from datetime import timedelta, date\n",
    "import re\n",
    "import requests\n",
    "from bs4 import BeautifulSoup"
   ]
  },
  {
   "cell_type": "code",
   "execution_count": 75,
   "metadata": {},
   "outputs": [
    {
     "name": "stdout",
     "output_type": "stream",
     "text": [
      "<Response [200]>\n"
     ]
    }
   ],
   "source": [
    "page = requests.get('https://forecast.weather.gov/MapClick.php?x=276&y=148&site=lox&zmx=&zmy=&map_x=276&map_y=148#.YisidHpBy1s')\n",
    "print(page)\n",
    "soup = BeautifulSoup(page.content,'html.parser')"
   ]
  },
  {
   "cell_type": "code",
   "execution_count": 82,
   "metadata": {},
   "outputs": [],
   "source": [
    "##Getting the days of the forcast\n",
    "day_forecast = soup.find_all('div',class_=\"col-sm-2 forecast-label\")\n",
    "days = []\n",
    "for i in day_forecast:\n",
    "    days.append(i.text)\n"
   ]
  },
  {
   "cell_type": "code",
   "execution_count": 102,
   "metadata": {},
   "outputs": [
    {
     "name": "stdout",
     "output_type": "stream",
     "text": [
      "2022-03-11\n",
      "2022-03-12\n",
      "2022-03-13\n",
      "2022-03-14\n",
      "2022-03-15\n",
      "2022-03-16\n",
      "2022-03-17\n",
      "2022-03-18\n"
     ]
    }
   ],
   "source": [
    "def daterange(date1, date2):\n",
    "    for n in range(int ((date2 - date1).days)+1):\n",
    "        yield date1 + timedelta(n)\n",
    "\n",
    "start_dt = date(2022, 3, 11)\n",
    "end_dt = date(2022, 3, 18)\n",
    "for dt in daterange(start_dt, end_dt):\n",
    "    print(dt.strftime(\"%Y-%m-%d\"))"
   ]
  },
  {
   "cell_type": "code",
   "execution_count": 83,
   "metadata": {},
   "outputs": [],
   "source": [
    "##Getting the forcast description for each day\n",
    "forecast_decription = soup.find_all('div',class_=\"col-sm-10 forecast-text\")\n",
    "description=[]\n",
    "for t in forecast_decription:\n",
    "    description.append(t.text)\n",
    "\n"
   ]
  },
  {
   "cell_type": "code",
   "execution_count": 94,
   "metadata": {},
   "outputs": [],
   "source": [
    "##Getting the temperature degree for each day\n",
    "temp_degree= []\n",
    "for z in description:\n",
    "    #kk.append(re.findall('[0-9]+',(z.split(',')[1].split('.')[0])))\n",
    "    #kk.append(z.split(',')[1].split('.')[0])\n",
    "    ###Finding the number in the sentence\n",
    "    temp_degree.append(re.findall('[0-9]+',(z.split(',')[1].split('.')[0])))\n",
    "###upacking a list of list\n",
    "temp_degree = [temp for sublist in temp_degree for temp in sublist]\n",
    "###converting list of strings into an integer\n",
    "temp_degree = [int(i) for i in temp_degree]\n",
    "    "
   ]
  },
  {
   "cell_type": "markdown",
   "metadata": {},
   "source": [
    "#### To covert Fahrenheit to Celsius\n",
    "$$\n",
    "C = F -32*\\frac{5}{9}\n",
    "$$"
   ]
  },
  {
   "cell_type": "code",
   "execution_count": 93,
   "metadata": {},
   "outputs": [
    {
     "data": {
      "text/plain": [
       "[8.33,\n",
       " 23.33,\n",
       " 7.22,\n",
       " 24.44,\n",
       " 9.44,\n",
       " 21.67,\n",
       " 9.44,\n",
       " 24.44,\n",
       " 11.67,\n",
       " 23.89,\n",
       " 11.11,\n",
       " 24.44,\n",
       " 11.11,\n",
       " 26.11]"
      ]
     },
     "execution_count": 93,
     "metadata": {},
     "output_type": "execute_result"
    }
   ],
   "source": [
    "temp_degree = [round((i-32)*(5/9),2) for i in temp_degree]\n",
    "temp_degree"
   ]
  },
  {
   "cell_type": "code",
   "execution_count": null,
   "metadata": {},
   "outputs": [],
   "source": []
  },
  {
   "cell_type": "code",
   "execution_count": 105,
   "metadata": {},
   "outputs": [
    {
     "data": {
      "text/html": [
       "<div>\n",
       "<style scoped>\n",
       "    .dataframe tbody tr th:only-of-type {\n",
       "        vertical-align: middle;\n",
       "    }\n",
       "\n",
       "    .dataframe tbody tr th {\n",
       "        vertical-align: top;\n",
       "    }\n",
       "\n",
       "    .dataframe thead th {\n",
       "        text-align: right;\n",
       "    }\n",
       "</style>\n",
       "<table border=\"1\" class=\"dataframe\">\n",
       "  <thead>\n",
       "    <tr style=\"text-align: right;\">\n",
       "      <th></th>\n",
       "      <th>Days</th>\n",
       "      <th>Description</th>\n",
       "      <th>Temp_degree</th>\n",
       "    </tr>\n",
       "  </thead>\n",
       "  <tbody>\n",
       "    <tr>\n",
       "      <th>0</th>\n",
       "      <td>Overnight</td>\n",
       "      <td>Mostly clear, with a low around 47. Northeast ...</td>\n",
       "      <td>47</td>\n",
       "    </tr>\n",
       "    <tr>\n",
       "      <th>1</th>\n",
       "      <td>Friday</td>\n",
       "      <td>Sunny, with a high near 74. North wind 5 to 10...</td>\n",
       "      <td>74</td>\n",
       "    </tr>\n",
       "    <tr>\n",
       "      <th>2</th>\n",
       "      <td>Friday Night</td>\n",
       "      <td>Mostly clear, with a low around 45. Northwest ...</td>\n",
       "      <td>45</td>\n",
       "    </tr>\n",
       "    <tr>\n",
       "      <th>3</th>\n",
       "      <td>Saturday</td>\n",
       "      <td>Sunny, with a high near 76. North northeast wi...</td>\n",
       "      <td>76</td>\n",
       "    </tr>\n",
       "    <tr>\n",
       "      <th>4</th>\n",
       "      <td>Saturday Night</td>\n",
       "      <td>Partly cloudy, with a low around 49. West sout...</td>\n",
       "      <td>49</td>\n",
       "    </tr>\n",
       "    <tr>\n",
       "      <th>5</th>\n",
       "      <td>Sunday</td>\n",
       "      <td>Mostly sunny, with a high near 71.</td>\n",
       "      <td>71</td>\n",
       "    </tr>\n",
       "    <tr>\n",
       "      <th>6</th>\n",
       "      <td>Sunday Night</td>\n",
       "      <td>Partly cloudy, with a low around 49.</td>\n",
       "      <td>49</td>\n",
       "    </tr>\n",
       "    <tr>\n",
       "      <th>7</th>\n",
       "      <td>Monday</td>\n",
       "      <td>Sunny, with a high near 76.</td>\n",
       "      <td>76</td>\n",
       "    </tr>\n",
       "    <tr>\n",
       "      <th>8</th>\n",
       "      <td>Monday Night</td>\n",
       "      <td>Mostly clear, with a low around 53.</td>\n",
       "      <td>53</td>\n",
       "    </tr>\n",
       "    <tr>\n",
       "      <th>9</th>\n",
       "      <td>Tuesday</td>\n",
       "      <td>Mostly sunny, with a high near 75.</td>\n",
       "      <td>75</td>\n",
       "    </tr>\n",
       "    <tr>\n",
       "      <th>10</th>\n",
       "      <td>Tuesday Night</td>\n",
       "      <td>Partly cloudy, with a low around 52.</td>\n",
       "      <td>52</td>\n",
       "    </tr>\n",
       "    <tr>\n",
       "      <th>11</th>\n",
       "      <td>Wednesday</td>\n",
       "      <td>Sunny, with a high near 76.</td>\n",
       "      <td>76</td>\n",
       "    </tr>\n",
       "    <tr>\n",
       "      <th>12</th>\n",
       "      <td>Wednesday Night</td>\n",
       "      <td>Mostly clear, with a low around 52.</td>\n",
       "      <td>52</td>\n",
       "    </tr>\n",
       "    <tr>\n",
       "      <th>13</th>\n",
       "      <td>Thursday</td>\n",
       "      <td>Sunny, with a high near 79.</td>\n",
       "      <td>79</td>\n",
       "    </tr>\n",
       "  </tbody>\n",
       "</table>\n",
       "</div>"
      ],
      "text/plain": [
       "               Days                                        Description  \\\n",
       "0         Overnight  Mostly clear, with a low around 47. Northeast ...   \n",
       "1            Friday  Sunny, with a high near 74. North wind 5 to 10...   \n",
       "2      Friday Night  Mostly clear, with a low around 45. Northwest ...   \n",
       "3          Saturday  Sunny, with a high near 76. North northeast wi...   \n",
       "4    Saturday Night  Partly cloudy, with a low around 49. West sout...   \n",
       "5            Sunday                 Mostly sunny, with a high near 71.   \n",
       "6      Sunday Night               Partly cloudy, with a low around 49.   \n",
       "7            Monday                        Sunny, with a high near 76.   \n",
       "8      Monday Night                Mostly clear, with a low around 53.   \n",
       "9           Tuesday                 Mostly sunny, with a high near 75.   \n",
       "10    Tuesday Night               Partly cloudy, with a low around 52.   \n",
       "11        Wednesday                        Sunny, with a high near 76.   \n",
       "12  Wednesday Night                Mostly clear, with a low around 52.   \n",
       "13         Thursday                        Sunny, with a high near 79.   \n",
       "\n",
       "    Temp_degree  \n",
       "0            47  \n",
       "1            74  \n",
       "2            45  \n",
       "3            76  \n",
       "4            49  \n",
       "5            71  \n",
       "6            49  \n",
       "7            76  \n",
       "8            53  \n",
       "9            75  \n",
       "10           52  \n",
       "11           76  \n",
       "12           52  \n",
       "13           79  "
      ]
     },
     "execution_count": 105,
     "metadata": {},
     "output_type": "execute_result"
    }
   ],
   "source": [
    "## Creating a dataframe\n",
    "data =pd.DataFrame({'Days':days,'Description':description,'Temp_degree':temp_degree}) \n",
    "data"
   ]
  },
  {
   "cell_type": "code",
   "execution_count": null,
   "metadata": {},
   "outputs": [],
   "source": []
  },
  {
   "cell_type": "code",
   "execution_count": null,
   "metadata": {},
   "outputs": [],
   "source": [
    "temp = soup.find('p',class_='myforecast-current-lrg') \n",
    "#print(temp)#does give the needed format as we only need the temperature\n",
    "print(temp.get_text()) #This gives the needed temp figure\n",
    "print(temp.text) #same as get_text()\n",
    "\n"
   ]
  },
  {
   "cell_type": "code",
   "execution_count": null,
   "metadata": {},
   "outputs": [],
   "source": [
    "#Getting same result sequentially\n",
    "div  = soup.find_all('div',id=\"current_conditions-summary\")\n",
    "#print(div)\n",
    "clearr= div[0].find_all('p')[1]\n",
    "#print(clearr.text)\n",
    "\n",
    "\n",
    "'''To print all the text in the p we do this:'''\n",
    "allps= div[0].find_all('p')\n",
    "for p in allps:\n",
    "    print(p.text)"
   ]
  }
 ],
 "metadata": {
  "interpreter": {
   "hash": "b30284c3eb2fe4bedcae5b4d3ef6c8cdca82eb3ff0361126b1f813dcb02e6084"
  },
  "kernelspec": {
   "display_name": "Python 3.8.12 ('strive')",
   "language": "python",
   "name": "python3"
  },
  "language_info": {
   "codemirror_mode": {
    "name": "ipython",
    "version": 3
   },
   "file_extension": ".py",
   "mimetype": "text/x-python",
   "name": "python",
   "nbconvert_exporter": "python",
   "pygments_lexer": "ipython3",
   "version": "3.9.7"
  },
  "orig_nbformat": 4
 },
 "nbformat": 4,
 "nbformat_minor": 2
}
