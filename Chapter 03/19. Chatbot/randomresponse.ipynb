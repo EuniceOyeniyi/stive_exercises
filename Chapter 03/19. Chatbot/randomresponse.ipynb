{
 "cells": [
  {
   "cell_type": "code",
   "execution_count": 1,
   "metadata": {},
   "outputs": [],
   "source": [
    "import random\n",
    "\n",
    "def random_resp():\n",
    "    random_list =[\n",
    "        'Please trying writng something more descriptive',\n",
    "        \"Oh! it appears you wrote something I don't understand yet\",\n",
    "        \"Do you mind trying to rephrase that?\",\n",
    "        \"I'm terribly sorry, I don't quite catch that!\",\n",
    "        \"I'm unable to give an answer to that yet, can I help with something else?\"]\n",
    "\n",
    "    list_count = len(random_list)\n",
    "    random_item = random.randrange(list_count)\n",
    "    return random_list[random_item]\n"
   ]
  }
 ],
 "metadata": {
  "kernelspec": {
   "display_name": "Python 3.10.4 ('env')",
   "language": "python",
   "name": "python3"
  },
  "language_info": {
   "codemirror_mode": {
    "name": "ipython",
    "version": 3
   },
   "file_extension": ".py",
   "mimetype": "text/x-python",
   "name": "python",
   "nbconvert_exporter": "python",
   "pygments_lexer": "ipython3",
   "version": "3.10.4"
  },
  "orig_nbformat": 4,
  "vscode": {
   "interpreter": {
    "hash": "5a80a721eddef92e831e6e272c4656ac3b1576e9f7df1307f67eb40125234cad"
   }
  }
 },
 "nbformat": 4,
 "nbformat_minor": 2
}
