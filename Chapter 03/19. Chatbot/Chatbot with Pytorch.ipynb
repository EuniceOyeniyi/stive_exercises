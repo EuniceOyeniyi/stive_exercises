{
 "cells": [
  {
   "cell_type": "code",
   "execution_count": 2,
   "metadata": {},
   "outputs": [],
   "source": [
    "# NLP Lecture @ Strive School - 21st July 2021\n",
    "# CHATBOT with Pytorch\n",
    "\n",
    "'''\n",
    "Chatbots are essential for speeding up user assistance and reducing waiting times. Chatbots can quickly extract important information such as demographics, symptoms, health insurance information and assist any patients by making appointments with specialists.\n",
    "\n",
    "Imagine having to design a tool that allows preliminary assistance for those who must access a treatment path or must make a reservation for a specialist visit.\n",
    "\n",
    "Create a dataset using the template provided as a base and prepare at least 5 different intents with 4/5 responses each.\n",
    "\n",
    "The final result must ensure that users can have a dialogue of at least 3 questions and 3 answers consistent with the context.\n",
    "\n",
    "Example\n",
    "A: Hello MedAssistant.\n",
    "B: Hello. How can I help you?\n",
    "A: I don't feel well.\n",
    "B: Do you have any symptoms?\n",
    "A: I have cough and nausea.\n",
    "B: Do you want to book an appointment?\n",
    "A: Yes, please, for tomorrow.\n",
    "\n",
    "\n",
    "Info:\n",
    "- Feel free to change or arrange a new dataset of intents\n",
    "- Try experimenting and tuning with the hyperparameters\n",
    "- Feel free to use or change the code you've seen during the morning session\n",
    "- TBD = To be done (from you!) :)\n",
    "'''"
   ]
  },
  {
   "cell_type": "code",
   "execution_count": 48,
   "metadata": {},
   "outputs": [],
   "source": [
    "import numpy as np\n",
    "import json\n",
    "\n",
    "import nltk\n",
    "# nltk.download()\n",
    "\n",
    "import torch\n",
    "import torch.nn as nn\n",
    "from torch.utils.data import Dataset, DataLoader\n",
    "\n",
    "from nltk_utils import bag_of_words, tokenize, stem\n",
    "from model import NeuralNet"
   ]
  },
  {
   "cell_type": "code",
   "execution_count": 53,
   "metadata": {},
   "outputs": [
    {
     "name": "stdout",
     "output_type": "stream",
     "text": [
      "['Hi', 'Hey', 'How', 'are', 'you', 'Is', 'anyone', 'there', '?', 'Hello', 'Good', 'day', 'Good', 'evening', 'Good', 'night', 'Bye', 'See', 'you', 'later', 'Goodbye', 'Thanks', 'Thank', 'you', 'That', \"'s\", 'helpful', 'Thank', \"'s\", 'a', 'lot', '!', 'Which', 'hamburgers', 'do', 'you', 'have', '?', 'What', 'kinds', 'of', 'courses', 'are', 'there', '?', 'What', 'do', 'you', 'cook', '?', 'Can', 'I', 'order', 'a', 'coke', '?', 'I', \"'m\", 'hungry', 'We', \"'re\", 'starving', 'I', \"'d\", 'like', 'to', 'have', 'a', 'pizza', 'Do', 'you', 'take', 'credit', 'cards', '?', 'Do', 'you', 'accept', 'Mastercard', '?', 'Can', 'I', 'pay', 'with', 'Apple', 'Pay', 'or', 'Paypal', '?', 'Can', 'I', 'pay', 'with', 'cash', '?', 'How', 'long', 'does', 'delivery', 'take', '?', 'How', 'long', 'does', 'shipping', 'take', '?', 'When', 'do', 'I', 'get', 'my', 'delivery', '?', 'Tell', 'me', 'a', 'joke', '!', 'Tell', 'me', 'something', 'funny', '!', 'Let', 'me', 'laugh', '!']\n",
      "\n",
      " ...........................\n",
      "['greeting', 'goodbye', 'thanks', 'food', 'payments', 'delivery', 'miscellaneous']\n",
      "\n",
      "...........................\n",
      "[(['Hi'], 'greeting'), (['Hey'], 'greeting'), (['How', 'are', 'you'], 'greeting'), (['Is', 'anyone', 'there', '?'], 'greeting'), (['Hello'], 'greeting'), (['Good', 'day'], 'greeting'), (['Good', 'evening'], 'greeting'), (['Good', 'night'], 'greeting'), (['Bye'], 'goodbye'), (['See', 'you', 'later'], 'goodbye'), (['Goodbye'], 'goodbye'), (['Thanks'], 'thanks'), (['Thank', 'you'], 'thanks'), (['That', \"'s\", 'helpful'], 'thanks'), (['Thank', \"'s\", 'a', 'lot', '!'], 'thanks'), (['Which', 'hamburgers', 'do', 'you', 'have', '?'], 'food'), (['What', 'kinds', 'of', 'courses', 'are', 'there', '?'], 'food'), (['What', 'do', 'you', 'cook', '?'], 'food'), (['Can', 'I', 'order', 'a', 'coke', '?'], 'food'), (['I', \"'m\", 'hungry'], 'food'), (['We', \"'re\", 'starving'], 'food'), (['I', \"'d\", 'like', 'to', 'have', 'a', 'pizza'], 'food'), (['Do', 'you', 'take', 'credit', 'cards', '?'], 'payments'), (['Do', 'you', 'accept', 'Mastercard', '?'], 'payments'), (['Can', 'I', 'pay', 'with', 'Apple', 'Pay', 'or', 'Paypal', '?'], 'payments'), (['Can', 'I', 'pay', 'with', 'cash', '?'], 'payments'), (['How', 'long', 'does', 'delivery', 'take', '?'], 'delivery'), (['How', 'long', 'does', 'shipping', 'take', '?'], 'delivery'), (['When', 'do', 'I', 'get', 'my', 'delivery', '?'], 'delivery'), (['Tell', 'me', 'a', 'joke', '!'], 'miscellaneous'), (['Tell', 'me', 'something', 'funny', '!'], 'miscellaneous'), (['Let', 'me', 'laugh', '!'], 'miscellaneous')]\n"
     ]
    }
   ],
   "source": [
    "# STEP 0: find intents patterns\n",
    "\n",
    "with open('intents.json', 'r') as f:\n",
    "    intents = json.load(f)\n",
    "\n",
    "all_words = []\n",
    "tags = []\n",
    "patterns = []\n",
    "for intent in intents['intents']:   \n",
    "# TBD: loop through each sentence in our intents patterns, create a list of tags and define the patterns\n",
    "    tag = intent['tag']\n",
    "    tags.append(tag)\n",
    "    for pattern in intent['patterns']:\n",
    "        wordd = tokenize(pattern)\n",
    "        all_words.extend(wordd)\n",
    "        patterns.append((wordd,tag))\n",
    "\n",
    "print(all_words)\n",
    "print('\\n ...........................')\n",
    "print(tags)\n",
    "print('\\n...........................')\n",
    "print(patterns)"
   ]
  },
  {
   "cell_type": "code",
   "execution_count": null,
   "metadata": {},
   "outputs": [],
   "source": [
    "# STEP 1: Pre-process of the input\n",
    "\n",
    "# lower case? stemming? stopwords?\n",
    "# TBD"
   ]
  },
  {
   "cell_type": "code",
   "execution_count": 38,
   "metadata": {},
   "outputs": [],
   "source": [
    "# from nltk.stem.porter import PorterStemmer\n",
    "# stemmer = PorterStemmer()"
   ]
  },
  {
   "cell_type": "code",
   "execution_count": 57,
   "metadata": {},
   "outputs": [
    {
     "name": "stdout",
     "output_type": "stream",
     "text": [
      "['delivery', 'food', 'goodbye', 'greeting', 'miscellaneous', 'payments', 'thanks']\n"
     ]
    }
   ],
   "source": [
    "#Ignoring punctuations \n",
    "\n",
    "import string\n",
    "punct = string.punctuation\n",
    "\n",
    "all_words = [stem(punc) for punc in all_words if punc not in punct]\n",
    "#set removes all the repeated words\n",
    "all_words = sorted(set(all_words))\n",
    "tags = sorted(set(tags))\n",
    "print(tags)"
   ]
  },
  {
   "cell_type": "code",
   "execution_count": 64,
   "metadata": {},
   "outputs": [],
   "source": [
    "# STEP 2: Define training data through a bag of words\n",
    "\n",
    "X_train = []\n",
    "y_train = []\n",
    "for (pattern_sentence, tag) in patterns:\n",
    "\n",
    "    bag = bag_of_words(pattern_sentence, all_words)\n",
    "    X_train.append(bag)\n",
    "    label = tags.index(tag)\n",
    "    y_train.append(label)\n",
    "\n",
    "X_train = np.array(X_train)\n",
    "y_train = np.array(y_train)\n"
   ]
  },
  {
   "cell_type": "code",
   "execution_count": 68,
   "metadata": {},
   "outputs": [
    {
     "name": "stdout",
     "output_type": "stream",
     "text": [
      "Epoch[100/1000], loss:0.6439\n",
      "Epoch[200/1000], loss:0.1789\n",
      "Epoch[300/1000], loss:0.0083\n",
      "Epoch[400/1000], loss:0.0038\n",
      "Epoch[500/1000], loss:0.0027\n",
      "Epoch[600/1000], loss:0.0014\n",
      "Epoch[700/1000], loss:0.0012\n",
      "Epoch[800/1000], loss:0.0003\n",
      "Epoch[900/1000], loss:0.0018\n",
      "Epoch[1000/1000], loss:0.0003\n",
      "final loss: 0.0003 \n"
     ]
    }
   ],
   "source": [
    "# STEP 3: Configure the neural network\n",
    "\n",
    "# define each parameter that is equal to 0 using an empirical value or a value based on your experience\n",
    "# TBD\n",
    "\n",
    "num_epochs = 1000   \n",
    "batch_size = 8\n",
    "learning_rate = 0.001\n",
    "input_size = len(X_train[0])\n",
    "hidden_size = 8\n",
    "output_size = len(tags)\n",
    "\n",
    "# STEP 4: Train the model\n",
    "\n",
    "class ChatDataset(Dataset):\n",
    "\n",
    "    def __init__(self):\n",
    "        self.n_samples = len(X_train)\n",
    "        self.x_data = X_train\n",
    "        self.y_data = y_train\n",
    "\n",
    "    # support indexing such that dataset[i] can be used to get i-th sample\n",
    "    def __getitem__(self, index):\n",
    "        return self.x_data[index], self.y_data[index]\n",
    "\n",
    "    # we can call len(dataset) to return the size\n",
    "    def __len__(self):\n",
    "        return self.n_samples\n",
    "\n",
    "dataset = ChatDataset()\n",
    "train_loader = DataLoader(dataset=dataset,\n",
    "                          batch_size=batch_size,\n",
    "                          shuffle=True,\n",
    "                          num_workers=0)\n",
    "\n",
    "device = torch.device('cuda' if torch.cuda.is_available() else 'cpu')\n",
    "\n",
    "model = NeuralNet(input_size, hidden_size, output_size).to(device)\n",
    "\n",
    "# Define loss and optimizer: which one is the best one?\n",
    "# TBD\n",
    "criterion = nn.CrossEntropyLoss()\n",
    "\n",
    "optimizer = torch.optim.Adam(model.parameters(),lr = learning_rate)\n",
    "\n",
    "# Train the model\n",
    "for epoch in range(num_epochs):\n",
    "    for (words, labels) in train_loader:\n",
    "        words = words.to(device)\n",
    "        labels = labels.to(dtype=torch.long).to(device)\n",
    "\n",
    "        # Forward pass\n",
    "        outputs = model(words)\n",
    "        # if y would be one-hot, we must apply\n",
    "        # labels = torch.max(labels, 1)[1]\n",
    "        loss = criterion(outputs, labels)\n",
    "\n",
    "        # Backward and optimize\n",
    "        optimizer.zero_grad()\n",
    "        loss.backward()\n",
    "        optimizer.step()\n",
    "\n",
    "    if (epoch + 1) % 100 == 0:\n",
    "        print(f'Epoch[{epoch + 1}/{num_epochs}], loss:{loss.item():.4f}')\n",
    "print(f'final loss: {loss.item():.4f} ')\n",
    "\n",
    "\n"
   ]
  },
  {
   "cell_type": "code",
   "execution_count": 70,
   "metadata": {},
   "outputs": [
    {
     "name": "stdout",
     "output_type": "stream",
     "text": [
      "training complete. file saved!\n"
     ]
    }
   ],
   "source": [
    "# STEP 5: Save the model\n",
    "\n",
    "# TBD: name and save the model\n",
    "data = {\n",
    "    \"model_state\": model.state_dict(),\n",
    "    \"input_size\": input_size,\n",
    "    \"hidden_size\": hidden_size,\n",
    "    \"output_size\": output_size,\n",
    "    \"all_words\": all_words,\n",
    "    \"tags\": tags\n",
    "}\n",
    "file = 'train.pth'\n",
    "torch.save(data,file)\n",
    "print(f'training complete. file saved!')"
   ]
  },
  {
   "cell_type": "code",
   "execution_count": null,
   "metadata": {},
   "outputs": [],
   "source": [
    "# STEP 6: Test the model\n",
    "\n",
    "device = torch.device('cuda' if torch.cuda.is_available() else 'cpu')\n",
    "\n",
    "# TBD: Load the intents file\n",
    "\n",
    "# TBD: Retrieve the model and all the sizings\n",
    "\n",
    "# TBD: build the NN\n",
    "\n",
    "# TBD: prepare a command-line conversation (don't forget something to make the user exit the script!)"
   ]
  }
 ],
 "metadata": {
  "kernelspec": {
   "display_name": "Python 3.10.4 ('env')",
   "language": "python",
   "name": "python3"
  },
  "language_info": {
   "codemirror_mode": {
    "name": "ipython",
    "version": 3
   },
   "file_extension": ".py",
   "mimetype": "text/x-python",
   "name": "python",
   "nbconvert_exporter": "python",
   "pygments_lexer": "ipython3",
   "version": "3.10.4"
  },
  "vscode": {
   "interpreter": {
    "hash": "5a80a721eddef92e831e6e272c4656ac3b1576e9f7df1307f67eb40125234cad"
   }
  }
 },
 "nbformat": 4,
 "nbformat_minor": 2
}
