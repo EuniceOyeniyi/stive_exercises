{
 "cells": [
  {
   "cell_type": "markdown",
   "metadata": {},
   "source": [
    "<div style=\"background:#222222; color:#ffffff; padding:20px\">\n",
    "    <h2 align=\"center\">Deep Learning Fundamentals</h2>\n",
    "    <h2 align=\"center\" style=\"color:#01ff84\">Multiclass Clasification: MNIST</h2>\n",
    "<div>"
   ]
  },
  {
   "cell_type": "markdown",
   "metadata": {},
   "source": [
    "## Imports"
   ]
  },
  {
   "cell_type": "code",
   "execution_count": 1,
   "metadata": {},
   "outputs": [],
   "source": [
    "%matplotlib inline\n",
    "%config InlineBackend.figure_format = 'retina'\n",
    "\n",
    "from collections import OrderedDict\n",
    "\n",
    "import numpy as np\n",
    "import matplotlib.pyplot as plt\n",
    "import time\n",
    "\n",
    "import torch\n",
    "from torch import nn\n",
    "from torch import optim\n",
    "import torch.nn.functional as F\n",
    "\n",
    "from torchvision import datasets, transforms"
   ]
  },
  {
   "cell_type": "markdown",
   "metadata": {},
   "source": [
    "## Auxliary plotting function"
   ]
  },
  {
   "cell_type": "code",
   "execution_count": 2,
   "metadata": {},
   "outputs": [],
   "source": [
    "# https://discuss.pytorch.org/t/view-classify-in-module-helper/30279/6\n",
    "\n",
    "def view_classify(img, ps):\n",
    "\n",
    "    ps = ps.data.numpy().squeeze()\n",
    "\n",
    "    fig, (ax1, ax2) = plt.subplots(figsize=(6,9), ncols=2)\n",
    "    ax1.imshow(img.resize_(1, 28, 28).numpy().squeeze())\n",
    "    ax1.axis('off')\n",
    "    ax2.barh(np.arange(10), ps)\n",
    "    ax2.set_aspect(0.1)\n",
    "    ax2.set_yticks(np.arange(10))\n",
    "    ax2.set_yticklabels(np.arange(10))\n",
    "    ax2.set_title('Class Probability')\n",
    "    ax2.set_xlim(0, 1.1)"
   ]
  },
  {
   "cell_type": "markdown",
   "metadata": {},
   "source": [
    "# Load MNIST Dataset\n",
    "First up, we need to get our dataset. This is provided through the `torchvision` package. The code below will download the MNIST dataset, then create training and test datasets for us. Don't worry too much about the details here, you'll learn more about this later."
   ]
  },
  {
   "cell_type": "code",
   "execution_count": 3,
   "metadata": {},
   "outputs": [],
   "source": [
    "# Define a transform to normalize the data (Preprocessing)\n",
    "transform = transforms.Compose([transforms.ToTensor(), transforms.Normalize((0.5), (0.5)) ])\n",
    "\n",
    "# Download and load the training data\n",
    "trainset    = datasets.MNIST('MNIST_data/', download=True, train=True, transform=transform)\n",
    "trainloader = torch.utils.data.DataLoader(trainset, batch_size=64, shuffle=True)\n",
    "\n",
    "# Download and load the test data\n",
    "testset    = datasets.MNIST('MNIST_data/', download=True, train=False, transform=transform)\n",
    "testloader = torch.utils.data.DataLoader(testset, batch_size=64, shuffle=True)"
   ]
  },
  {
   "cell_type": "code",
   "execution_count": 4,
   "metadata": {},
   "outputs": [],
   "source": [
    "dataiter = iter(trainloader)\n",
    "images, labels = dataiter.next()"
   ]
  },
  {
   "cell_type": "markdown",
   "metadata": {},
   "source": [
    "We have the training data loaded into `trainloader` and we make that an iterator with `iter(trainloader)`. We'd use this to loop through the dataset for training, but here I'm just grabbing the first batch so we can check out the data. We can see below that `images` is just a tensor with size (64, 1, 28, 28). So, 64 images per batch, 1 color channel, and 28x28 images."
   ]
  },
  {
   "cell_type": "code",
   "execution_count": 5,
   "metadata": {},
   "outputs": [
    {
     "data": {
      "image/png": "[encoded data removed]",
      "text/plain": [
       "<Figure size 432x288 with 1 Axes>"
      ]
     },
     "metadata": {
      "image/png": {
       "height": 248,
       "width": 251
      },
      "needs_background": "light"
     },
     "output_type": "display_data"
    }
   ],
   "source": [
    "plt.imshow(images[1].numpy().squeeze(), cmap='Greys_r');"
   ]
  },
  {
   "cell_type": "markdown",
   "metadata": {},
   "source": [
    "## Building networks with PyTorch\n",
    "\n",
    "Here I'll use PyTorch to build a simple feedfoward network to classify the MNIST images. That is, the network will receive a digit image as input and predict the digit in the image.\n",
    "\n",
    "<img src=\"assets/mlp_mnist.png\" width=600px>\n",
    "\n",
    "To build a neural network with PyTorch, you use the `torch.nn` module. The network itself is a class inheriting from `torch.nn.Module`. You define each of the operations separately, like `nn.Linear(784, 128)` for a fully connected linear layer with 784 inputs and 128 units.\n",
    "\n",
    "The class needs to include a `forward` method that implements the forward pass through the network. In this method, you pass some input tensor `x` through each of the operations you defined earlier. The `torch.nn` module also has functional equivalents for things like ReLUs in `torch.nn.functional`. This module is usually imported as `F`. Then to use a ReLU activation on some layer (which is just a tensor), you'd do `F.relu(x)`. Below are a few different commonly used activation functions.\n",
    "\n",
    "<img src=\"assets/activation.png\" width=700px>\n",
    "\n",
    "So, for this network, I'll build it with three fully connected layers, then a softmax output for predicting classes. The softmax function is similar to the sigmoid in that it squashes inputs between 0 and 1, but it's also normalized so that all the values sum to one like a proper probability distribution."
   ]
  },
  {
   "cell_type": "code",
   "execution_count": 6,
   "metadata": {},
   "outputs": [
    {
     "data": {
      "text/plain": [
       "Network(\n",
       "  (fc1): Linear(in_features=784, out_features=128, bias=True)\n",
       "  (fc2): Linear(in_features=128, out_features=64, bias=True)\n",
       "  (fc3): Linear(in_features=64, out_features=10, bias=True)\n",
       ")"
      ]
     },
     "execution_count": 6,
     "metadata": {},
     "output_type": "execute_result"
    }
   ],
   "source": [
    "class Network(nn.Module):\n",
    "    \n",
    "    # Defining the layers, 128, 64, 10 units each\n",
    "    def __init__(self):\n",
    "        super().__init__()\n",
    "        self.fc1 = nn.Linear(784, 128)\n",
    "        self.fc2 = nn.Linear(128, 64)\n",
    "        self.fc3 = nn.Linear(64, 10)\n",
    "        \n",
    "    # Forward pass through the network, returns the output logits\n",
    "    def forward(self, x):\n",
    "        x = self.fc1(x)\n",
    "        x = F.relu(x)\n",
    "        x = self.fc2(x)\n",
    "        x = F.relu(x)\n",
    "        x = self.fc3(x)\n",
    "        x = F.softmax(x, dim=1)\n",
    "        return x\n",
    "\n",
    "model = Network()\n",
    "model"
   ]
  },
  {
   "cell_type": "markdown",
   "metadata": {},
   "source": [
    "### Sequential API\n",
    "PyTorch provides a convenient way to build networks like this where a tensor is passed sequentially through operations, `nn.Sequential` ([documentation](https://pytorch.org/docs/master/nn.html#torch.nn.Sequential)). Using this to build the equivalent network:"
   ]
  },
  {
   "cell_type": "code",
   "execution_count": 7,
   "metadata": {},
   "outputs": [
    {
     "name": "stdout",
     "output_type": "stream",
     "text": [
      "Sequential(\n",
      "  (0): Linear(in_features=784, out_features=128, bias=True)\n",
      "  (1): ReLU()\n",
      "  (2): Linear(in_features=128, out_features=64, bias=True)\n",
      "  (3): ReLU()\n",
      "  (4): Linear(in_features=64, out_features=10, bias=True)\n",
      "  (5): Softmax(dim=1)\n",
      ")\n"
     ]
    }
   ],
   "source": [
    "# Hyperparameters for our network\n",
    "input_size   = 784\n",
    "hidden_sizes = [128, 64]\n",
    "output_size   = 10\n",
    "\n",
    "# Build a feed-forward network\n",
    "model = nn.Sequential(nn.Linear(input_size, hidden_sizes[0]),\n",
    "                      nn.ReLU(),\n",
    "                      nn.Linear(hidden_sizes[0], hidden_sizes[1]),\n",
    "                      nn.ReLU(),\n",
    "                      nn.Linear(hidden_sizes[1], output_size),\n",
    "                      nn.Softmax(dim=1))\n",
    "print(model)"
   ]
  },
  {
   "cell_type": "code",
   "execution_count": 34,
   "metadata": {},
   "outputs": [
    {
     "name": "stdout",
     "output_type": "stream",
     "text": [
      "tensor([[0.0933, 0.0935, 0.1005, 0.0941, 0.1002, 0.0992, 0.1031, 0.1160, 0.0987,\n",
      "         0.1015],\n",
      "        [0.0904, 0.0927, 0.1031, 0.0917, 0.0981, 0.1012, 0.1110, 0.1139, 0.0998,\n",
      "         0.0981]], grad_fn=<SoftmaxBackward0>)\n"
     ]
    }
   ],
   "source": [
    "fake_mnist = torch.rand(2, 784)\n",
    "seq_model = nn.Sequential(nn.Linear(input_size, hidden_sizes[0]),\n",
    "                      nn.ReLU(),\n",
    "                      nn.Linear(hidden_sizes[0], hidden_sizes[1]),\n",
    "                      nn.ReLU(),\n",
    "                      nn.Linear(hidden_sizes[1], output_size),\n",
    "                      nn.Softmax(dim=1))\n",
    "\n",
    "fake_preds= seq_model(fake_mnist)\n",
    "print(fake_preds)"
   ]
  },
  {
   "cell_type": "markdown",
   "metadata": {},
   "source": [
    "You can also pass in an `OrderedDict` to name the individual layers and operations. Note that a dictionary keys must be unique, so _each operation must have a different name_."
   ]
  },
  {
   "cell_type": "code",
   "execution_count": 8,
   "metadata": {},
   "outputs": [
    {
     "data": {
      "text/plain": [
       "Sequential(\n",
       "  (fc1): Linear(in_features=784, out_features=128, bias=True)\n",
       "  (relu1): ReLU()\n",
       "  (fc2): Linear(in_features=128, out_features=64, bias=True)\n",
       "  (relu2): ReLU()\n",
       "  (output): Linear(in_features=64, out_features=10, bias=True)\n",
       "  (softmax): Softmax(dim=1)\n",
       ")"
      ]
     },
     "execution_count": 8,
     "metadata": {},
     "output_type": "execute_result"
    }
   ],
   "source": [
    "model = nn.Sequential(OrderedDict([\n",
    "          ('fc1',   nn.Linear(input_size, hidden_sizes[0])),\n",
    "          ('relu1', nn.ReLU()),\n",
    "          ('fc2',   nn.Linear(hidden_sizes[0], hidden_sizes[1])),\n",
    "          ('relu2', nn.ReLU()),\n",
    "          ('output', nn.Linear(hidden_sizes[1], output_size)),\n",
    "          ('softmax', nn.Softmax(dim=1))]))\n",
    "model"
   ]
  },
  {
   "cell_type": "markdown",
   "metadata": {},
   "source": [
    "### Initializing weights and biases\n",
    "\n",
    "The weights and such are automatically initialized for you, but it's possible to customize how they are initialized. The weights and biases are tensors attached to the layer you defined, you can get them with `model.fc1.weight` for instance."
   ]
  },
  {
   "cell_type": "code",
   "execution_count": 9,
   "metadata": {},
   "outputs": [
    {
     "name": "stdout",
     "output_type": "stream",
     "text": [
      "Parameter containing:\n",
      "tensor([[-0.0264,  0.0274, -0.0295,  ..., -0.0193,  0.0268, -0.0275],\n",
      "        [-0.0166, -0.0063, -0.0318,  ...,  0.0346, -0.0239,  0.0278],\n",
      "        [-0.0337,  0.0261,  0.0316,  ..., -0.0087, -0.0152,  0.0087],\n",
      "        ...,\n",
      "        [ 0.0232, -0.0236,  0.0296,  ...,  0.0337,  0.0184, -0.0330],\n",
      "        [ 0.0245,  0.0045,  0.0222,  ..., -0.0268, -0.0189,  0.0124],\n",
      "        [-0.0002, -0.0270, -0.0248,  ..., -0.0156, -0.0304, -0.0125]],\n",
      "       requires_grad=True)\n",
      "Parameter containing:\n",
      "tensor([-2.3556e-02, -1.9189e-02,  1.3493e-02, -3.1249e-02,  1.6339e-02,\n",
      "        -3.0164e-02,  3.4480e-02,  1.7050e-02, -1.8086e-02,  3.4045e-02,\n",
      "        -2.9970e-02, -1.4673e-02,  2.5063e-02, -1.8864e-02,  2.8511e-02,\n",
      "        -9.4292e-03,  7.8031e-03, -2.4406e-02, -2.8823e-03, -2.8116e-02,\n",
      "         1.8826e-02,  4.5748e-03, -1.7244e-02, -3.2549e-02, -3.4114e-02,\n",
      "         2.9134e-02, -2.8353e-02,  2.5378e-02, -1.8486e-02, -3.3988e-02,\n",
      "        -2.4352e-02,  2.1116e-02, -2.8091e-02,  1.6484e-02, -1.0103e-02,\n",
      "        -1.8175e-02, -2.8307e-02,  1.7537e-02, -3.3479e-02, -3.0579e-02,\n",
      "         3.0591e-03,  5.9476e-03,  3.1671e-02,  1.2455e-02,  3.5031e-02,\n",
      "         3.3589e-02, -2.5609e-02, -2.2117e-02, -1.0711e-02, -4.5390e-03,\n",
      "        -6.6415e-03,  2.5644e-02,  2.5540e-02,  7.5053e-03,  9.4332e-03,\n",
      "        -1.2957e-02, -2.9755e-02, -3.2618e-02,  1.3764e-02,  2.6543e-02,\n",
      "         2.3601e-02, -2.8001e-02, -1.6852e-02, -2.7185e-02,  2.8143e-02,\n",
      "        -1.5220e-02,  2.0669e-02, -2.1441e-02,  1.1088e-02, -2.6170e-02,\n",
      "        -5.9950e-03, -1.7599e-02,  1.9489e-02, -1.5195e-02,  8.0831e-03,\n",
      "         1.1709e-02,  9.2533e-03,  2.7241e-03,  1.7121e-02, -4.9085e-03,\n",
      "         3.5369e-03, -6.8082e-03, -2.7968e-02, -2.1033e-02, -1.2332e-02,\n",
      "         1.3765e-02,  1.9575e-02,  3.1018e-02, -9.9220e-03,  3.4567e-02,\n",
      "        -7.5782e-03,  6.7556e-03,  2.9408e-02, -3.4862e-02, -2.9815e-02,\n",
      "        -3.2461e-02, -5.9842e-03, -2.4857e-02,  1.3381e-02, -6.4967e-04,\n",
      "        -4.5984e-03, -1.0713e-02,  3.5276e-02,  2.8724e-02,  2.9997e-02,\n",
      "        -2.5067e-02, -7.5803e-03, -2.8899e-02,  1.6612e-02, -2.3213e-02,\n",
      "        -1.0662e-05,  2.9557e-02, -2.1765e-02,  9.8079e-03, -3.4676e-02,\n",
      "        -9.0083e-03,  3.7433e-03, -2.8926e-02, -2.0903e-02,  1.3500e-02,\n",
      "         3.0794e-03,  3.4430e-02, -2.7804e-02, -9.8742e-03,  2.7993e-02,\n",
      "         2.5914e-02, -7.1277e-03, -2.2803e-02], requires_grad=True)\n"
     ]
    }
   ],
   "source": [
    "print(model.fc1.weight)\n",
    "print(model.fc1.bias)"
   ]
  },
  {
   "cell_type": "markdown",
   "metadata": {},
   "source": [
    "For custom initialization, we want to modify these tensors in place. These are actually autograd *Variables*, so we need to get back the actual tensors with `model.fc1.weight.data`. Once we have the tensors, we can fill them with zeros (for biases) or random normal values."
   ]
  },
  {
   "cell_type": "code",
   "execution_count": 10,
   "metadata": {},
   "outputs": [
    {
     "data": {
      "text/plain": [
       "tensor([0., 0., 0., 0., 0., 0., 0., 0., 0., 0., 0., 0., 0., 0., 0., 0., 0., 0., 0., 0., 0., 0., 0., 0.,\n",
       "        0., 0., 0., 0., 0., 0., 0., 0., 0., 0., 0., 0., 0., 0., 0., 0., 0., 0., 0., 0., 0., 0., 0., 0.,\n",
       "        0., 0., 0., 0., 0., 0., 0., 0., 0., 0., 0., 0., 0., 0., 0., 0., 0., 0., 0., 0., 0., 0., 0., 0.,\n",
       "        0., 0., 0., 0., 0., 0., 0., 0., 0., 0., 0., 0., 0., 0., 0., 0., 0., 0., 0., 0., 0., 0., 0., 0.,\n",
       "        0., 0., 0., 0., 0., 0., 0., 0., 0., 0., 0., 0., 0., 0., 0., 0., 0., 0., 0., 0., 0., 0., 0., 0.,\n",
       "        0., 0., 0., 0., 0., 0., 0., 0.])"
      ]
     },
     "execution_count": 10,
     "metadata": {},
     "output_type": "execute_result"
    }
   ],
   "source": [
    "# Set biases to all zeros\n",
    "model.fc1.bias.data.fill_(0)"
   ]
  },
  {
   "cell_type": "code",
   "execution_count": 11,
   "metadata": {},
   "outputs": [
    {
     "data": {
      "text/plain": [
       "tensor([[ 0.0161, -0.0076, -0.0005,  ...,  0.0009, -0.0101,  0.0066],\n",
       "        [-0.0018,  0.0012,  0.0152,  ...,  0.0027,  0.0076, -0.0040],\n",
       "        [-0.0115, -0.0097, -0.0183,  ..., -0.0033,  0.0125, -0.0109],\n",
       "        ...,\n",
       "        [ 0.0060, -0.0080,  0.0032,  ...,  0.0046, -0.0122,  0.0026],\n",
       "        [ 0.0074, -0.0130,  0.0116,  ..., -0.0007,  0.0004,  0.0175],\n",
       "        [-0.0021, -0.0084,  0.0061,  ..., -0.0103, -0.0010, -0.0087]])"
      ]
     },
     "execution_count": 11,
     "metadata": {},
     "output_type": "execute_result"
    }
   ],
   "source": [
    "# sample from random normal with standard dev = 0.01\n",
    "model.fc1.weight.data.normal_(std=0.01)"
   ]
  },
  {
   "cell_type": "markdown",
   "metadata": {},
   "source": [
    "### STEP 1: Forward pass\n",
    "\n",
    "Now that we have a network, let's see what happens when we pass in an image. This is called the forward pass. We're going to convert the image data into a tensor, then pass it through the operations defined by the network architecture."
   ]
  },
  {
   "cell_type": "code",
   "execution_count": 12,
   "metadata": {},
   "outputs": [
    {
     "data": {
      "image/png": "[encoded data removed]",
      "text/plain": [
       "<Figure size 432x648 with 2 Axes>"
      ]
     },
     "metadata": {
      "image/png": {
       "height": 195,
       "width": 349
      },
      "needs_background": "light"
     },
     "output_type": "display_data"
    }
   ],
   "source": [
    "# Grab some data \n",
    "dataiter = iter(trainloader)\n",
    "images, labels = dataiter.next()\n",
    "\n",
    "# Resize images into a 1D vector, new shape is (batch size, color channels, image pixels) \n",
    "images.resize_(64, 1, 784)\n",
    "# or images.resize_(images.shape[0], 1, 784) to not automatically get batch size\n",
    "\n",
    "# Forward pass through the network\n",
    "img_idx = 0\n",
    "ps = model.forward(images[img_idx,:])\n",
    "\n",
    "img = images[img_idx]\n",
    "view_classify(img.view(1, 28, 28), ps)"
   ]
  },
  {
   "cell_type": "markdown",
   "metadata": {},
   "source": [
    "As you can see above, our network has basically no idea what this digit is. It's because we haven't trained it yet, all the weights are random!"
   ]
  },
  {
   "cell_type": "markdown",
   "metadata": {},
   "source": [
    "# Training Neural Networks\n",
    "\n",
    "The network we built isn't so smart, it doesn't know anything about our handwritten digits. Neural networks with non-linear activations work like universal function approximators. There is some function that maps your input to the output. For example, images of handwritten digits to class probabilities. The power of neural networks is that we can train them to approximate this function, and basically any function given enough data and compute time.\n",
    "\n",
    "<img src=\"assets/function_approx.png\" width=500px>\n",
    "\n",
    "At first the network is naive, it doesn't know the function mapping the inputs to the outputs. We train the network by showing it examples of real data, then adjusting the network parameters such that it approximates this function.\n",
    "\n",
    "To find these parameters, we need to know how poorly the network is predicting the real outputs. For this we calculate a **loss function** (also called the cost), a measure of our prediction error. For example, the mean squared loss is often used in regression and binary classification problems\n",
    "\n",
    "$$\n",
    "\\ell = \\frac{1}{2n}\\sum_i^n{\\left(y_i - \\hat{y}_i\\right)^2}\n",
    "$$\n",
    "\n",
    "where $n$ is the number of training examples, $y_i$ are the true labels, and $\\hat{y}_i$ are the predicted labels.\n",
    "\n",
    "By minimizing this loss with respect to the network parameters, we can find configurations where the loss is at a minimum and the network is able to predict the correct labels with high accuracy. We find this minimum using a process called **gradient descent**. The gradient is the slope of the loss function and points in the direction of fastest change. To get to the minimum in the least amount of time, we then want to follow the gradient (downwards). You can think of this like descending a mountain by following the steepest slope to the base.\n",
    "\n",
    "<img src='assets/gradient_descent.png' width=350px>"
   ]
  },
  {
   "cell_type": "markdown",
   "metadata": {},
   "source": [
    "## Backpropagation\n",
    "\n",
    "For single layer networks, gradient descent is simple to implement. However, it's more complicated for deeper, multilayer neural networks like the one we've built. Complicated enough that it took about 30 years before researchers figured out how to train multilayer networks, although it's straightforward once you learn about it. \n",
    "\n",
    "This is done through **backpropagation** which is really just an application of the chain rule from calculus. It's easiest to understand if we convert a two layer network into a graph representation.\n",
    "\n",
    "<img src='assets/w1_backprop_graph.png' width=400px>\n",
    "\n",
    "In the forward pass through the network, our data and operations go from right to left here. To train the weights with gradient descent, we propagate the gradient of the cost backwards through the network. Mathematically, this is really just calculating the gradient of the loss with respect to the weights using the chain rule.\n",
    "\n",
    "$$\n",
    "\\frac{\\partial \\ell}{\\partial w_1} = \\frac{\\partial l_1}{\\partial w_1} \\frac{\\partial s}{\\partial l_1} \\frac{\\partial l_2}{\\partial s} \\frac{\\partial \\ell}{\\partial l_2}\n",
    "$$\n",
    "\n",
    "We update our weights using this gradient with some learning rate $\\alpha$. \n",
    "\n",
    "$$\n",
    "w^\\prime = w - \\alpha \\frac{\\partial \\ell}{\\partial w}\n",
    "$$\n",
    "\n",
    "The learning rate is set such that the weight update steps are small enough that the iterative method settles in a minimum.\n",
    "\n",
    "The first thing we need to do for training is define our loss function. In PyTorch, you'll usually see this as `criterion`. Here we're using softmax output, so we want to use `criterion = nn.CrossEntropyLoss()` as our loss. Later when training, you use `loss = criterion(output, targets)` to calculate the actual loss.\n",
    "\n",
    "We also need to define the optimizer we're using, SGD or Adam, or something along those lines. Here I'll just use SGD with `torch.optim.SGD`, passing in the network parameters and the learning rate."
   ]
  },
  {
   "cell_type": "markdown",
   "metadata": {},
   "source": [
    "## Autograd\n",
    "\n",
    "Torch provides a module, `autograd`, for automatically calculating the gradient of tensors. It does this by keeping track of operations performed on tensors. To make sure PyTorch keeps track of operations on a tensor and calculates the gradients, you need to set `requires_grad` on a tensor. You can do this at creation with the `requires_grad` keyword, or at any time with `x.requires_grad_(True)`.\n",
    "\n",
    "You can turn off gradients for a block of code with the `torch.no_grad()` content:\n",
    "```python\n",
    "x = torch.zeros(1, requires_grad=True)\n",
    ">>> with torch.no_grad():\n",
    "...     y = x * 2\n",
    ">>> y.requires_grad\n",
    "False\n",
    "```\n",
    "\n",
    "Also, you can turn on or off gradients altogether with `torch.set_grad_enabled(True|False)`.\n",
    "\n",
    "The gradients are computed with respect to some variable `z` with `z.backward()`. This does a backward pass through the operations that created `z`."
   ]
  },
  {
   "cell_type": "code",
   "execution_count": 13,
   "metadata": {},
   "outputs": [
    {
     "name": "stdout",
     "output_type": "stream",
     "text": [
      "tensor([[-0.7245,  0.2638],\n",
      "        [-0.2286, -0.6653]], requires_grad=True)\n"
     ]
    }
   ],
   "source": [
    "x = torch.randn(2,2, requires_grad=True)\n",
    "print(x)"
   ]
  },
  {
   "cell_type": "code",
   "execution_count": 14,
   "metadata": {},
   "outputs": [
    {
     "name": "stdout",
     "output_type": "stream",
     "text": [
      "tensor([[0.5249, 0.0696],\n",
      "        [0.0523, 0.4426]], grad_fn=<PowBackward0>)\n"
     ]
    }
   ],
   "source": [
    "y = x**2\n",
    "print(y)"
   ]
  },
  {
   "cell_type": "markdown",
   "metadata": {},
   "source": [
    "Below we can see the operation that created `y`, a power operation `PowBackward0`."
   ]
  },
  {
   "cell_type": "code",
   "execution_count": 15,
   "metadata": {},
   "outputs": [
    {
     "name": "stdout",
     "output_type": "stream",
     "text": [
      "<PowBackward0 object at 0x000002EC68D811E0>\n"
     ]
    }
   ],
   "source": [
    "## grad_fn shows the function that generated this variable\n",
    "print(y.grad_fn)"
   ]
  },
  {
   "cell_type": "markdown",
   "metadata": {},
   "source": [
    "The autgrad module keeps track of these operations and knows how to calculate the gradient for each one. In this way, it's able to calculate the gradients for a chain of operations, with respect to any one tensor. Let's reduce the tensor `y` to a scalar value, the mean."
   ]
  },
  {
   "cell_type": "code",
   "execution_count": 16,
   "metadata": {},
   "outputs": [
    {
     "name": "stdout",
     "output_type": "stream",
     "text": [
      "tensor(0.2723, grad_fn=<MeanBackward0>)\n"
     ]
    }
   ],
   "source": [
    "z = y.mean()\n",
    "print(z)"
   ]
  },
  {
   "cell_type": "markdown",
   "metadata": {},
   "source": [
    "You can check the gradients for `x` and `y` but they are empty currently."
   ]
  },
  {
   "cell_type": "code",
   "execution_count": 17,
   "metadata": {},
   "outputs": [
    {
     "name": "stdout",
     "output_type": "stream",
     "text": [
      "None\n"
     ]
    }
   ],
   "source": [
    "print(x.grad)"
   ]
  },
  {
   "cell_type": "markdown",
   "metadata": {},
   "source": [
    "To calculate the gradients, you need to run the `.backward` method on a Variable, `z` for example. This will calculate the gradient for `z` with respect to `x`\n",
    "\n",
    "$$\n",
    "\\frac{\\partial z}{\\partial x} = \\frac{\\partial}{\\partial x}\\left[\\frac{1}{n}\\sum_i^n x_i^2\\right] = \\frac{x}{2}\n",
    "$$"
   ]
  },
  {
   "cell_type": "code",
   "execution_count": 18,
   "metadata": {},
   "outputs": [
    {
     "name": "stdout",
     "output_type": "stream",
     "text": [
      "tensor([[-0.3622,  0.1319],\n",
      "        [-0.1143, -0.3326]])\n",
      "tensor([[-0.3622,  0.1319],\n",
      "        [-0.1143, -0.3326]], grad_fn=<DivBackward0>)\n"
     ]
    }
   ],
   "source": [
    "z.backward()\n",
    "print(x.grad)\n",
    "print(x/2)"
   ]
  },
  {
   "cell_type": "markdown",
   "metadata": {},
   "source": [
    "These gradients calculations are particularly useful for neural networks. For training we need the gradients of the weights with respect to the cost. With PyTorch, we run data forward through the network to calculate the cost, then, go backwards to calculate the gradients with respect to the cost. Once we have the gradients we can make a gradient descent step. "
   ]
  },
  {
   "cell_type": "markdown",
   "metadata": {},
   "source": [
    "I'll build a network with `nn.Sequential` here. Only difference from the last part is I'm not actually using softmax on the output, but instead just using the raw output from the last layer. This is because the output from softmax is a probability distribution. Often, the output will have values really close to zero or really close to one. Due to [inaccuracies with representing numbers as floating points](https://docs.python.org/3/tutorial/floatingpoint.html), computations with a softmax output can lose accuracy and become unstable. To get around this, we'll use the raw output, called the **logits**, to calculate the loss."
   ]
  },
  {
   "cell_type": "code",
   "execution_count": 19,
   "metadata": {},
   "outputs": [],
   "source": [
    "# Hyperparameters for our network\n",
    "input_size   = 784\n",
    "hidden_sizes = [128, 64]\n",
    "output_size  = 10\n",
    "\n",
    "# Build a feed-forward network\n",
    "model = nn.Sequential(OrderedDict([\n",
    "          ('fc1', nn.Linear(input_size, hidden_sizes[0])),\n",
    "          ('relu1', nn.ReLU()),\n",
    "          ('fc2', nn.Linear(hidden_sizes[0], hidden_sizes[1])),\n",
    "          ('relu2', nn.ReLU()),\n",
    "          ('logits', nn.Linear(hidden_sizes[1], output_size))]))"
   ]
  },
  {
   "cell_type": "markdown",
   "metadata": {},
   "source": [
    "## Training the network!\n",
    "\n",
    "The first thing we need to do for training is define our loss function. In PyTorch, you'll usually see this as `criterion`. Here we're using softmax output, so we want to use `criterion = nn.CrossEntropyLoss()` as our loss. Later when training, you use `loss = criterion(output, targets)` to calculate the actual loss.\n",
    "\n",
    "We also need to define the optimizer we're using, SGD or Adam, or something along those lines. Here I'll just use SGD with `torch.optim.SGD`, passing in the network parameters and the learning rate."
   ]
  },
  {
   "cell_type": "code",
   "execution_count": 20,
   "metadata": {},
   "outputs": [],
   "source": [
    "criterion = nn.CrossEntropyLoss()\n",
    "optimizer = optim.SGD(model.parameters(), lr=0.01)"
   ]
  },
  {
   "cell_type": "markdown",
   "metadata": {},
   "source": [
    "First, let's consider just one learning step before looping through all the data. The general process with PyTorch:\n",
    "\n",
    "* Make a forward pass through the network to get the logits \n",
    "* Use the logits to calculate the loss\n",
    "* Perform a backward pass through the network with `loss.backward()` to calculate the gradients\n",
    "* Take a step with the optimizer to update the weights\n",
    "\n",
    "Below I'll go through one training step and print out the weights and gradients so you can see how it changes."
   ]
  },
  {
   "cell_type": "code",
   "execution_count": 21,
   "metadata": {},
   "outputs": [
    {
     "name": "stdout",
     "output_type": "stream",
     "text": [
      "Initial weights -  Parameter containing:\n",
      "tensor([[ 0.0142,  0.0100, -0.0278,  ...,  0.0012,  0.0256,  0.0239],\n",
      "        [-0.0218,  0.0209, -0.0215,  ...,  0.0002,  0.0146,  0.0331],\n",
      "        [-0.0176, -0.0231,  0.0004,  ...,  0.0129,  0.0173,  0.0189],\n",
      "        ...,\n",
      "        [ 0.0025,  0.0241,  0.0137,  ..., -0.0286, -0.0213, -0.0159],\n",
      "        [-0.0106, -0.0065, -0.0060,  ...,  0.0337, -0.0022, -0.0152],\n",
      "        [ 0.0093, -0.0220,  0.0038,  ..., -0.0186, -0.0093, -0.0184]],\n",
      "       requires_grad=True)\n",
      "Gradient - tensor([[ 0.0025,  0.0025,  0.0025,  ...,  0.0025,  0.0025,  0.0025],\n",
      "        [ 0.0012,  0.0012,  0.0012,  ...,  0.0012,  0.0012,  0.0012],\n",
      "        [-0.0006, -0.0006, -0.0006,  ..., -0.0006, -0.0006, -0.0006],\n",
      "        ...,\n",
      "        [-0.0058, -0.0058, -0.0058,  ..., -0.0058, -0.0058, -0.0058],\n",
      "        [-0.0005, -0.0005, -0.0005,  ..., -0.0005, -0.0005, -0.0005],\n",
      "        [-0.0007, -0.0007, -0.0007,  ..., -0.0007, -0.0007, -0.0007]])\n"
     ]
    }
   ],
   "source": [
    "print('Initial weights - ', model.fc1.weight)\n",
    "\n",
    "images, labels = next(iter(trainloader))\n",
    "images.resize_(64, 784)\n",
    "\n",
    "# Clear the gradients, do this because gradients are accumulated\n",
    "optimizer.zero_grad()\n",
    "\n",
    "# Forward pass, then backward pass, then update weights\n",
    "output = model.forward(images)\n",
    "loss = criterion(output, labels)\n",
    "loss.backward()\n",
    "print('Gradient -', model.fc1.weight.grad)\n",
    "optimizer.step()"
   ]
  },
  {
   "cell_type": "code",
   "execution_count": 22,
   "metadata": {},
   "outputs": [
    {
     "name": "stdout",
     "output_type": "stream",
     "text": [
      "Updated weights -  Parameter containing:\n",
      "tensor([[ 0.0142,  0.0099, -0.0278,  ...,  0.0012,  0.0256,  0.0238],\n",
      "        [-0.0218,  0.0209, -0.0216,  ...,  0.0001,  0.0146,  0.0331],\n",
      "        [-0.0176, -0.0231,  0.0004,  ...,  0.0129,  0.0173,  0.0189],\n",
      "        ...,\n",
      "        [ 0.0026,  0.0241,  0.0138,  ..., -0.0285, -0.0212, -0.0159],\n",
      "        [-0.0106, -0.0065, -0.0059,  ...,  0.0337, -0.0022, -0.0152],\n",
      "        [ 0.0093, -0.0220,  0.0038,  ..., -0.0186, -0.0093, -0.0184]],\n",
      "       requires_grad=True)\n"
     ]
    }
   ],
   "source": [
    "print('Updated weights - ', model.fc1.weight)"
   ]
  },
  {
   "cell_type": "markdown",
   "metadata": {},
   "source": [
    "### Training for real\n",
    "\n",
    "Now we'll put this algorithm into a loop so we can go through all the images. This is fairly straightforward. We'll loop through the mini-batches in our dataset, pass the data through the network to calculate the losses, get the gradients, then run the optimizer."
   ]
  },
  {
   "cell_type": "code",
   "execution_count": 23,
   "metadata": {},
   "outputs": [],
   "source": [
    "optimizer = optim.SGD(model.parameters(), lr=0.003)"
   ]
  },
  {
   "cell_type": "code",
   "execution_count": 24,
   "metadata": {},
   "outputs": [
    {
     "name": "stdout",
     "output_type": "stream",
     "text": [
      "Epoch: 1/3\n",
      "\tIteration: 0\t Loss: 0.0577\n",
      "\tIteration: 40\t Loss: 2.2891\n",
      "\tIteration: 80\t Loss: 2.2685\n",
      "\tIteration: 120\t Loss: 2.2548\n",
      "\tIteration: 160\t Loss: 2.2364\n",
      "\tIteration: 200\t Loss: 2.2150\n",
      "\tIteration: 240\t Loss: 2.2025\n",
      "\tIteration: 280\t Loss: 2.1723\n",
      "\tIteration: 320\t Loss: 2.1551\n",
      "\tIteration: 360\t Loss: 2.1280\n",
      "\tIteration: 400\t Loss: 2.0977\n",
      "\tIteration: 440\t Loss: 2.0657\n",
      "\tIteration: 480\t Loss: 2.0264\n",
      "\tIteration: 520\t Loss: 1.9868\n",
      "\tIteration: 560\t Loss: 1.9400\n",
      "\tIteration: 600\t Loss: 1.8829\n",
      "\tIteration: 640\t Loss: 1.8469\n",
      "\tIteration: 680\t Loss: 1.7730\n",
      "\tIteration: 720\t Loss: 1.7105\n",
      "\tIteration: 760\t Loss: 1.6526\n",
      "\tIteration: 800\t Loss: 1.6021\n",
      "\tIteration: 840\t Loss: 1.5297\n",
      "\tIteration: 880\t Loss: 1.4764\n",
      "\tIteration: 920\t Loss: 1.4135\n",
      "Epoch: 2/3\n",
      "\tIteration: 0\t Loss: 0.0340\n",
      "\tIteration: 40\t Loss: 1.3176\n",
      "\tIteration: 80\t Loss: 1.2521\n",
      "\tIteration: 120\t Loss: 1.1972\n",
      "\tIteration: 160\t Loss: 1.1643\n",
      "\tIteration: 200\t Loss: 1.1055\n",
      "\tIteration: 240\t Loss: 1.0760\n",
      "\tIteration: 280\t Loss: 1.0156\n",
      "\tIteration: 320\t Loss: 0.9904\n",
      "\tIteration: 360\t Loss: 0.9487\n",
      "\tIteration: 400\t Loss: 0.9381\n",
      "\tIteration: 440\t Loss: 0.8903\n",
      "\tIteration: 480\t Loss: 0.9007\n",
      "\tIteration: 520\t Loss: 0.8192\n",
      "\tIteration: 560\t Loss: 0.8138\n",
      "\tIteration: 600\t Loss: 0.8085\n",
      "\tIteration: 640\t Loss: 0.7573\n",
      "\tIteration: 680\t Loss: 0.7387\n",
      "\tIteration: 720\t Loss: 0.7198\n",
      "\tIteration: 760\t Loss: 0.7176\n",
      "\tIteration: 800\t Loss: 0.7028\n",
      "\tIteration: 840\t Loss: 0.6976\n",
      "\tIteration: 880\t Loss: 0.6939\n",
      "\tIteration: 920\t Loss: 0.6511\n",
      "Epoch: 3/3\n",
      "\tIteration: 0\t Loss: 0.0123\n",
      "\tIteration: 40\t Loss: 0.6308\n",
      "\tIteration: 80\t Loss: 0.6161\n",
      "\tIteration: 120\t Loss: 0.5969\n",
      "\tIteration: 160\t Loss: 0.6251\n",
      "\tIteration: 200\t Loss: 0.5838\n",
      "\tIteration: 240\t Loss: 0.5968\n",
      "\tIteration: 280\t Loss: 0.5741\n",
      "\tIteration: 320\t Loss: 0.5460\n",
      "\tIteration: 360\t Loss: 0.5574\n",
      "\tIteration: 400\t Loss: 0.5361\n",
      "\tIteration: 440\t Loss: 0.5651\n",
      "\tIteration: 480\t Loss: 0.5472\n",
      "\tIteration: 520\t Loss: 0.5293\n",
      "\tIteration: 560\t Loss: 0.5397\n",
      "\tIteration: 600\t Loss: 0.5081\n",
      "\tIteration: 640\t Loss: 0.4941\n",
      "\tIteration: 680\t Loss: 0.5323\n",
      "\tIteration: 720\t Loss: 0.5033\n",
      "\tIteration: 760\t Loss: 0.4923\n",
      "\tIteration: 800\t Loss: 0.4860\n",
      "\tIteration: 840\t Loss: 0.4734\n",
      "\tIteration: 880\t Loss: 0.4872\n",
      "\tIteration: 920\t Loss: 0.4837\n"
     ]
    }
   ],
   "source": [
    "epochs = 3\n",
    "print_every = 40\n",
    "\n",
    "for e in range(epochs):\n",
    "    running_loss = 0\n",
    "    print(f\"Epoch: {e+1}/{epochs}\")\n",
    "\n",
    "    for i, (images, labels) in enumerate(iter(trainloader)):\n",
    "\n",
    "        # Flatten MNIST images into a 784 long vector\n",
    "        images.resize_(images.size()[0], 784)\n",
    "        \n",
    "        optimizer.zero_grad()\n",
    "        \n",
    "        output = model.forward(images)   # 1) Forward pass\n",
    "        loss = criterion(output, labels) # 2) Compute loss\n",
    "        loss.backward()                  # 3) Backward pass\n",
    "        optimizer.step()                 # 4) Update model\n",
    "        \n",
    "        running_loss += loss.item()\n",
    "        \n",
    "        if i % print_every == 0:\n",
    "            print(f\"\\tIteration: {i}\\t Loss: {running_loss/print_every:.4f}\")\n",
    "            running_loss = 0"
   ]
  },
  {
   "cell_type": "markdown",
   "metadata": {},
   "source": [
    "With the network trained, we can check out it's predictions."
   ]
  },
  {
   "cell_type": "code",
   "execution_count": 25,
   "metadata": {},
   "outputs": [
    {
     "data": {
      "image/png": "[encoded data removed]",
      "text/plain": [
       "<Figure size 432x648 with 2 Axes>"
      ]
     },
     "metadata": {
      "image/png": {
       "height": 195,
       "width": 349
      },
      "needs_background": "light"
     },
     "output_type": "display_data"
    }
   ],
   "source": [
    "images, labels = next(iter(trainloader))\n",
    "\n",
    "img = images[0].view(1, 784)\n",
    "# Turn off gradients to speed up this part\n",
    "with torch.no_grad():\n",
    "    logits = model.forward(img)\n",
    "\n",
    "# Output of the network are logits, need to take softmax for probabilities\n",
    "ps = F.softmax(logits, dim=1)\n",
    "view_classify(img.view(1, 28, 28), ps)"
   ]
  },
  {
   "cell_type": "markdown",
   "metadata": {},
   "source": [
    "Now our network is brilliant. It can accurately predict the digits in our images."
   ]
  },
  {
   "cell_type": "markdown",
   "metadata": {},
   "source": [
    "<div style=\"background:#222222; color:#ffffff; padding:20px\">\n",
    "    <h2 align=\"center\" style=\"color:#01ff84\">MNIST Clasification: Exercise</h2>\n",
    "<div>"
   ]
  },
  {
   "cell_type": "markdown",
   "metadata": {},
   "source": [
    "<div style=\"background:#222222; color:#ffffff; padding:20px\">\n",
    "  <h3 style=\"color:#01ff84; margin-top:4px\">Exercise 1:</h3>\n",
    "  <p>Now it's your turn to build a simple network, use any method I've covered so far. In the next notebook, you'll learn how to train a network so it can make good predictions.</p>\n",
    "  <p>Build a network to classify the MNIST images with 3 hidden layers. Use 400 units in the first hidden layer, 200 units in the second layer, and 100 units in the third layer. Each hidden layer should have a ReLU activation function, and use softmax on the output layer.</p>\n",
    "<div>"
   ]
  },
  {
   "cell_type": "code",
   "execution_count": 79,
   "metadata": {},
   "outputs": [
    {
     "name": "stdout",
     "output_type": "stream",
     "text": [
      "Sequential(\n",
      "  (0): Linear(in_features=784, out_features=400, bias=True)\n",
      "  (1): ReLU()\n",
      "  (2): Linear(in_features=400, out_features=200, bias=True)\n",
      "  (3): ReLU()\n",
      "  (4): Linear(in_features=200, out_features=100, bias=True)\n",
      "  (5): ReLU()\n",
      "  (6): Linear(in_features=100, out_features=10, bias=True)\n",
      "  (7): Softmax(dim=1)\n",
      ")\n"
     ]
    }
   ],
   "source": [
    "## TODO: Your network here\n",
    "\n",
    "# Hyperparameters for our network\n",
    "input_size   = 784\n",
    "hidden_sizes = [400, 200,100]\n",
    "output_size   = 10\n",
    "\n",
    "# Build a feed-forward network\n",
    "model = nn.Sequential(nn.Linear(input_size, hidden_sizes[0]),\n",
    "                      nn.ReLU(),\n",
    "                      nn.Linear(hidden_sizes[0], hidden_sizes[1]),\n",
    "                      nn.ReLU(),\n",
    "                      nn.Linear(hidden_sizes[1], hidden_sizes[2]),\n",
    "                      nn.ReLU(),\n",
    "                      nn.Linear(hidden_sizes[2], output_size),\n",
    "                      nn.Softmax(dim=1))\n",
    "print(model)"
   ]
  },
  {
   "cell_type": "code",
   "execution_count": 80,
   "metadata": {},
   "outputs": [
    {
     "data": {
      "image/png": "[encoded data removed]",
      "text/plain": [
       "<Figure size 432x648 with 2 Axes>"
      ]
     },
     "metadata": {
      "image/png": {
       "height": 195,
       "width": 349
      },
      "needs_background": "light"
     },
     "output_type": "display_data"
    }
   ],
   "source": [
    "# Run this cell with your model to make sure it works\n",
    "# Forward pass through the network and display output\n",
    "images, labels = next(iter(trainloader))\n",
    "images.resize_(images.shape[0], 1, 784)\n",
    "ps = model.forward(images[0,:])\n",
    "view_classify(images[0].view(1, 28, 28), ps)"
   ]
  },
  {
   "cell_type": "markdown",
   "metadata": {},
   "source": [
    "<div style=\"background:#222222; color:#ffffff; padding:20px\">\n",
    "  <h3 style=\"color:#01ff84; margin-top:4px\">Exercise 2:</h3>\n",
    "  <p>Train your network implementing the Pytorch training loop and <strong style=\"color:#01ff84\">after each epoch, use the model for predicting the test (validation) MNIST data.</strong></p>\n",
    "  <p>Note: If your model does not fit with the final softmax layer, you can remove this layer.</p>\n",
    "  <p>Hint: <a href=\"https://discuss.pytorch.org/t/training-loop-checking-validation-accuracy/78399\">Training loop checking validation accuracy\n",
    "</a></p>\n",
    "  <p>Research about <code>model.train()</code>, <code>model.eval()</code> and <code>with torch.no_grad()</code> in Pytorch.\n",
    "<div>"
   ]
  },
  {
   "cell_type": "code",
   "execution_count": 81,
   "metadata": {},
   "outputs": [],
   "source": [
    "## TODO: Your training loop here\n",
    "criterion = nn.CrossEntropyLoss()\n",
    "optimizer = optim.SGD(model.parameters(), lr=0.01)"
   ]
  },
  {
   "cell_type": "code",
   "execution_count": 82,
   "metadata": {},
   "outputs": [
    {
     "name": "stdout",
     "output_type": "stream",
     "text": [
      "Epoch: 1/100\n",
      "epoch: 0 | loss: 2.2911252975463867 | accuracy: 0.18690000474452972\n",
      "Epoch: 2/100\n",
      "epoch: 1 | loss: 2.2466886043548584 | accuracy: 0.1136000007390976\n",
      "Epoch: 3/100\n",
      "epoch: 2 | loss: 2.1343331336975098 | accuracy: 0.2662000060081482\n",
      "Epoch: 4/100\n",
      "epoch: 3 | loss: 1.9581180810928345 | accuracy: 0.5723999738693237\n",
      "Epoch: 5/100\n",
      "epoch: 4 | loss: 1.7902735471725464 | accuracy: 0.6899999976158142\n",
      "Epoch: 6/100\n",
      "epoch: 5 | loss: 1.6562432050704956 | accuracy: 0.7335000038146973\n",
      "Epoch: 7/100\n",
      "epoch: 6 | loss: 1.608925461769104 | accuracy: 0.7979999780654907\n",
      "Epoch: 8/100\n",
      "epoch: 7 | loss: 1.722267985343933 | accuracy: 0.8187000155448914\n",
      "Epoch: 9/100\n",
      "epoch: 8 | loss: 1.6629396677017212 | accuracy: 0.8307999968528748\n",
      "Epoch: 10/100\n",
      "epoch: 9 | loss: 1.7779160737991333 | accuracy: 0.8363999724388123\n",
      "Epoch: 11/100\n",
      "epoch: 10 | loss: 1.6744225025177002 | accuracy: 0.8395000100135803\n",
      "Epoch: 12/100\n",
      "epoch: 11 | loss: 1.6746494770050049 | accuracy: 0.8424999713897705\n",
      "Epoch: 13/100\n",
      "epoch: 12 | loss: 1.601832389831543 | accuracy: 0.8453999757766724\n",
      "Epoch: 14/100\n",
      "epoch: 13 | loss: 1.6378076076507568 | accuracy: 0.8458999991416931\n",
      "Epoch: 15/100\n",
      "epoch: 14 | loss: 1.63995361328125 | accuracy: 0.8485999703407288\n",
      "Epoch: 16/100\n",
      "epoch: 15 | loss: 1.5155748128890991 | accuracy: 0.8496000170707703\n",
      "Epoch: 17/100\n",
      "epoch: 16 | loss: 1.5232090950012207 | accuracy: 0.8507000207901001\n",
      "Epoch: 18/100\n",
      "epoch: 17 | loss: 1.7748591899871826 | accuracy: 0.8485000133514404\n",
      "Epoch: 19/100\n",
      "epoch: 18 | loss: 1.543233871459961 | accuracy: 0.8519999980926514\n",
      "Epoch: 20/100\n",
      "epoch: 19 | loss: 1.58943510055542 | accuracy: 0.8517000079154968\n",
      "Epoch: 21/100\n",
      "epoch: 20 | loss: 1.654106855392456 | accuracy: 0.8544999957084656\n",
      "Epoch: 22/100\n",
      "epoch: 21 | loss: 1.6508270502090454 | accuracy: 0.8543999791145325\n",
      "Epoch: 23/100\n",
      "epoch: 22 | loss: 1.7710034847259521 | accuracy: 0.8554999828338623\n",
      "Epoch: 24/100\n",
      "epoch: 23 | loss: 1.541433334350586 | accuracy: 0.8575999736785889\n",
      "Epoch: 25/100\n",
      "epoch: 24 | loss: 1.6641567945480347 | accuracy: 0.8574000000953674\n",
      "Epoch: 26/100\n",
      "epoch: 25 | loss: 1.5298563241958618 | accuracy: 0.8587999939918518\n",
      "Epoch: 27/100\n",
      "epoch: 26 | loss: 1.539874792098999 | accuracy: 0.8598999977111816\n",
      "Epoch: 28/100\n",
      "epoch: 27 | loss: 1.5853791236877441 | accuracy: 0.859000027179718\n",
      "Epoch: 29/100\n",
      "epoch: 28 | loss: 1.6489348411560059 | accuracy: 0.8600000143051147\n",
      "Epoch: 30/100\n",
      "epoch: 29 | loss: 1.5835412740707397 | accuracy: 0.8605999946594238\n",
      "Epoch: 31/100\n",
      "epoch: 30 | loss: 1.7270731925964355 | accuracy: 0.8615999817848206\n",
      "Epoch: 32/100\n",
      "epoch: 31 | loss: 1.6467751264572144 | accuracy: 0.8590999841690063\n",
      "Epoch: 33/100\n",
      "epoch: 32 | loss: 1.5255697965621948 | accuracy: 0.8626000285148621\n",
      "Epoch: 34/100\n",
      "epoch: 33 | loss: 1.5936777591705322 | accuracy: 0.8639000058174133\n",
      "Epoch: 35/100\n",
      "epoch: 34 | loss: 1.6299312114715576 | accuracy: 0.8633999824523926\n",
      "Epoch: 36/100\n",
      "epoch: 35 | loss: 1.711125135421753 | accuracy: 0.863099992275238\n",
      "Epoch: 37/100\n",
      "epoch: 36 | loss: 1.5557032823562622 | accuracy: 0.8622999787330627\n",
      "Epoch: 38/100\n",
      "epoch: 37 | loss: 1.6103341579437256 | accuracy: 0.8651999831199646\n",
      "Epoch: 39/100\n",
      "epoch: 38 | loss: 1.5233699083328247 | accuracy: 0.864300012588501\n",
      "Epoch: 40/100\n",
      "epoch: 39 | loss: 1.5241631269454956 | accuracy: 0.8650000095367432\n",
      "Epoch: 41/100\n",
      "epoch: 40 | loss: 1.765714406967163 | accuracy: 0.864799976348877\n",
      "Epoch: 42/100\n",
      "epoch: 41 | loss: 1.5274914503097534 | accuracy: 0.8664000034332275\n",
      "Epoch: 43/100\n",
      "epoch: 42 | loss: 1.7659786939620972 | accuracy: 0.8669000267982483\n",
      "Epoch: 44/100\n",
      "epoch: 43 | loss: 1.4623554944992065 | accuracy: 0.8665000200271606\n",
      "Epoch: 45/100\n",
      "epoch: 44 | loss: 1.7719367742538452 | accuracy: 0.8669000267982483\n",
      "Epoch: 46/100\n",
      "epoch: 45 | loss: 1.5029127597808838 | accuracy: 0.8676999807357788\n",
      "Epoch: 47/100\n",
      "epoch: 46 | loss: 1.5896340608596802 | accuracy: 0.8679999709129333\n",
      "Epoch: 48/100\n",
      "epoch: 47 | loss: 1.5533404350280762 | accuracy: 0.8686000108718872\n",
      "Epoch: 49/100\n",
      "epoch: 48 | loss: 1.5219529867172241 | accuracy: 0.8687999844551086\n",
      "Epoch: 50/100\n",
      "epoch: 49 | loss: 1.5619487762451172 | accuracy: 0.8668000102043152\n",
      "Epoch: 51/100\n",
      "epoch: 50 | loss: 1.585930585861206 | accuracy: 0.8694000244140625\n",
      "Epoch: 52/100\n",
      "epoch: 51 | loss: 1.572219729423523 | accuracy: 0.8708000183105469\n",
      "Epoch: 53/100\n",
      "epoch: 52 | loss: 1.463091254234314 | accuracy: 0.871399998664856\n",
      "Epoch: 54/100\n",
      "epoch: 53 | loss: 1.6355010271072388 | accuracy: 0.8701000213623047\n",
      "Epoch: 55/100\n",
      "epoch: 54 | loss: 1.6543738842010498 | accuracy: 0.8705000281333923\n",
      "Epoch: 56/100\n",
      "epoch: 55 | loss: 1.6027917861938477 | accuracy: 0.8712000250816345\n",
      "Epoch: 57/100\n",
      "epoch: 56 | loss: 1.5223203897476196 | accuracy: 0.8720999956130981\n",
      "Epoch: 58/100\n",
      "epoch: 57 | loss: 1.5857826471328735 | accuracy: 0.8697999715805054\n",
      "Epoch: 59/100\n",
      "epoch: 58 | loss: 1.6972705125808716 | accuracy: 0.8722000122070312\n",
      "Epoch: 60/100\n",
      "epoch: 59 | loss: 1.6511280536651611 | accuracy: 0.8730999827384949\n",
      "Epoch: 61/100\n",
      "epoch: 60 | loss: 1.4624521732330322 | accuracy: 0.8726999759674072\n",
      "Epoch: 62/100\n",
      "epoch: 61 | loss: 1.5999640226364136 | accuracy: 0.8726000189781189\n",
      "Epoch: 63/100\n",
      "epoch: 62 | loss: 1.6479406356811523 | accuracy: 0.8730000257492065\n",
      "Epoch: 64/100\n",
      "epoch: 63 | loss: 1.5865638256072998 | accuracy: 0.8741000294685364\n",
      "Epoch: 65/100\n",
      "epoch: 64 | loss: 1.6481373310089111 | accuracy: 0.8733000159263611\n",
      "Epoch: 66/100\n",
      "epoch: 65 | loss: 1.591695785522461 | accuracy: 0.875\n",
      "Epoch: 67/100\n",
      "epoch: 66 | loss: 1.7113115787506104 | accuracy: 0.8747000098228455\n",
      "Epoch: 68/100\n",
      "epoch: 67 | loss: 1.5221729278564453 | accuracy: 0.8755000233650208\n",
      "Epoch: 69/100\n",
      "epoch: 68 | loss: 1.5853805541992188 | accuracy: 0.8751000165939331\n",
      "Epoch: 70/100\n",
      "epoch: 69 | loss: 1.523703694343567 | accuracy: 0.8755999803543091\n",
      "Epoch: 71/100\n",
      "epoch: 70 | loss: 1.5758049488067627 | accuracy: 0.875\n",
      "Epoch: 72/100\n",
      "epoch: 71 | loss: 1.6968719959259033 | accuracy: 0.8751999735832214\n",
      "Epoch: 73/100\n",
      "epoch: 72 | loss: 1.4633872509002686 | accuracy: 0.8751000165939331\n",
      "Epoch: 74/100\n",
      "epoch: 73 | loss: 1.644871711730957 | accuracy: 0.8776000142097473\n",
      "Epoch: 75/100\n",
      "epoch: 74 | loss: 1.6597192287445068 | accuracy: 0.8758999705314636\n",
      "Epoch: 76/100\n",
      "epoch: 75 | loss: 1.5859689712524414 | accuracy: 0.8772000074386597\n",
      "Epoch: 77/100\n",
      "epoch: 76 | loss: 1.5802643299102783 | accuracy: 0.8773999810218811\n",
      "Epoch: 78/100\n",
      "epoch: 77 | loss: 1.7098662853240967 | accuracy: 0.8769000172615051\n",
      "Epoch: 79/100\n",
      "epoch: 78 | loss: 1.586584210395813 | accuracy: 0.8769999742507935\n",
      "Epoch: 80/100\n",
      "epoch: 79 | loss: 1.5878880023956299 | accuracy: 0.8776000142097473\n",
      "Epoch: 81/100\n",
      "epoch: 80 | loss: 1.5861763954162598 | accuracy: 0.8779000043869019\n",
      "Epoch: 82/100\n",
      "epoch: 81 | loss: 1.6597654819488525 | accuracy: 0.8779000043869019\n",
      "Epoch: 83/100\n",
      "epoch: 82 | loss: 1.6376616954803467 | accuracy: 0.8784000277519226\n",
      "Epoch: 84/100\n",
      "epoch: 83 | loss: 1.5688507556915283 | accuracy: 0.8781999945640564\n",
      "Epoch: 85/100\n",
      "epoch: 84 | loss: 1.5210940837860107 | accuracy: 0.8784999847412109\n",
      "Epoch: 86/100\n",
      "epoch: 85 | loss: 1.5210435390472412 | accuracy: 0.878600001335144\n",
      "Epoch: 87/100\n",
      "epoch: 86 | loss: 1.5826295614242554 | accuracy: 0.8798999786376953\n",
      "Epoch: 88/100\n",
      "epoch: 87 | loss: 1.637847900390625 | accuracy: 0.8797000050544739\n",
      "Epoch: 89/100\n",
      "epoch: 88 | loss: 1.691253662109375 | accuracy: 0.8792999982833862\n",
      "Epoch: 90/100\n",
      "epoch: 89 | loss: 1.4624406099319458 | accuracy: 0.8805999755859375\n",
      "Epoch: 91/100\n",
      "epoch: 90 | loss: 1.780371069908142 | accuracy: 0.8792999982833862\n",
      "Epoch: 92/100\n",
      "epoch: 91 | loss: 1.5238596200942993 | accuracy: 0.8806999921798706\n",
      "Epoch: 93/100\n",
      "epoch: 92 | loss: 1.5225659608840942 | accuracy: 0.8812000155448914\n",
      "Epoch: 94/100\n",
      "epoch: 93 | loss: 1.7049751281738281 | accuracy: 0.8801000118255615\n",
      "Epoch: 95/100\n",
      "epoch: 94 | loss: 1.5213346481323242 | accuracy: 0.8813999891281128\n",
      "Epoch: 96/100\n",
      "epoch: 95 | loss: 1.5865601301193237 | accuracy: 0.8819000124931335\n",
      "Epoch: 97/100\n",
      "epoch: 96 | loss: 1.461295247077942 | accuracy: 0.8810999989509583\n",
      "Epoch: 98/100\n",
      "epoch: 97 | loss: 1.5736006498336792 | accuracy: 0.8819000124931335\n",
      "Epoch: 99/100\n",
      "epoch: 98 | loss: 1.6441015005111694 | accuracy: 0.8822000026702881\n",
      "Epoch: 100/100\n",
      "epoch: 99 | loss: 1.7037138938903809 | accuracy: 0.8819000124931335\n"
     ]
    }
   ],
   "source": [
    "epochs = 100\n",
    "print_every = 60\n",
    "train_loss = []\n",
    "test_loss = []\n",
    "accuracies = []\n",
    "for e in range(epochs):\n",
    "    print(f\"Epoch: {e+1}/{epochs}\")\n",
    "    running_loss_train = 0\n",
    "    \n",
    "    \n",
    "\n",
    "    for i, (images, labels) in enumerate(iter(trainloader)):\n",
    "\n",
    "        # Flatten MNIST images into a 784 long vector\n",
    "        images.resize_(images.size()[0], 784)\n",
    "        \n",
    "        optimizer.zero_grad()\n",
    "        \n",
    "        output = model.forward(images)   # 1) Forward pass\n",
    "        loss = criterion(output, labels) # 2) Compute loss\n",
    "        loss.backward()                  # 3) Backward pass\n",
    "        optimizer.step()                  # 4) Update model\n",
    "        \n",
    "        running_loss_train+=(loss.item())\n",
    "    training_loss = running_loss_train/ len(trainloader)\n",
    "    train_loss.append(training_loss)\n",
    "        \n",
    "        \n",
    "        # if i % print_every == 0:\n",
    "        #     print(f\"\\tIteration: {i}\\t Loss: {training_loss/print_every:.4f}\")\n",
    "        #     training_loss = 0\n",
    "    \n",
    "    model.eval()\n",
    "    correct_pred = 0\n",
    "    total_size = 0\n",
    "    running_loss_test = 0\n",
    "    \n",
    "    with torch.no_grad():\n",
    "        for i, (images, labels) in enumerate(iter(testloader)):\n",
    "\n",
    "            #reshaping images\n",
    "            images.resize_(images.size()[0], 784)\n",
    "\n",
    "            #Prediction\n",
    "            output2 = model(images)\n",
    "            prediction = output2.argmax(dim=1)\n",
    "\n",
    "            #getting accuracy\n",
    "            correct_pred+=(prediction==labels).sum()\n",
    "            total_size += labels.size(0)\n",
    "            \n",
    "\n",
    "            #getting the loss value\n",
    "            loss2 = criterion(output2,labels)\n",
    "            running_loss_test+=(loss2.item())  \n",
    "\n",
    "    testing_loss = running_loss_test/len(testloader)\n",
    "    test_loss.append(testing_loss)\n",
    "\n",
    "\n",
    "    accuracy = correct_pred / total_size\n",
    "    accuracies.append(accuracy)\n",
    "\n",
    "    model.train()\n",
    "    print(f'epoch: {e} | loss: {loss2.item()} | accuracy: {accuracy.item()}')\n",
    "\n"
   ]
  },
  {
   "cell_type": "code",
   "execution_count": 84,
   "metadata": {},
   "outputs": [
    {
     "data": {
      "image/png": "[encoded data removed]",
      "text/plain": [
       "<Figure size 432x288 with 1 Axes>"
      ]
     },
     "metadata": {
      "image/png": {
       "height": 248,
       "width": 372
      },
      "needs_background": "light"
     },
     "output_type": "display_data"
    }
   ],
   "source": [
    "plt.plot(train_loss, label='Train loss')\n",
    "plt.plot(test_loss, label='Test loss')\n",
    "plt.plot(accuracies, label='Accuracy')\n",
    "plt.legend()\n",
    "plt.show()\n",
    "    "
   ]
  },
  {
   "cell_type": "code",
   "execution_count": 85,
   "metadata": {},
   "outputs": [
    {
     "data": {
      "image/png": "[encoded data removed]",
      "text/plain": [
       "<Figure size 432x648 with 2 Axes>"
      ]
     },
     "metadata": {
      "image/png": {
       "height": 195,
       "width": 349
      },
      "needs_background": "light"
     },
     "output_type": "display_data"
    }
   ],
   "source": [
    "# Run this cell with your model to make sure it works and predicts well for the validation data\n",
    "images, labels = next(iter(testloader))\n",
    "images.resize_(images.shape[0], 1, 784)\n",
    "ps = model.forward(images[0,:])\n",
    "view_classify(images[0].view(1, 28, 28), ps)"
   ]
  },
  {
   "cell_type": "code",
   "execution_count": 93,
   "metadata": {},
   "outputs": [
    {
     "data": {
      "image/png": "[encoded data removed]",
      "text/plain": [
       "<Figure size 432x648 with 2 Axes>"
      ]
     },
     "metadata": {
      "image/png": {
       "height": 195,
       "width": 349
      },
      "needs_background": "light"
     },
     "output_type": "display_data"
    }
   ],
   "source": [
    "# Run this cell with your model to make sure it works and predicts well for the validation data\n",
    "images, labels = next(iter(testloader))\n",
    "images.resize_(images.shape[0], 1, 784)\n",
    "ps = model.forward(images[0,:])\n",
    "view_classify(images[0].view(1, 28, 28), ps)"
   ]
  },
  {
   "cell_type": "markdown",
   "metadata": {},
   "source": [
    "<div style=\"background:#222222; color:#ffffff; padding:20px\">\n",
    "  <h3 style=\"color:#01ff84; margin-top:4px\">Exercise 3:</h3>\n",
    "  <p>Write the code for adding <strong style=\"color:#01ff84\">Early Stopping with patience = 2</strong> to the training loop from scratch.</p>\n",
    "  <p><strong style=\"color:#01ff84\">Hint:</strong> Monitor the Validation loss every epoch, and if in 2 epochs, the validation loss does not improve, stop the training loop with <code>break</code>.</p>\n",
    "<div>"
   ]
  },
  {
   "cell_type": "code",
   "execution_count": 31,
   "metadata": {},
   "outputs": [],
   "source": [
    "## TODO: Your training loop here"
   ]
  }
 ],
 "metadata": {
  "kernelspec": {
   "display_name": "Python 3.10.4 ('env')",
   "language": "python",
   "name": "python3"
  },
  "language_info": {
   "codemirror_mode": {
    "name": "ipython",
    "version": 3
   },
   "file_extension": ".py",
   "mimetype": "text/x-python",
   "name": "python",
   "nbconvert_exporter": "python",
   "pygments_lexer": "ipython3",
   "version": "3.10.4"
  },
  "vscode": {
   "interpreter": {
    "hash": "5a80a721eddef92e831e6e272c4656ac3b1576e9f7df1307f67eb40125234cad"
   }
  }
 },
 "nbformat": 4,
 "nbformat_minor": 2
}
