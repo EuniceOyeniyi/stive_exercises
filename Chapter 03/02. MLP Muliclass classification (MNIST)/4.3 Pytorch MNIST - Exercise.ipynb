{
 "cells": [
  {
   "cell_type": "markdown",
   "metadata": {},
   "source": [
    "<div style=\"background:#222222; color:#ffffff; padding:20px\">\n",
    "    <h2 align=\"center\">Deep Learning Fundamentals</h2>\n",
    "    <h2 align=\"center\" style=\"color:#01ff84\">Multiclass Clasification: MNIST</h2>\n",
    "<div>"
   ]
  },
  {
   "cell_type": "code",
   "execution_count": 1,
   "metadata": {},
   "outputs": [],
   "source": [
    "%matplotlib inline\n",
    "%config InlineBackend.figure_format = 'retina'\n",
    "\n",
    "from collections import OrderedDict\n",
    "\n",
    "import numpy as np\n",
    "import matplotlib.pyplot as plt\n",
    "import time\n",
    "\n",
    "import torch\n",
    "from torch import nn\n",
    "from torch import optim\n",
    "import torch.nn.functional as F\n",
    "\n",
    "from torchvision import datasets, transforms"
   ]
  },
  {
   "cell_type": "markdown",
   "metadata": {},
   "source": [
    "## Auxliary plotting function"
   ]
  },
  {
   "cell_type": "code",
   "execution_count": 2,
   "metadata": {},
   "outputs": [],
   "source": [
    "# https://discuss.pytorch.org/t/view-classify-in-module-helper/30279/6\n",
    "\n",
    "def view_classify(img, ps):\n",
    "\n",
    "    ps = ps.data.numpy().squeeze()\n",
    "\n",
    "    fig, (ax1, ax2) = plt.subplots(figsize=(6,9), ncols=2)\n",
    "    ax1.imshow(img.resize_(1, 28, 28).numpy().squeeze())\n",
    "    ax1.axis('off')\n",
    "    ax2.barh(np.arange(10), ps)\n",
    "    ax2.set_aspect(0.1)\n",
    "    ax2.set_yticks(np.arange(10))\n",
    "    ax2.set_yticklabels(np.arange(10))\n",
    "    ax2.set_title('Class Probability')\n",
    "    ax2.set_xlim(0, 1.1)"
   ]
  },
  {
   "cell_type": "markdown",
   "metadata": {},
   "source": [
    "# Load MNIST Dataset\n",
    "First up, we need to get our dataset. This is provided through the `torchvision` package. The code below will download the MNIST dataset, then create training and test datasets for us. Don't worry too much about the details here, you'll learn more about this later."
   ]
  },
  {
   "cell_type": "code",
   "execution_count": 3,
   "metadata": {},
   "outputs": [],
   "source": [
    "# Define a transform to normalize the data (Preprocessing)\n",
    "transform = transforms.Compose([transforms.ToTensor(), transforms.Normalize((0.5), (0.5)) ])\n",
    "\n",
    "# Download and load the training data\n",
    "trainset    = datasets.MNIST('MNIST_data/', download=True, train=True, transform=transform)\n",
    "trainloader = torch.utils.data.DataLoader(trainset, batch_size=64, shuffle=True)\n",
    "\n",
    "# Download and load the test data\n",
    "testset    = datasets.MNIST('MNIST_data/', download=True, train=False, transform=transform)\n",
    "testloader = torch.utils.data.DataLoader(testset, batch_size=64, shuffle=True)"
   ]
  },
  {
   "cell_type": "code",
   "execution_count": 4,
   "metadata": {},
   "outputs": [],
   "source": [
    "dataiter = iter(trainloader)\n",
    "images, labels = dataiter.next()"
   ]
  },
  {
   "cell_type": "markdown",
   "metadata": {},
   "source": [
    "We have the training data loaded into `trainloader` and we make that an iterator with `iter(trainloader)`. We'd use this to loop through the dataset for training, but here I'm just grabbing the first batch so we can check out the data. We can see below that `images` is just a tensor with size (64, 1, 28, 28). So, 64 images per batch, 1 color channel, and 28x28 images."
   ]
  },
  {
   "cell_type": "code",
   "execution_count": 5,
   "metadata": {},
   "outputs": [
    {
     "data": {
      "image/png": "[encoded data removed]",
      "text/plain": [
       "<Figure size 432x288 with 1 Axes>"
      ]
     },
     "metadata": {
      "image/png": {
       "height": 248,
       "width": 251
      },
      "needs_background": "light"
     },
     "output_type": "display_data"
    }
   ],
   "source": [
    "plt.imshow(images[1].numpy().squeeze(), cmap='Greys_r');"
   ]
  },
  {
   "cell_type": "markdown",
   "metadata": {},
   "source": [
    "## Building networks with PyTorch\n",
    "\n",
    "Here I'll use PyTorch to build a simple feedfoward network to classify the MNIST images. That is, the network will receive a digit image as input and predict the digit in the image.\n",
    "\n",
    "<img src=\"assets/mlp_mnist.png\" width=600px>\n",
    "\n",
    "To build a neural network with PyTorch, you use the `torch.nn` module. The network itself is a class inheriting from `torch.nn.Module`. You define each of the operations separately, like `nn.Linear(784, 128)` for a fully connected linear layer with 784 inputs and 128 units.\n",
    "\n",
    "The class needs to include a `forward` method that implements the forward pass through the network. In this method, you pass some input tensor `x` through each of the operations you defined earlier. The `torch.nn` module also has functional equivalents for things like ReLUs in `torch.nn.functional`. This module is usually imported as `F`. Then to use a ReLU activation on some layer (which is just a tensor), you'd do `F.relu(x)`. Below are a few different commonly used activation functions.\n",
    "\n",
    "<img src=\"assets/activation.png\" width=700px>\n",
    "\n",
    "So, for this network, I'll build it with three fully connected layers, then a softmax output for predicting classes. The softmax function is similar to the sigmoid in that it squashes inputs between 0 and 1, but it's also normalized so that all the values sum to one like a proper probability distribution."
   ]
  },
  {
   "cell_type": "code",
   "execution_count": 6,
   "metadata": {},
   "outputs": [
    {
     "data": {
      "text/plain": [
       "Network(\n",
       "  (fc1): Linear(in_features=784, out_features=128, bias=True)\n",
       "  (fc2): Linear(in_features=128, out_features=64, bias=True)\n",
       "  (fc3): Linear(in_features=64, out_features=10, bias=True)\n",
       ")"
      ]
     },
     "execution_count": 6,
     "metadata": {},
     "output_type": "execute_result"
    }
   ],
   "source": [
    "class Network(nn.Module):\n",
    "    \n",
    "    # Defining the layers, 128, 64, 10 units each\n",
    "    def __init__(self):\n",
    "        super().__init__()\n",
    "        self.fc1 = nn.Linear(784, 128)\n",
    "        self.fc2 = nn.Linear(128, 64)\n",
    "        self.fc3 = nn.Linear(64, 10)\n",
    "        \n",
    "    # Forward pass through the network, returns the output logits\n",
    "    def forward(self, x):\n",
    "        x = self.fc1(x)\n",
    "        x = F.relu(x)\n",
    "        x = self.fc2(x)\n",
    "        x = F.relu(x)\n",
    "        x = self.fc3(x)\n",
    "        x = F.softmax(x, dim=1)\n",
    "        return x\n",
    "\n",
    "model = Network()\n",
    "model"
   ]
  },
  {
   "cell_type": "markdown",
   "metadata": {},
   "source": [
    "### Sequential API\n",
    "PyTorch provides a convenient way to build networks like this where a tensor is passed sequentially through operations, `nn.Sequential` ([documentation](https://pytorch.org/docs/master/nn.html#torch.nn.Sequential)). Using this to build the equivalent network:"
   ]
  },
  {
   "cell_type": "code",
   "execution_count": 7,
   "metadata": {},
   "outputs": [
    {
     "name": "stdout",
     "output_type": "stream",
     "text": [
      "Sequential(\n",
      "  (0): Linear(in_features=784, out_features=128, bias=True)\n",
      "  (1): ReLU()\n",
      "  (2): Linear(in_features=128, out_features=64, bias=True)\n",
      "  (3): ReLU()\n",
      "  (4): Linear(in_features=64, out_features=10, bias=True)\n",
      "  (5): Softmax(dim=1)\n",
      ")\n"
     ]
    }
   ],
   "source": [
    "# Hyperparameters for our network\n",
    "input_size   = 784\n",
    "hidden_sizes = [128, 64]\n",
    "output_size   = 10\n",
    "\n",
    "# Build a feed-forward network\n",
    "model = nn.Sequential(nn.Linear(input_size, hidden_sizes[0]),\n",
    "                      nn.ReLU(),\n",
    "                      nn.Linear(hidden_sizes[0], hidden_sizes[1]),\n",
    "                      nn.ReLU(),\n",
    "                      nn.Linear(hidden_sizes[1], output_size),\n",
    "                      nn.Softmax(dim=1))\n",
    "print(model)"
   ]
  },
  {
   "cell_type": "code",
   "execution_count": 8,
   "metadata": {},
   "outputs": [
    {
     "name": "stdout",
     "output_type": "stream",
     "text": [
      "tensor([[0.0992, 0.0856, 0.1076, 0.1016, 0.0985, 0.1175, 0.0912, 0.0904, 0.0954,\n",
      "         0.1128],\n",
      "        [0.1022, 0.0887, 0.1001, 0.1087, 0.0963, 0.1121, 0.0923, 0.0905, 0.0990,\n",
      "         0.1099]], grad_fn=<SoftmaxBackward0>)\n"
     ]
    }
   ],
   "source": [
    "fake_mnist = torch.rand(2, 784)\n",
    "seq_model = nn.Sequential(nn.Linear(input_size, hidden_sizes[0]),\n",
    "                      nn.ReLU(),\n",
    "                      nn.Linear(hidden_sizes[0], hidden_sizes[1]),\n",
    "                      nn.ReLU(),\n",
    "                      nn.Linear(hidden_sizes[1], output_size),\n",
    "                      nn.Softmax(dim=1))\n",
    "\n",
    "fake_preds= seq_model(fake_mnist)\n",
    "print(fake_preds)"
   ]
  },
  {
   "cell_type": "markdown",
   "metadata": {},
   "source": [
    "You can also pass in an `OrderedDict` to name the individual layers and operations. Note that a dictionary keys must be unique, so _each operation must have a different name_."
   ]
  },
  {
   "cell_type": "code",
   "execution_count": 9,
   "metadata": {},
   "outputs": [
    {
     "data": {
      "text/plain": [
       "Sequential(\n",
       "  (fc1): Linear(in_features=784, out_features=128, bias=True)\n",
       "  (relu1): ReLU()\n",
       "  (fc2): Linear(in_features=128, out_features=64, bias=True)\n",
       "  (relu2): ReLU()\n",
       "  (output): Linear(in_features=64, out_features=10, bias=True)\n",
       "  (softmax): Softmax(dim=1)\n",
       ")"
      ]
     },
     "execution_count": 9,
     "metadata": {},
     "output_type": "execute_result"
    }
   ],
   "source": [
    "model = nn.Sequential(OrderedDict([\n",
    "          ('fc1',   nn.Linear(input_size, hidden_sizes[0])),\n",
    "          ('relu1', nn.ReLU()),\n",
    "          ('fc2',   nn.Linear(hidden_sizes[0], hidden_sizes[1])),\n",
    "          ('relu2', nn.ReLU()),\n",
    "          ('output', nn.Linear(hidden_sizes[1], output_size)),\n",
    "          ('softmax', nn.Softmax(dim=1))]))\n",
    "model"
   ]
  },
  {
   "cell_type": "markdown",
   "metadata": {},
   "source": [
    "### Initializing weights and biases\n",
    "\n",
    "The weights and such are automatically initialized for you, but it's possible to customize how they are initialized. The weights and biases are tensors attached to the layer you defined, you can get them with `model.fc1.weight` for instance."
   ]
  },
  {
   "cell_type": "code",
   "execution_count": 10,
   "metadata": {},
   "outputs": [
    {
     "name": "stdout",
     "output_type": "stream",
     "text": [
      "Parameter containing:\n",
      "tensor([[-0.0285, -0.0120,  0.0064,  ...,  0.0026, -0.0221, -0.0095],\n",
      "        [ 0.0257,  0.0068,  0.0056,  ...,  0.0226, -0.0325,  0.0107],\n",
      "        [ 0.0252,  0.0199,  0.0055,  ..., -0.0131,  0.0355,  0.0298],\n",
      "        ...,\n",
      "        [ 0.0138,  0.0033,  0.0140,  ...,  0.0003,  0.0037, -0.0296],\n",
      "        [ 0.0159, -0.0059,  0.0043,  ...,  0.0279, -0.0353,  0.0217],\n",
      "        [ 0.0350, -0.0216, -0.0148,  ..., -0.0276,  0.0187,  0.0344]],\n",
      "       requires_grad=True)\n",
      "Parameter containing:\n",
      "tensor([ 0.0043, -0.0283,  0.0099,  0.0034, -0.0283, -0.0185,  0.0148, -0.0324,\n",
      "         0.0309, -0.0082, -0.0237,  0.0191,  0.0244, -0.0308,  0.0143, -0.0202,\n",
      "         0.0005, -0.0118, -0.0091,  0.0221,  0.0304,  0.0027, -0.0320, -0.0254,\n",
      "         0.0162,  0.0025,  0.0084, -0.0308, -0.0276,  0.0003,  0.0280, -0.0183,\n",
      "         0.0068,  0.0302,  0.0048,  0.0343,  0.0345, -0.0227, -0.0298, -0.0011,\n",
      "         0.0237,  0.0300, -0.0086, -0.0245,  0.0072,  0.0297,  0.0249, -0.0295,\n",
      "        -0.0201, -0.0273,  0.0194, -0.0314,  0.0334,  0.0098,  0.0304, -0.0266,\n",
      "        -0.0054,  0.0242,  0.0356,  0.0015,  0.0151, -0.0165,  0.0192, -0.0034,\n",
      "         0.0247, -0.0323,  0.0262,  0.0155, -0.0317, -0.0163, -0.0161,  0.0052,\n",
      "        -0.0044, -0.0073,  0.0071, -0.0054, -0.0114,  0.0247, -0.0357, -0.0229,\n",
      "        -0.0103, -0.0158,  0.0236,  0.0277,  0.0013,  0.0215,  0.0187,  0.0085,\n",
      "         0.0059,  0.0305, -0.0238,  0.0265,  0.0280, -0.0223,  0.0269,  0.0244,\n",
      "        -0.0119, -0.0170,  0.0015,  0.0084,  0.0023,  0.0291,  0.0081,  0.0237,\n",
      "        -0.0244, -0.0245,  0.0210, -0.0296, -0.0207, -0.0103,  0.0021,  0.0268,\n",
      "         0.0272, -0.0090,  0.0137,  0.0245,  0.0335, -0.0207,  0.0318, -0.0272,\n",
      "         0.0212,  0.0287, -0.0098, -0.0188, -0.0255,  0.0296,  0.0230, -0.0344],\n",
      "       requires_grad=True)\n"
     ]
    }
   ],
   "source": [
    "print(model.fc1.weight)\n",
    "print(model.fc1.bias)"
   ]
  },
  {
   "cell_type": "markdown",
   "metadata": {},
   "source": [
    "For custom initialization, we want to modify these tensors in place. These are actually autograd *Variables*, so we need to get back the actual tensors with `model.fc1.weight.data`. Once we have the tensors, we can fill them with zeros (for biases) or random normal values."
   ]
  },
  {
   "cell_type": "code",
   "execution_count": 11,
   "metadata": {},
   "outputs": [
    {
     "data": {
      "text/plain": [
       "tensor([0., 0., 0., 0., 0., 0., 0., 0., 0., 0., 0., 0., 0., 0., 0., 0., 0., 0., 0., 0., 0., 0., 0., 0.,\n",
       "        0., 0., 0., 0., 0., 0., 0., 0., 0., 0., 0., 0., 0., 0., 0., 0., 0., 0., 0., 0., 0., 0., 0., 0.,\n",
       "        0., 0., 0., 0., 0., 0., 0., 0., 0., 0., 0., 0., 0., 0., 0., 0., 0., 0., 0., 0., 0., 0., 0., 0.,\n",
       "        0., 0., 0., 0., 0., 0., 0., 0., 0., 0., 0., 0., 0., 0., 0., 0., 0., 0., 0., 0., 0., 0., 0., 0.,\n",
       "        0., 0., 0., 0., 0., 0., 0., 0., 0., 0., 0., 0., 0., 0., 0., 0., 0., 0., 0., 0., 0., 0., 0., 0.,\n",
       "        0., 0., 0., 0., 0., 0., 0., 0.])"
      ]
     },
     "execution_count": 11,
     "metadata": {},
     "output_type": "execute_result"
    }
   ],
   "source": [
    "# Set biases to all zeros\n",
    "model.fc1.bias.data.fill_(0)"
   ]
  },
  {
   "cell_type": "code",
   "execution_count": 12,
   "metadata": {},
   "outputs": [
    {
     "data": {
      "text/plain": [
       "tensor([[-2.1985e-03, -8.0595e-04, -1.5502e-03,  ..., -5.2832e-03,\n",
       "         -2.4729e-03, -1.4406e-02],\n",
       "        [-1.0393e-02, -2.0732e-02,  5.1979e-03,  ...,  1.2500e-02,\n",
       "         -4.9552e-03,  1.2057e-02],\n",
       "        [-9.4874e-03, -1.1091e-02,  1.3159e-02,  ...,  1.9335e-02,\n",
       "         -9.8127e-03,  1.7411e-03],\n",
       "        ...,\n",
       "        [-8.8913e-03, -1.0668e-02,  1.6797e-02,  ..., -3.2784e-02,\n",
       "         -3.1010e-04,  6.6702e-03],\n",
       "        [-1.5716e-02,  8.2706e-03,  7.7974e-03,  ..., -2.3413e-02,\n",
       "          1.6899e-02,  1.7035e-03],\n",
       "        [-1.7750e-02, -9.0089e-03,  3.7291e-03,  ..., -2.6388e-04,\n",
       "         -8.7715e-03, -3.6571e-05]])"
      ]
     },
     "execution_count": 12,
     "metadata": {},
     "output_type": "execute_result"
    }
   ],
   "source": [
    "# sample from random normal with standard dev = 0.01\n",
    "model.fc1.weight.data.normal_(std=0.01)"
   ]
  },
  {
   "cell_type": "markdown",
   "metadata": {},
   "source": [
    "### STEP 1: Forward pass\n",
    "\n",
    "Now that we have a network, let's see what happens when we pass in an image. This is called the forward pass. We're going to convert the image data into a tensor, then pass it through the operations defined by the network architecture."
   ]
  },
  {
   "cell_type": "code",
   "execution_count": 13,
   "metadata": {},
   "outputs": [
    {
     "data": {
      "image/png": "[encoded data removed]",
      "text/plain": [
       "<Figure size 432x648 with 2 Axes>"
      ]
     },
     "metadata": {
      "image/png": {
       "height": 195,
       "width": 349
      },
      "needs_background": "light"
     },
     "output_type": "display_data"
    }
   ],
   "source": [
    "# Grab some data \n",
    "dataiter = iter(trainloader)\n",
    "images, labels = dataiter.next()\n",
    "\n",
    "# Resize images into a 1D vector, new shape is (batch size, color channels, image pixels) \n",
    "images.resize_(64, 1, 784)\n",
    "# or images.resize_(images.shape[0], 1, 784) to not automatically get batch size\n",
    "\n",
    "# Forward pass through the network\n",
    "img_idx = 0\n",
    "ps = model.forward(images[img_idx,:])\n",
    "\n",
    "img = images[img_idx]\n",
    "view_classify(img.view(1, 28, 28), ps)"
   ]
  },
  {
   "cell_type": "markdown",
   "metadata": {},
   "source": [
    "As you can see above, our network has basically no idea what this digit is. It's because we haven't trained it yet, all the weights are random!"
   ]
  },
  {
   "cell_type": "markdown",
   "metadata": {},
   "source": [
    "# Training Neural Networks\n",
    "\n",
    "The network we built isn't so smart, it doesn't know anything about our handwritten digits. Neural networks with non-linear activations work like universal function approximators. There is some function that maps your input to the output. For example, images of handwritten digits to class probabilities. The power of neural networks is that we can train them to approximate this function, and basically any function given enough data and compute time.\n",
    "\n",
    "<img src=\"assets/function_approx.png\" width=500px>\n",
    "\n",
    "At first the network is naive, it doesn't know the function mapping the inputs to the outputs. We train the network by showing it examples of real data, then adjusting the network parameters such that it approximates this function.\n",
    "\n",
    "To find these parameters, we need to know how poorly the network is predicting the real outputs. For this we calculate a **loss function** (also called the cost), a measure of our prediction error. For example, the mean squared loss is often used in regression and binary classification problems\n",
    "\n",
    "$$\n",
    "\\ell = \\frac{1}{2n}\\sum_i^n{\\left(y_i - \\hat{y}_i\\right)^2}\n",
    "$$\n",
    "\n",
    "where $n$ is the number of training examples, $y_i$ are the true labels, and $\\hat{y}_i$ are the predicted labels.\n",
    "\n",
    "By minimizing this loss with respect to the network parameters, we can find configurations where the loss is at a minimum and the network is able to predict the correct labels with high accuracy. We find this minimum using a process called **gradient descent**. The gradient is the slope of the loss function and points in the direction of fastest change. To get to the minimum in the least amount of time, we then want to follow the gradient (downwards). You can think of this like descending a mountain by following the steepest slope to the base.\n",
    "\n",
    "<img src='assets/gradient_descent.png' width=350px>"
   ]
  },
  {
   "cell_type": "markdown",
   "metadata": {},
   "source": [
    "## Backpropagation\n",
    "\n",
    "For single layer networks, gradient descent is simple to implement. However, it's more complicated for deeper, multilayer neural networks like the one we've built. Complicated enough that it took about 30 years before researchers figured out how to train multilayer networks, although it's straightforward once you learn about it. \n",
    "\n",
    "This is done through **backpropagation** which is really just an application of the chain rule from calculus. It's easiest to understand if we convert a two layer network into a graph representation.\n",
    "\n",
    "<img src='assets/w1_backprop_graph.png' width=400px>\n",
    "\n",
    "In the forward pass through the network, our data and operations go from right to left here. To train the weights with gradient descent, we propagate the gradient of the cost backwards through the network. Mathematically, this is really just calculating the gradient of the loss with respect to the weights using the chain rule.\n",
    "\n",
    "$$\n",
    "\\frac{\\partial \\ell}{\\partial w_1} = \\frac{\\partial l_1}{\\partial w_1} \\frac{\\partial s}{\\partial l_1} \\frac{\\partial l_2}{\\partial s} \\frac{\\partial \\ell}{\\partial l_2}\n",
    "$$\n",
    "\n",
    "We update our weights using this gradient with some learning rate $\\alpha$. \n",
    "\n",
    "$$\n",
    "w^\\prime = w - \\alpha \\frac{\\partial \\ell}{\\partial w}\n",
    "$$\n",
    "\n",
    "The learning rate is set such that the weight update steps are small enough that the iterative method settles in a minimum.\n",
    "\n",
    "The first thing we need to do for training is define our loss function. In PyTorch, you'll usually see this as `criterion`. Here we're using softmax output, so we want to use `criterion = nn.CrossEntropyLoss()` as our loss. Later when training, you use `loss = criterion(output, targets)` to calculate the actual loss.\n",
    "\n",
    "We also need to define the optimizer we're using, SGD or Adam, or something along those lines. Here I'll just use SGD with `torch.optim.SGD`, passing in the network parameters and the learning rate."
   ]
  },
  {
   "cell_type": "markdown",
   "metadata": {},
   "source": [
    "## Autograd\n",
    "\n",
    "Torch provides a module, `autograd`, for automatically calculating the gradient of tensors. It does this by keeping track of operations performed on tensors. To make sure PyTorch keeps track of operations on a tensor and calculates the gradients, you need to set `requires_grad` on a tensor. You can do this at creation with the `requires_grad` keyword, or at any time with `x.requires_grad_(True)`.\n",
    "\n",
    "You can turn off gradients for a block of code with the `torch.no_grad()` content:\n",
    "```python\n",
    "x = torch.zeros(1, requires_grad=True)\n",
    ">>> with torch.no_grad():\n",
    "...     y = x * 2\n",
    ">>> y.requires_grad\n",
    "False\n",
    "```\n",
    "\n",
    "Also, you can turn on or off gradients altogether with `torch.set_grad_enabled(True|False)`.\n",
    "\n",
    "The gradients are computed with respect to some variable `z` with `z.backward()`. This does a backward pass through the operations that created `z`."
   ]
  },
  {
   "cell_type": "code",
   "execution_count": 13,
   "metadata": {},
   "outputs": [
    {
     "name": "stdout",
     "output_type": "stream",
     "text": [
      "tensor([[-0.7245,  0.2638],\n",
      "        [-0.2286, -0.6653]], requires_grad=True)\n"
     ]
    }
   ],
   "source": [
    "x = torch.randn(2,2, requires_grad=True)\n",
    "print(x)"
   ]
  },
  {
   "cell_type": "code",
   "execution_count": 14,
   "metadata": {},
   "outputs": [
    {
     "name": "stdout",
     "output_type": "stream",
     "text": [
      "tensor([[0.5249, 0.0696],\n",
      "        [0.0523, 0.4426]], grad_fn=<PowBackward0>)\n"
     ]
    }
   ],
   "source": [
    "y = x**2\n",
    "print(y)"
   ]
  },
  {
   "cell_type": "markdown",
   "metadata": {},
   "source": [
    "Below we can see the operation that created `y`, a power operation `PowBackward0`."
   ]
  },
  {
   "cell_type": "code",
   "execution_count": 15,
   "metadata": {},
   "outputs": [
    {
     "name": "stdout",
     "output_type": "stream",
     "text": [
      "<PowBackward0 object at 0x000002EC68D811E0>\n"
     ]
    }
   ],
   "source": [
    "## grad_fn shows the function that generated this variable\n",
    "print(y.grad_fn)"
   ]
  },
  {
   "cell_type": "markdown",
   "metadata": {},
   "source": [
    "The autgrad module keeps track of these operations and knows how to calculate the gradient for each one. In this way, it's able to calculate the gradients for a chain of operations, with respect to any one tensor. Let's reduce the tensor `y` to a scalar value, the mean."
   ]
  },
  {
   "cell_type": "code",
   "execution_count": 16,
   "metadata": {},
   "outputs": [
    {
     "name": "stdout",
     "output_type": "stream",
     "text": [
      "tensor(0.2723, grad_fn=<MeanBackward0>)\n"
     ]
    }
   ],
   "source": [
    "z = y.mean()\n",
    "print(z)"
   ]
  },
  {
   "cell_type": "markdown",
   "metadata": {},
   "source": [
    "You can check the gradients for `x` and `y` but they are empty currently."
   ]
  },
  {
   "cell_type": "code",
   "execution_count": 17,
   "metadata": {},
   "outputs": [
    {
     "name": "stdout",
     "output_type": "stream",
     "text": [
      "None\n"
     ]
    }
   ],
   "source": [
    "print(x.grad)"
   ]
  },
  {
   "cell_type": "markdown",
   "metadata": {},
   "source": [
    "To calculate the gradients, you need to run the `.backward` method on a Variable, `z` for example. This will calculate the gradient for `z` with respect to `x`\n",
    "\n",
    "$$\n",
    "\\frac{\\partial z}{\\partial x} = \\frac{\\partial}{\\partial x}\\left[\\frac{1}{n}\\sum_i^n x_i^2\\right] = \\frac{x}{2}\n",
    "$$"
   ]
  },
  {
   "cell_type": "code",
   "execution_count": 18,
   "metadata": {},
   "outputs": [
    {
     "name": "stdout",
     "output_type": "stream",
     "text": [
      "tensor([[-0.3622,  0.1319],\n",
      "        [-0.1143, -0.3326]])\n",
      "tensor([[-0.3622,  0.1319],\n",
      "        [-0.1143, -0.3326]], grad_fn=<DivBackward0>)\n"
     ]
    }
   ],
   "source": [
    "z.backward()\n",
    "print(x.grad)\n",
    "print(x/2)"
   ]
  },
  {
   "cell_type": "markdown",
   "metadata": {},
   "source": [
    "These gradients calculations are particularly useful for neural networks. For training we need the gradients of the weights with respect to the cost. With PyTorch, we run data forward through the network to calculate the cost, then, go backwards to calculate the gradients with respect to the cost. Once we have the gradients we can make a gradient descent step. "
   ]
  },
  {
   "cell_type": "markdown",
   "metadata": {},
   "source": [
    "I'll build a network with `nn.Sequential` here. Only difference from the last part is I'm not actually using softmax on the output, but instead just using the raw output from the last layer. This is because the output from softmax is a probability distribution. Often, the output will have values really close to zero or really close to one. Due to [inaccuracies with representing numbers as floating points](https://docs.python.org/3/tutorial/floatingpoint.html), computations with a softmax output can lose accuracy and become unstable. To get around this, we'll use the raw output, called the **logits**, to calculate the loss."
   ]
  },
  {
   "cell_type": "code",
   "execution_count": 14,
   "metadata": {},
   "outputs": [],
   "source": [
    "# Hyperparameters for our network\n",
    "input_size   = 784\n",
    "hidden_sizes = [70, 200]\n",
    "output_size  = 10\n",
    "\n",
    "# Build a feed-forward network\n",
    "model = nn.Sequential(OrderedDict([\n",
    "          ('fc1', nn.Linear(input_size, hidden_sizes[0])),\n",
    "          ('relu1', nn.ReLU()),\n",
    "          ('fc2', nn.Linear(hidden_sizes[0], hidden_sizes[1])),\n",
    "          ('relu2', nn.ReLU()),\n",
    "          ('logits', nn.Linear(hidden_sizes[1], output_size))]))"
   ]
  },
  {
   "cell_type": "markdown",
   "metadata": {},
   "source": [
    "## Training the network!\n",
    "\n",
    "The first thing we need to do for training is define our loss function. In PyTorch, you'll usually see this as `criterion`. Here we're using softmax output, so we want to use `criterion = nn.CrossEntropyLoss()` as our loss. Later when training, you use `loss = criterion(output, targets)` to calculate the actual loss.\n",
    "\n",
    "We also need to define the optimizer we're using, SGD or Adam, or something along those lines. Here I'll just use SGD with `torch.optim.SGD`, passing in the network parameters and the learning rate."
   ]
  },
  {
   "cell_type": "code",
   "execution_count": 19,
   "metadata": {},
   "outputs": [],
   "source": [
    "criterion = nn.CrossEntropyLoss()\n",
    "# optimizer = optim.SGD(model.parameters(), lr=0.01)\n",
    "optimizer = optim.Adam(model.parameters(), lr=0.0001)"
   ]
  },
  {
   "cell_type": "markdown",
   "metadata": {},
   "source": [
    "First, let's consider just one learning step before looping through all the data. The general process with PyTorch:\n",
    "\n",
    "* Make a forward pass through the network to get the logits \n",
    "* Use the logits to calculate the loss\n",
    "* Perform a backward pass through the network with `loss.backward()` to calculate the gradients\n",
    "* Take a step with the optimizer to update the weights\n",
    "\n",
    "Below I'll go through one training step and print out the weights and gradients so you can see how it changes."
   ]
  },
  {
   "cell_type": "code",
   "execution_count": 17,
   "metadata": {},
   "outputs": [
    {
     "name": "stdout",
     "output_type": "stream",
     "text": [
      "Initial weights -  Parameter containing:\n",
      "tensor([[-0.0124,  0.0157,  0.0144,  ...,  0.0234, -0.0187, -0.0158],\n",
      "        [-0.0289,  0.0085,  0.0018,  ..., -0.0226,  0.0096, -0.0356],\n",
      "        [ 0.0044,  0.0031,  0.0116,  ...,  0.0027, -0.0049,  0.0070],\n",
      "        ...,\n",
      "        [ 0.0225, -0.0190, -0.0276,  ...,  0.0296, -0.0263, -0.0357],\n",
      "        [-0.0291,  0.0024, -0.0042,  ...,  0.0205,  0.0147,  0.0295],\n",
      "        [-0.0176,  0.0121,  0.0327,  ...,  0.0104,  0.0128, -0.0160]],\n",
      "       requires_grad=True)\n",
      "Gradient - tensor([[-0.0004, -0.0004, -0.0004,  ..., -0.0004, -0.0004, -0.0004],\n",
      "        [-0.0020, -0.0020, -0.0020,  ..., -0.0020, -0.0020, -0.0020],\n",
      "        [ 0.0008,  0.0008,  0.0008,  ...,  0.0008,  0.0008,  0.0008],\n",
      "        ...,\n",
      "        [ 0.0017,  0.0017,  0.0017,  ...,  0.0017,  0.0017,  0.0017],\n",
      "        [ 0.0025,  0.0025,  0.0025,  ...,  0.0025,  0.0025,  0.0025],\n",
      "        [-0.0029, -0.0029, -0.0029,  ..., -0.0029, -0.0029, -0.0029]])\n"
     ]
    }
   ],
   "source": [
    "print('Initial weights - ', model.fc1.weight)\n",
    "\n",
    "images, labels = next(iter(trainloader))\n",
    "images.resize_(64, 784)\n",
    "\n",
    "# Clear the gradients, do this because gradients are accumulated\n",
    "optimizer.zero_grad()\n",
    "\n",
    "# Forward pass, then backward pass, then update weights\n",
    "output = model.forward(images)\n",
    "loss = criterion(output, labels)\n",
    "loss.backward()\n",
    "print('Gradient -', model.fc1.weight.grad)\n",
    "optimizer.step()"
   ]
  },
  {
   "cell_type": "code",
   "execution_count": 18,
   "metadata": {},
   "outputs": [
    {
     "name": "stdout",
     "output_type": "stream",
     "text": [
      "Updated weights -  Parameter containing:\n",
      "tensor([[-0.0124,  0.0157,  0.0144,  ...,  0.0234, -0.0187, -0.0158],\n",
      "        [-0.0289,  0.0086,  0.0019,  ..., -0.0226,  0.0097, -0.0356],\n",
      "        [ 0.0044,  0.0031,  0.0115,  ...,  0.0027, -0.0049,  0.0070],\n",
      "        ...,\n",
      "        [ 0.0225, -0.0190, -0.0277,  ...,  0.0296, -0.0263, -0.0357],\n",
      "        [-0.0292,  0.0024, -0.0043,  ...,  0.0205,  0.0147,  0.0295],\n",
      "        [-0.0176,  0.0121,  0.0327,  ...,  0.0105,  0.0128, -0.0160]],\n",
      "       requires_grad=True)\n"
     ]
    }
   ],
   "source": [
    "print('Updated weights - ', model.fc1.weight)"
   ]
  },
  {
   "cell_type": "markdown",
   "metadata": {},
   "source": [
    "### Training for real\n",
    "\n",
    "Now we'll put this algorithm into a loop so we can go through all the images. This is fairly straightforward. We'll loop through the mini-batches in our dataset, pass the data through the network to calculate the losses, get the gradients, then run the optimizer."
   ]
  },
  {
   "cell_type": "code",
   "execution_count": 23,
   "metadata": {},
   "outputs": [],
   "source": [
    "optimizer = optim.SGD(model.parameters(), lr=0.003)"
   ]
  },
  {
   "cell_type": "code",
   "execution_count": 24,
   "metadata": {},
   "outputs": [
    {
     "name": "stdout",
     "output_type": "stream",
     "text": [
      "Epoch: 1/3\n",
      "\tIteration: 0\t Loss: 0.0577\n",
      "\tIteration: 40\t Loss: 2.2891\n",
      "\tIteration: 80\t Loss: 2.2685\n",
      "\tIteration: 120\t Loss: 2.2548\n",
      "\tIteration: 160\t Loss: 2.2364\n",
      "\tIteration: 200\t Loss: 2.2150\n",
      "\tIteration: 240\t Loss: 2.2025\n",
      "\tIteration: 280\t Loss: 2.1723\n",
      "\tIteration: 320\t Loss: 2.1551\n",
      "\tIteration: 360\t Loss: 2.1280\n",
      "\tIteration: 400\t Loss: 2.0977\n",
      "\tIteration: 440\t Loss: 2.0657\n",
      "\tIteration: 480\t Loss: 2.0264\n",
      "\tIteration: 520\t Loss: 1.9868\n",
      "\tIteration: 560\t Loss: 1.9400\n",
      "\tIteration: 600\t Loss: 1.8829\n",
      "\tIteration: 640\t Loss: 1.8469\n",
      "\tIteration: 680\t Loss: 1.7730\n",
      "\tIteration: 720\t Loss: 1.7105\n",
      "\tIteration: 760\t Loss: 1.6526\n",
      "\tIteration: 800\t Loss: 1.6021\n",
      "\tIteration: 840\t Loss: 1.5297\n",
      "\tIteration: 880\t Loss: 1.4764\n",
      "\tIteration: 920\t Loss: 1.4135\n",
      "Epoch: 2/3\n",
      "\tIteration: 0\t Loss: 0.0340\n",
      "\tIteration: 40\t Loss: 1.3176\n",
      "\tIteration: 80\t Loss: 1.2521\n",
      "\tIteration: 120\t Loss: 1.1972\n",
      "\tIteration: 160\t Loss: 1.1643\n",
      "\tIteration: 200\t Loss: 1.1055\n",
      "\tIteration: 240\t Loss: 1.0760\n",
      "\tIteration: 280\t Loss: 1.0156\n",
      "\tIteration: 320\t Loss: 0.9904\n",
      "\tIteration: 360\t Loss: 0.9487\n",
      "\tIteration: 400\t Loss: 0.9381\n",
      "\tIteration: 440\t Loss: 0.8903\n",
      "\tIteration: 480\t Loss: 0.9007\n",
      "\tIteration: 520\t Loss: 0.8192\n",
      "\tIteration: 560\t Loss: 0.8138\n",
      "\tIteration: 600\t Loss: 0.8085\n",
      "\tIteration: 640\t Loss: 0.7573\n",
      "\tIteration: 680\t Loss: 0.7387\n",
      "\tIteration: 720\t Loss: 0.7198\n",
      "\tIteration: 760\t Loss: 0.7176\n",
      "\tIteration: 800\t Loss: 0.7028\n",
      "\tIteration: 840\t Loss: 0.6976\n",
      "\tIteration: 880\t Loss: 0.6939\n",
      "\tIteration: 920\t Loss: 0.6511\n",
      "Epoch: 3/3\n",
      "\tIteration: 0\t Loss: 0.0123\n",
      "\tIteration: 40\t Loss: 0.6308\n",
      "\tIteration: 80\t Loss: 0.6161\n",
      "\tIteration: 120\t Loss: 0.5969\n",
      "\tIteration: 160\t Loss: 0.6251\n",
      "\tIteration: 200\t Loss: 0.5838\n",
      "\tIteration: 240\t Loss: 0.5968\n",
      "\tIteration: 280\t Loss: 0.5741\n",
      "\tIteration: 320\t Loss: 0.5460\n",
      "\tIteration: 360\t Loss: 0.5574\n",
      "\tIteration: 400\t Loss: 0.5361\n",
      "\tIteration: 440\t Loss: 0.5651\n",
      "\tIteration: 480\t Loss: 0.5472\n",
      "\tIteration: 520\t Loss: 0.5293\n",
      "\tIteration: 560\t Loss: 0.5397\n",
      "\tIteration: 600\t Loss: 0.5081\n",
      "\tIteration: 640\t Loss: 0.4941\n",
      "\tIteration: 680\t Loss: 0.5323\n",
      "\tIteration: 720\t Loss: 0.5033\n",
      "\tIteration: 760\t Loss: 0.4923\n",
      "\tIteration: 800\t Loss: 0.4860\n",
      "\tIteration: 840\t Loss: 0.4734\n",
      "\tIteration: 880\t Loss: 0.4872\n",
      "\tIteration: 920\t Loss: 0.4837\n"
     ]
    }
   ],
   "source": [
    "epochs = 3\n",
    "print_every = 40\n",
    "\n",
    "for e in range(epochs):\n",
    "    running_loss = 0\n",
    "    print(f\"Epoch: {e+1}/{epochs}\")\n",
    "\n",
    "    for i, (images, labels) in enumerate(iter(trainloader)):\n",
    "\n",
    "        # Flatten MNIST images into a 784 long vector\n",
    "        images.resize_(images.size()[0], 784)\n",
    "        \n",
    "        optimizer.zero_grad()\n",
    "        \n",
    "        output = model.forward(images)   # 1) Forward pass\n",
    "        loss = criterion(output, labels) # 2) Compute loss\n",
    "        loss.backward()                  # 3) Backward pass\n",
    "        optimizer.step()                 # 4) Update model\n",
    "        \n",
    "        running_loss += loss.item()\n",
    "        \n",
    "        if i % print_every == 0:\n",
    "            print(f\"\\tIteration: {i}\\t Loss: {running_loss/print_every:.4f}\")\n",
    "            running_loss = 0"
   ]
  },
  {
   "cell_type": "markdown",
   "metadata": {},
   "source": [
    "With the network trained, we can check out it's predictions."
   ]
  },
  {
   "cell_type": "code",
   "execution_count": 50,
   "metadata": {},
   "outputs": [
    {
     "data": {
      "image/png": "[encoded data removed]",
      "text/plain": [
       "<Figure size 432x648 with 2 Axes>"
      ]
     },
     "metadata": {
      "image/png": {
       "height": 195,
       "width": 349
      },
      "needs_background": "light"
     },
     "output_type": "display_data"
    }
   ],
   "source": [
    "images, labels = next(iter(trainloader))\n",
    "\n",
    "img = images[0].view(1, 784)\n",
    "# Turn off gradients to speed up this part\n",
    "with torch.no_grad():\n",
    "    logits = model.forward(img)\n",
    "\n",
    "# Output of the network are logits, need to take softmax for probabilities\n",
    "ps = F.softmax(logits, dim=1)\n",
    "view_classify(img.view(1, 28, 28), ps)"
   ]
  },
  {
   "cell_type": "markdown",
   "metadata": {},
   "source": [
    "Now our network is brilliant. It can accurately predict the digits in our images."
   ]
  },
  {
   "cell_type": "markdown",
   "metadata": {},
   "source": [
    "<div style=\"background:#222222; color:#ffffff; padding:20px\">\n",
    "    <h2 align=\"center\" style=\"color:#01ff84\">MNIST Clasification: Exercise</h2>\n",
    "<div>"
   ]
  },
  {
   "cell_type": "markdown",
   "metadata": {},
   "source": [
    "<div style=\"background:#222222; color:#ffffff; padding:20px\">\n",
    "  <h3 style=\"color:#01ff84; margin-top:4px\">Exercise 1:</h3>\n",
    "  <p>Now it's your turn to build a simple network, use any method I've covered so far. In the next notebook, you'll learn how to train a network so it can make good predictions.</p>\n",
    "  <p>Build a network to classify the MNIST images with 3 hidden layers. Use 400 units in the first hidden layer, 200 units in the second layer, and 100 units in the third layer. Each hidden layer should have a ReLU activation function, and use softmax on the output layer.</p>\n",
    "<div>"
   ]
  },
  {
   "cell_type": "code",
   "execution_count": 20,
   "metadata": {},
   "outputs": [
    {
     "name": "stdout",
     "output_type": "stream",
     "text": [
      "Sequential(\n",
      "  (0): Linear(in_features=784, out_features=400, bias=True)\n",
      "  (1): ReLU()\n",
      "  (2): Linear(in_features=400, out_features=200, bias=True)\n",
      "  (3): ReLU()\n",
      "  (4): Linear(in_features=200, out_features=100, bias=True)\n",
      "  (5): ReLU()\n",
      "  (6): Linear(in_features=100, out_features=10, bias=True)\n",
      "  (7): Softmax(dim=1)\n",
      ")\n"
     ]
    }
   ],
   "source": [
    "## TODO: Your network here\n",
    "\n",
    "# Hyperparameters for our network\n",
    "input_size   = 784\n",
    "hidden_sizes = [400, 200,100]\n",
    "output_size   = 10\n",
    "\n",
    "# Build a feed-forward network\n",
    "model = nn.Sequential(nn.Linear(input_size, hidden_sizes[0]),\n",
    "                      nn.ReLU(),\n",
    "                      nn.Linear(hidden_sizes[0], hidden_sizes[1]),\n",
    "                      nn.ReLU(),\n",
    "                      nn.Linear(hidden_sizes[1], hidden_sizes[2]),\n",
    "                      nn.ReLU(),\n",
    "                      nn.Linear(hidden_sizes[2], output_size),\n",
    "                      nn.Softmax(dim=1))\n",
    "print(model)"
   ]
  },
  {
   "cell_type": "code",
   "execution_count": 21,
   "metadata": {},
   "outputs": [
    {
     "data": {
      "image/png": "[encoded data removed]",
      "text/plain": [
       "<Figure size 432x648 with 2 Axes>"
      ]
     },
     "metadata": {
      "image/png": {
       "height": 195,
       "width": 349
      },
      "needs_background": "light"
     },
     "output_type": "display_data"
    }
   ],
   "source": [
    "# Run this cell with your model to make sure it works\n",
    "# Forward pass through the network and display output\n",
    "images, labels = next(iter(trainloader))\n",
    "images.resize_(images.shape[0], 1, 784)\n",
    "ps = model.forward(images[0,:])\n",
    "view_classify(images[0].view(1, 28, 28), ps)"
   ]
  },
  {
   "cell_type": "markdown",
   "metadata": {},
   "source": [
    "<div style=\"background:#222222; color:#ffffff; padding:20px\">\n",
    "  <h3 style=\"color:#01ff84; margin-top:4px\">Exercise 2:</h3>\n",
    "  <p>Train your network implementing the Pytorch training loop and <strong style=\"color:#01ff84\">after each epoch, use the model for predicting the test (validation) MNIST data.</strong></p>\n",
    "  <p>Note: If your model does not fit with the final softmax layer, you can remove this layer.</p>\n",
    "  <p>Hint: <a href=\"https://discuss.pytorch.org/t/training-loop-checking-validation-accuracy/78399\">Training loop checking validation accuracy\n",
    "</a></p>\n",
    "  <p>Research about <code>model.train()</code>, <code>model.eval()</code> and <code>with torch.no_grad()</code> in Pytorch.\n",
    "<div>"
   ]
  },
  {
   "cell_type": "code",
   "execution_count": 22,
   "metadata": {},
   "outputs": [],
   "source": [
    "## TODO: Your training loop here\n",
    "criterion = nn.CrossEntropyLoss()\n",
    "# optimizer = optim.SGD(model.parameters(), lr=0.01)\n",
    "optimizer = optim.Adam(model.parameters(), lr=0.0001)"
   ]
  },
  {
   "cell_type": "code",
   "execution_count": 23,
   "metadata": {},
   "outputs": [
    {
     "name": "stdout",
     "output_type": "stream",
     "text": [
      "Epoch: 1/150\n",
      "epoch: 0 | loss: 1.5820059776306152 | accuracy: 0.888700008392334\n",
      "Epoch: 2/150\n",
      "epoch: 1 | loss: 1.5804657936096191 | accuracy: 0.9103999733924866\n",
      "Epoch: 3/150\n",
      "epoch: 2 | loss: 1.6482518911361694 | accuracy: 0.9176999926567078\n",
      "Epoch: 4/150\n",
      "epoch: 3 | loss: 1.6996936798095703 | accuracy: 0.9276999831199646\n",
      "Epoch: 5/150\n",
      "epoch: 4 | loss: 1.5238592624664307 | accuracy: 0.9347000122070312\n",
      "Epoch: 6/150\n",
      "epoch: 5 | loss: 1.5285489559173584 | accuracy: 0.9387999773025513\n",
      "Epoch: 7/150\n",
      "epoch: 6 | loss: 1.465553879737854 | accuracy: 0.9394000172615051\n",
      "Epoch: 8/150\n",
      "epoch: 7 | loss: 1.4747518301010132 | accuracy: 0.9491000175476074\n",
      "Epoch: 9/150\n",
      "epoch: 8 | loss: 1.526625633239746 | accuracy: 0.9513000249862671\n",
      "Epoch: 10/150\n",
      "epoch: 9 | loss: 1.5234495401382446 | accuracy: 0.9539999961853027\n",
      "Epoch: 11/150\n",
      "epoch: 10 | loss: 1.5433337688446045 | accuracy: 0.9581000208854675\n",
      "Epoch: 12/150\n",
      "epoch: 11 | loss: 1.522434115409851 | accuracy: 0.9598000049591064\n",
      "Epoch: 13/150\n",
      "epoch: 12 | loss: 1.4677482843399048 | accuracy: 0.9617000222206116\n",
      "Epoch: 14/150\n",
      "epoch: 13 | loss: 1.4619157314300537 | accuracy: 0.9629999995231628\n",
      "Epoch: 15/150\n",
      "epoch: 14 | loss: 1.5765382051467896 | accuracy: 0.9635000228881836\n",
      "Epoch: 16/150\n",
      "epoch: 15 | loss: 1.5242565870285034 | accuracy: 0.9632999897003174\n",
      "Epoch: 17/150\n",
      "epoch: 16 | loss: 1.5240371227264404 | accuracy: 0.9642999768257141\n",
      "Epoch: 18/150\n",
      "epoch: 17 | loss: 1.4617421627044678 | accuracy: 0.9682999849319458\n",
      "Epoch: 19/150\n",
      "epoch: 18 | loss: 1.5233831405639648 | accuracy: 0.968500018119812\n",
      "Epoch: 20/150\n",
      "epoch: 19 | loss: 1.46122407913208 | accuracy: 0.970300018787384\n",
      "Epoch: 21/150\n",
      "epoch: 20 | loss: 1.5240617990493774 | accuracy: 0.968999981880188\n",
      "Epoch: 22/150\n",
      "epoch: 21 | loss: 1.5206012725830078 | accuracy: 0.9708999991416931\n",
      "Epoch: 23/150\n",
      "epoch: 22 | loss: 1.4612549543380737 | accuracy: 0.973800003528595\n",
      "Epoch: 24/150\n",
      "epoch: 23 | loss: 1.5431017875671387 | accuracy: 0.9731000065803528\n",
      "Epoch: 25/150\n",
      "epoch: 24 | loss: 1.5087554454803467 | accuracy: 0.9728000164031982\n",
      "Epoch: 26/150\n",
      "epoch: 25 | loss: 1.5315918922424316 | accuracy: 0.9732999801635742\n",
      "Epoch: 27/150\n",
      "epoch: 26 | loss: 1.4611502885818481 | accuracy: 0.9718000292778015\n",
      "Epoch: 28/150\n",
      "epoch: 27 | loss: 1.4611624479293823 | accuracy: 0.9735999703407288\n",
      "Epoch: 29/150\n",
      "epoch: 28 | loss: 1.4614888429641724 | accuracy: 0.9736999869346619\n",
      "Epoch: 30/150\n",
      "epoch: 29 | loss: 1.47685706615448 | accuracy: 0.975600004196167\n",
      "Epoch: 31/150\n",
      "epoch: 30 | loss: 1.4611549377441406 | accuracy: 0.9754999876022339\n",
      "Epoch: 32/150\n",
      "epoch: 31 | loss: 1.5027403831481934 | accuracy: 0.9769999980926514\n",
      "Epoch: 33/150\n",
      "epoch: 32 | loss: 1.4692702293395996 | accuracy: 0.9767000079154968\n",
      "Epoch: 34/150\n",
      "epoch: 33 | loss: 1.4611499309539795 | accuracy: 0.9782000184059143\n",
      "Epoch: 35/150\n",
      "epoch: 34 | loss: 1.5116589069366455 | accuracy: 0.9775999784469604\n",
      "Epoch: 36/150\n",
      "epoch: 35 | loss: 1.4611845016479492 | accuracy: 0.9768000245094299\n",
      "Epoch: 37/150\n",
      "epoch: 36 | loss: 1.526207685470581 | accuracy: 0.9751999974250793\n",
      "Epoch: 38/150\n",
      "epoch: 37 | loss: 1.666555643081665 | accuracy: 0.9740999937057495\n",
      "Epoch: 39/150\n",
      "epoch: 38 | loss: 1.5176308155059814 | accuracy: 0.9764000177383423\n",
      "Epoch: 40/150\n",
      "epoch: 39 | loss: 1.4615695476531982 | accuracy: 0.9782000184059143\n",
      "Epoch: 41/150\n",
      "epoch: 40 | loss: 1.4737682342529297 | accuracy: 0.9781000018119812\n",
      "Epoch: 42/150\n",
      "epoch: 41 | loss: 1.5279955863952637 | accuracy: 0.9776999950408936\n",
      "Epoch: 43/150\n",
      "epoch: 42 | loss: 1.4612793922424316 | accuracy: 0.9775999784469604\n",
      "Epoch: 44/150\n",
      "epoch: 43 | loss: 1.5284101963043213 | accuracy: 0.9793000221252441\n",
      "Epoch: 45/150\n",
      "epoch: 44 | loss: 1.4611866474151611 | accuracy: 0.9775999784469604\n",
      "Epoch: 46/150\n",
      "epoch: 45 | loss: 1.4611533880233765 | accuracy: 0.9768000245094299\n",
      "Epoch: 47/150\n",
      "epoch: 46 | loss: 1.4611499309539795 | accuracy: 0.9753000140190125\n",
      "Epoch: 48/150\n",
      "epoch: 47 | loss: 1.5177570581436157 | accuracy: 0.9796000123023987\n",
      "Epoch: 49/150\n",
      "epoch: 48 | loss: 1.4611815214157104 | accuracy: 0.9772999882698059\n",
      "Epoch: 50/150\n",
      "epoch: 49 | loss: 1.4611504077911377 | accuracy: 0.9779999852180481\n",
      "Epoch: 51/150\n",
      "epoch: 50 | loss: 1.4611549377441406 | accuracy: 0.9768000245094299\n",
      "Epoch: 52/150\n",
      "epoch: 51 | loss: 1.4613661766052246 | accuracy: 0.9794999957084656\n",
      "Epoch: 53/150\n",
      "epoch: 52 | loss: 1.521543025970459 | accuracy: 0.9764000177383423\n",
      "Epoch: 54/150\n",
      "epoch: 53 | loss: 1.5243667364120483 | accuracy: 0.9800000190734863\n",
      "Epoch: 55/150\n",
      "epoch: 54 | loss: 1.4611729383468628 | accuracy: 0.9779000282287598\n",
      "Epoch: 56/150\n",
      "epoch: 55 | loss: 1.4611587524414062 | accuracy: 0.9793999791145325\n",
      "Epoch: 57/150\n",
      "epoch: 56 | loss: 1.52339768409729 | accuracy: 0.9793000221252441\n",
      "Epoch: 58/150\n",
      "epoch: 57 | loss: 1.5233017206192017 | accuracy: 0.9781000018119812\n",
      "Epoch: 59/150\n",
      "epoch: 58 | loss: 1.4730498790740967 | accuracy: 0.9783999919891357\n",
      "Epoch: 60/150\n",
      "epoch: 59 | loss: 1.4611505270004272 | accuracy: 0.9797999858856201\n",
      "Epoch: 61/150\n",
      "epoch: 60 | loss: 1.4611510038375854 | accuracy: 0.9785000085830688\n",
      "Epoch: 62/150\n",
      "epoch: 61 | loss: 1.5210685729980469 | accuracy: 0.9782000184059143\n",
      "Epoch: 63/150\n",
      "epoch: 62 | loss: 1.4632315635681152 | accuracy: 0.9807999730110168\n",
      "Epoch: 64/150\n",
      "epoch: 63 | loss: 1.517730712890625 | accuracy: 0.9782999753952026\n",
      "Epoch: 65/150\n",
      "epoch: 64 | loss: 1.4697481393814087 | accuracy: 0.9787999987602234\n",
      "Epoch: 66/150\n",
      "epoch: 65 | loss: 1.5236315727233887 | accuracy: 0.9787999987602234\n",
      "Epoch: 67/150\n",
      "epoch: 66 | loss: 1.5849087238311768 | accuracy: 0.9782999753952026\n",
      "Epoch: 68/150\n",
      "epoch: 67 | loss: 1.4611570835113525 | accuracy: 0.9787999987602234\n",
      "Epoch: 69/150\n",
      "epoch: 68 | loss: 1.523012638092041 | accuracy: 0.9779000282287598\n",
      "Epoch: 70/150\n",
      "epoch: 69 | loss: 1.4612659215927124 | accuracy: 0.978600025177002\n",
      "Epoch: 71/150\n",
      "epoch: 70 | loss: 1.4880512952804565 | accuracy: 0.9797000288963318\n",
      "Epoch: 72/150\n",
      "epoch: 71 | loss: 1.4611507654190063 | accuracy: 0.9811000227928162\n",
      "Epoch: 73/150\n",
      "epoch: 72 | loss: 1.4787341356277466 | accuracy: 0.974399983882904\n",
      "Epoch: 74/150\n",
      "epoch: 73 | loss: 1.4611828327178955 | accuracy: 0.9781000018119812\n",
      "Epoch: 75/150\n",
      "epoch: 74 | loss: 1.5223095417022705 | accuracy: 0.9781000018119812\n",
      "Epoch: 76/150\n",
      "epoch: 75 | loss: 1.461585521697998 | accuracy: 0.9800999760627747\n",
      "Epoch: 77/150\n",
      "epoch: 76 | loss: 1.5183584690093994 | accuracy: 0.9801999926567078\n",
      "Epoch: 78/150\n",
      "epoch: 77 | loss: 1.5212955474853516 | accuracy: 0.9782000184059143\n",
      "Epoch: 79/150\n",
      "epoch: 78 | loss: 1.5235724449157715 | accuracy: 0.9790999889373779\n",
      "Epoch: 80/150\n",
      "epoch: 79 | loss: 1.4620877504348755 | accuracy: 0.9778000116348267\n",
      "Epoch: 81/150\n",
      "epoch: 80 | loss: 1.4611499309539795 | accuracy: 0.9800000190734863\n",
      "Epoch: 82/150\n",
      "epoch: 81 | loss: 1.4611625671386719 | accuracy: 0.9775999784469604\n",
      "Epoch: 83/150\n",
      "epoch: 82 | loss: 1.4612245559692383 | accuracy: 0.9803000092506409\n",
      "Epoch: 84/150\n",
      "epoch: 83 | loss: 1.4611499309539795 | accuracy: 0.979200005531311\n",
      "Epoch: 85/150\n",
      "epoch: 84 | loss: 1.5670316219329834 | accuracy: 0.9796000123023987\n",
      "Epoch: 86/150\n",
      "epoch: 85 | loss: 1.4612233638763428 | accuracy: 0.9812999963760376\n",
      "Epoch: 87/150\n",
      "epoch: 86 | loss: 1.523634672164917 | accuracy: 0.9801999926567078\n",
      "Epoch: 88/150\n",
      "epoch: 87 | loss: 1.461150050163269 | accuracy: 0.9789000153541565\n",
      "Epoch: 89/150\n",
      "epoch: 88 | loss: 1.4611515998840332 | accuracy: 0.9800000190734863\n",
      "Epoch: 90/150\n",
      "epoch: 89 | loss: 1.4611525535583496 | accuracy: 0.9800000190734863\n",
      "Epoch: 91/150\n",
      "epoch: 90 | loss: 1.5234508514404297 | accuracy: 0.9793999791145325\n",
      "Epoch: 92/150\n",
      "epoch: 91 | loss: 1.4614242315292358 | accuracy: 0.9794999957084656\n",
      "Epoch: 93/150\n",
      "epoch: 92 | loss: 1.461294174194336 | accuracy: 0.9799000024795532\n",
      "Epoch: 94/150\n",
      "epoch: 93 | loss: 1.5230681896209717 | accuracy: 0.9794999957084656\n",
      "Epoch: 95/150\n",
      "epoch: 94 | loss: 1.4620689153671265 | accuracy: 0.978600025177002\n",
      "Epoch: 96/150\n",
      "epoch: 95 | loss: 1.5861468315124512 | accuracy: 0.9797999858856201\n",
      "Epoch: 97/150\n",
      "epoch: 96 | loss: 1.4611514806747437 | accuracy: 0.9782999753952026\n",
      "Epoch: 98/150\n",
      "epoch: 97 | loss: 1.461227297782898 | accuracy: 0.979200005531311\n",
      "Epoch: 99/150\n",
      "epoch: 98 | loss: 1.461151361465454 | accuracy: 0.979200005531311\n",
      "Epoch: 100/150\n",
      "epoch: 99 | loss: 1.4611501693725586 | accuracy: 0.9810000061988831\n",
      "Epoch: 101/150\n",
      "epoch: 100 | loss: 1.4622905254364014 | accuracy: 0.9815000295639038\n",
      "Epoch: 102/150\n",
      "epoch: 101 | loss: 1.4612078666687012 | accuracy: 0.9818999767303467\n",
      "Epoch: 103/150\n",
      "epoch: 102 | loss: 1.4621038436889648 | accuracy: 0.9807999730110168\n",
      "Epoch: 104/150\n",
      "epoch: 103 | loss: 1.4611499309539795 | accuracy: 0.9785000085830688\n",
      "Epoch: 105/150\n",
      "epoch: 104 | loss: 1.4615731239318848 | accuracy: 0.9814000129699707\n",
      "Epoch: 106/150\n",
      "epoch: 105 | loss: 1.5197625160217285 | accuracy: 0.9815999865531921\n",
      "Epoch: 107/150\n",
      "epoch: 106 | loss: 1.5019361972808838 | accuracy: 0.9811000227928162\n",
      "Epoch: 108/150\n",
      "epoch: 107 | loss: 1.4948055744171143 | accuracy: 0.9797999858856201\n",
      "Epoch: 109/150\n",
      "epoch: 108 | loss: 1.4611502885818481 | accuracy: 0.979200005531311\n",
      "Epoch: 110/150\n",
      "epoch: 109 | loss: 1.461150050163269 | accuracy: 0.9817000031471252\n",
      "Epoch: 111/150\n",
      "epoch: 110 | loss: 1.4611512422561646 | accuracy: 0.9811999797821045\n",
      "Epoch: 112/150\n",
      "epoch: 111 | loss: 1.476297378540039 | accuracy: 0.9785000085830688\n",
      "Epoch: 113/150\n",
      "epoch: 112 | loss: 1.461150050163269 | accuracy: 0.9800000190734863\n",
      "Epoch: 114/150\n",
      "epoch: 113 | loss: 1.4611499309539795 | accuracy: 0.9796000123023987\n",
      "Epoch: 115/150\n",
      "epoch: 114 | loss: 1.4611501693725586 | accuracy: 0.9805999994277954\n",
      "Epoch: 116/150\n",
      "epoch: 115 | loss: 1.4611501693725586 | accuracy: 0.9779000282287598\n",
      "Epoch: 117/150\n",
      "epoch: 116 | loss: 1.461150050163269 | accuracy: 0.9804999828338623\n",
      "Epoch: 118/150\n",
      "epoch: 117 | loss: 1.4611499309539795 | accuracy: 0.9828000068664551\n",
      "Epoch: 119/150\n",
      "epoch: 118 | loss: 1.4611502885818481 | accuracy: 0.9797000288963318\n",
      "Epoch: 120/150\n",
      "epoch: 119 | loss: 1.5812634229660034 | accuracy: 0.9771000146865845\n",
      "Epoch: 121/150\n",
      "epoch: 120 | loss: 1.4611501693725586 | accuracy: 0.9807999730110168\n",
      "Epoch: 122/150\n",
      "epoch: 121 | loss: 1.523652195930481 | accuracy: 0.9793000221252441\n",
      "Epoch: 123/150\n",
      "epoch: 122 | loss: 1.5860674381256104 | accuracy: 0.9814000129699707\n",
      "Epoch: 124/150\n",
      "epoch: 123 | loss: 1.4613733291625977 | accuracy: 0.9814000129699707\n",
      "Epoch: 125/150\n",
      "epoch: 124 | loss: 1.5182077884674072 | accuracy: 0.98089998960495\n",
      "Epoch: 126/150\n",
      "epoch: 125 | loss: 1.462349534034729 | accuracy: 0.9815999865531921\n",
      "Epoch: 127/150\n",
      "epoch: 126 | loss: 1.461150050163269 | accuracy: 0.9793999791145325\n",
      "Epoch: 128/150\n",
      "epoch: 127 | loss: 1.5237598419189453 | accuracy: 0.9783999919891357\n",
      "Epoch: 129/150\n",
      "epoch: 128 | loss: 1.461172342300415 | accuracy: 0.9793999791145325\n",
      "Epoch: 130/150\n",
      "epoch: 129 | loss: 1.461151123046875 | accuracy: 0.9824000000953674\n",
      "Epoch: 131/150\n",
      "epoch: 130 | loss: 1.4611499309539795 | accuracy: 0.9781000018119812\n",
      "Epoch: 132/150\n",
      "epoch: 131 | loss: 1.461151361465454 | accuracy: 0.9800999760627747\n",
      "Epoch: 133/150\n",
      "epoch: 132 | loss: 1.4611504077911377 | accuracy: 0.9811999797821045\n",
      "Epoch: 134/150\n",
      "epoch: 133 | loss: 1.5169137716293335 | accuracy: 0.9811999797821045\n",
      "Epoch: 135/150\n",
      "epoch: 134 | loss: 1.461150050163269 | accuracy: 0.9789000153541565\n",
      "Epoch: 136/150\n",
      "epoch: 135 | loss: 1.4611518383026123 | accuracy: 0.9811000227928162\n",
      "Epoch: 137/150\n",
      "epoch: 136 | loss: 1.5841354131698608 | accuracy: 0.9778000116348267\n",
      "Epoch: 138/150\n",
      "epoch: 137 | loss: 1.4611594676971436 | accuracy: 0.9803000092506409\n",
      "Epoch: 139/150\n",
      "epoch: 138 | loss: 1.46114981174469 | accuracy: 0.9797000288963318\n",
      "Epoch: 140/150\n",
      "epoch: 139 | loss: 1.5236563682556152 | accuracy: 0.9803000092506409\n",
      "Epoch: 141/150\n",
      "epoch: 140 | loss: 1.4611499309539795 | accuracy: 0.980400025844574\n",
      "Epoch: 142/150\n",
      "epoch: 141 | loss: 1.461150050163269 | accuracy: 0.9785000085830688\n",
      "Epoch: 143/150\n",
      "epoch: 142 | loss: 1.5236382484436035 | accuracy: 0.9767000079154968\n",
      "Epoch: 144/150\n",
      "epoch: 143 | loss: 1.524411678314209 | accuracy: 0.9803000092506409\n",
      "Epoch: 145/150\n",
      "epoch: 144 | loss: 1.4611506462097168 | accuracy: 0.9817000031471252\n",
      "Epoch: 146/150\n",
      "epoch: 145 | loss: 1.5230920314788818 | accuracy: 0.9819999933242798\n",
      "Epoch: 147/150\n",
      "epoch: 146 | loss: 1.4613585472106934 | accuracy: 0.9790999889373779\n",
      "Epoch: 148/150\n",
      "epoch: 147 | loss: 1.4949980974197388 | accuracy: 0.9783999919891357\n",
      "Epoch: 149/150\n",
      "epoch: 148 | loss: 1.4611754417419434 | accuracy: 0.9797999858856201\n",
      "Epoch: 150/150\n",
      "epoch: 149 | loss: 1.4611499309539795 | accuracy: 0.9815000295639038\n"
     ]
    }
   ],
   "source": [
    "epochs = 150\n",
    "print_every = 60\n",
    "train_losses = []\n",
    "test_losses = []\n",
    "accuracies = []\n",
    "best_accuracy= 0.85\n",
    "\n",
    "for e in range(epochs):\n",
    "    print(f\"Epoch: {e+1}/{epochs}\")\n",
    "    running_loss_train = 0\n",
    "    \n",
    "    \n",
    "\n",
    "    for i, (images, labels) in enumerate(iter(trainloader)):\n",
    "\n",
    "        # Flatten MNIST images into a 784 long vector\n",
    "        images.resize_(images.size()[0], 784)\n",
    "        \n",
    "        optimizer.zero_grad()\n",
    "        \n",
    "        output = model.forward(images)   # 1) Forward pass\n",
    "        loss = criterion(output, labels) # 2) Compute loss\n",
    "        loss.backward()                  # 3) Backward pass\n",
    "        optimizer.step()                  # 4) Update model\n",
    "        \n",
    "        running_loss_train+=(loss.item())\n",
    "    training_loss = running_loss_train/ len(trainloader)\n",
    "    train_losses.append(training_loss)\n",
    "        \n",
    "        \n",
    "        # if i % print_every == 0:\n",
    "        #     print(f\"\\tIteration: {i}\\t Loss: {training_loss/print_every:.4f}\")\n",
    "        #     training_loss = 0\n",
    "    \n",
    "    model.eval()\n",
    "    correct_pred = 0\n",
    "    total_size = 0\n",
    "    running_loss_test = 0\n",
    "    \n",
    "    with torch.no_grad():\n",
    "        for i, (images, labels) in enumerate(iter(testloader)):\n",
    "\n",
    "            #reshaping images\n",
    "            images.resize_(images.size()[0], 784)\n",
    "\n",
    "            #Prediction\n",
    "            output2 = model(images)\n",
    "            prediction = output2.argmax(dim=1)\n",
    "\n",
    "            #getting accuracy\n",
    "            correct_pred+=(prediction==labels).sum()\n",
    "            total_size += labels.size(0)\n",
    "            \n",
    "\n",
    "            #getting the loss value\n",
    "            loss2 = criterion(output2,labels)\n",
    "            running_loss_test+=(loss2.item())  \n",
    "\n",
    "        testing_loss = running_loss_test/len(testloader)\n",
    "        test_losses.append(testing_loss)\n",
    "\n",
    "\n",
    "        accuracy = correct_pred / total_size\n",
    "        accuracies.append(accuracy)\n",
    "        if accuracy > best_accuracy:\n",
    "            best_accuracy = accuracy\n",
    "            torch.save(model.state_dict(), f'model_{best_accuracy: .2f}.pth')\n",
    "\n",
    "\n",
    "    model.train()\n",
    "    print(f'epoch: {e} | loss: {loss2.item()} | accuracy: {accuracy.item()}')\n",
    "\n"
   ]
  },
  {
   "cell_type": "code",
   "execution_count": 24,
   "metadata": {},
   "outputs": [
    {
     "data": {
      "image/png": "[encoded data removed]",
      "text/plain": [
       "<Figure size 432x288 with 1 Axes>"
      ]
     },
     "metadata": {
      "image/png": {
       "height": 248,
       "width": 372
      },
      "needs_background": "light"
     },
     "output_type": "display_data"
    }
   ],
   "source": [
    "plt.plot(train_losses, label='Train loss')\n",
    "plt.plot(test_losses, label='Test loss')\n",
    "plt.plot(accuracies, label='Accuracy')\n",
    "plt.legend()\n",
    "plt.show()\n",
    "    "
   ]
  },
  {
   "cell_type": "code",
   "execution_count": 61,
   "metadata": {},
   "outputs": [
    {
     "data": {
      "image/png": "[encoded data removed]",
      "text/plain": [
       "<Figure size 432x648 with 2 Axes>"
      ]
     },
     "metadata": {
      "image/png": {
       "height": 195,
       "width": 349
      },
      "needs_background": "light"
     },
     "output_type": "display_data"
    }
   ],
   "source": [
    "# Run this cell with your model to make sure it works and predicts well for the validation data\n",
    "images, labels = next(iter(testloader))\n",
    "images.resize_(images.shape[0], 1, 784)\n",
    "ps = model.forward(images[0,:])\n",
    "view_classify(images[0].view(1, 28, 28), ps)"
   ]
  },
  {
   "cell_type": "code",
   "execution_count": 1,
   "metadata": {},
   "outputs": [
    {
     "ename": "NameError",
     "evalue": "name 'testloader' is not defined",
     "output_type": "error",
     "traceback": [
      "\u001b[1;31m---------------------------------------------------------------------------\u001b[0m",
      "\u001b[1;31mNameError\u001b[0m                                 Traceback (most recent call last)",
      "\u001b[1;32mc:\\Users\\halle\\Documents\\stive_exercises\\Chapter 03\\02. MLP Muliclass classification (MNIST)\\4.3 Pytorch MNIST - Exercise.ipynb Cell 63\u001b[0m in \u001b[0;36m<cell line: 2>\u001b[1;34m()\u001b[0m\n\u001b[0;32m      <a href='vscode-notebook-cell:/c%3A/Users/halle/Documents/stive_exercises/Chapter%2003/02.%20MLP%20Muliclass%20classification%20%28MNIST%29/4.3%20Pytorch%20MNIST%20-%20Exercise.ipynb#Y116sZmlsZQ%3D%3D?line=0'>1</a>\u001b[0m \u001b[39m# Run this cell with your model to make sure it works and predicts well for the validation data\u001b[39;00m\n\u001b[1;32m----> <a href='vscode-notebook-cell:/c%3A/Users/halle/Documents/stive_exercises/Chapter%2003/02.%20MLP%20Muliclass%20classification%20%28MNIST%29/4.3%20Pytorch%20MNIST%20-%20Exercise.ipynb#Y116sZmlsZQ%3D%3D?line=1'>2</a>\u001b[0m images, labels \u001b[39m=\u001b[39m \u001b[39mnext\u001b[39m(\u001b[39miter\u001b[39m(testloader))\n\u001b[0;32m      <a href='vscode-notebook-cell:/c%3A/Users/halle/Documents/stive_exercises/Chapter%2003/02.%20MLP%20Muliclass%20classification%20%28MNIST%29/4.3%20Pytorch%20MNIST%20-%20Exercise.ipynb#Y116sZmlsZQ%3D%3D?line=2'>3</a>\u001b[0m images\u001b[39m.\u001b[39mresize_(images\u001b[39m.\u001b[39mshape[\u001b[39m0\u001b[39m], \u001b[39m1\u001b[39m, \u001b[39m784\u001b[39m)\n\u001b[0;32m      <a href='vscode-notebook-cell:/c%3A/Users/halle/Documents/stive_exercises/Chapter%2003/02.%20MLP%20Muliclass%20classification%20%28MNIST%29/4.3%20Pytorch%20MNIST%20-%20Exercise.ipynb#Y116sZmlsZQ%3D%3D?line=3'>4</a>\u001b[0m ps \u001b[39m=\u001b[39m model\u001b[39m.\u001b[39mforward(images[\u001b[39m0\u001b[39m,:])\n",
      "\u001b[1;31mNameError\u001b[0m: name 'testloader' is not defined"
     ]
    }
   ],
   "source": [
    "# Run this cell with your model to make sure it works and predicts well for the validation data\n",
    "images, labels = next(iter(testloader))\n",
    "images.resize_(images.shape[0], 1, 784)\n",
    "ps = model.forward(images[0,:])\n",
    "view_classify(images[0].view(1, 28, 28), ps)"
   ]
  },
  {
   "cell_type": "code",
   "execution_count": null,
   "metadata": {},
   "outputs": [],
   "source": [
    "state_dict = torch.load('model_0.98.pth')\n",
    "print(state_dict.keys())"
   ]
  },
  {
   "cell_type": "markdown",
   "metadata": {},
   "source": [
    "<div style=\"background:#222222; color:#ffffff; padding:20px\">\n",
    "  <h3 style=\"color:#01ff84; margin-top:4px\">Exercise 3:</h3>\n",
    "  <p>Write the code for adding <strong style=\"color:#01ff84\">Early Stopping with patience = 2</strong> to the training loop from scratch.</p>\n",
    "  <p><strong style=\"color:#01ff84\">Hint:</strong> Monitor the Validation loss every epoch, and if in 2 epochs, the validation loss does not improve, stop the training loop with <code>break</code>.</p>\n",
    "<div>"
   ]
  },
  {
   "cell_type": "code",
   "execution_count": 31,
   "metadata": {},
   "outputs": [],
   "source": [
    "## TODO: Your training loop here"
   ]
  }
 ],
 "metadata": {
  "kernelspec": {
   "display_name": "OpenCV Virtual Env",
   "language": "python",
   "name": "opencv"
  },
  "language_info": {
   "codemirror_mode": {
    "name": "ipython",
    "version": 3
   },
   "file_extension": ".py",
   "mimetype": "text/x-python",
   "name": "python",
   "nbconvert_exporter": "python",
   "pygments_lexer": "ipython3",
   "version": "3.10.6"
  },
  "vscode": {
   "interpreter": {
    "hash": "5a80a721eddef92e831e6e272c4656ac3b1576e9f7df1307f67eb40125234cad"
   }
  }
 },
 "nbformat": 4,
 "nbformat_minor": 2
}
