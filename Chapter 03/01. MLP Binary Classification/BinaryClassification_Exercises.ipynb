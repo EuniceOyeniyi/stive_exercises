{
 "cells": [
  {
   "cell_type": "code",
   "execution_count": 1,
   "id": "hazardous-weather",
   "metadata": {
    "ExecuteTime": {
     "end_time": "2021-05-26T07:47:37.551793Z",
     "start_time": "2021-05-26T07:47:35.439944Z"
    }
   },
   "outputs": [],
   "source": [
    "import torch\n",
    "import torch.nn as nn\n",
    "import numpy as np\n",
    "import matplotlib.pyplot as plt\n",
    "import pandas as pd"
   ]
  },
  {
   "cell_type": "code",
   "execution_count": 2,
   "id": "clean-racing",
   "metadata": {
    "ExecuteTime": {
     "end_time": "2021-05-26T07:50:32.482086Z",
     "start_time": "2021-05-26T07:50:32.456893Z"
    }
   },
   "outputs": [],
   "source": [
    "# create a neural network class inheriting from the nn.Module\n",
    "# Call it NeuralNetwork and make, and use \"pass\" in the constructor\n",
    "# so that it doesn't give an error\n",
    "# Instantiate one instance of it in variable net\n",
    "\n",
    "net = 0\n",
    "\n",
    "class NeuralNetwork(nn.Module):\n",
    "    def __init__(self ):\n",
    "        super(NeuralNetwork, self).__init__()\n",
    "        pass\n",
    "\n",
    "net = NeuralNetwork()"
   ]
  },
  {
   "cell_type": "code",
   "execution_count": 3,
   "id": "demographic-honor",
   "metadata": {
    "ExecuteTime": {
     "end_time": "2021-05-26T07:51:28.420569Z",
     "start_time": "2021-05-26T07:51:28.412916Z"
    }
   },
   "outputs": [],
   "source": [
    "assert isinstance(net, NeuralNetwork)"
   ]
  },
  {
   "cell_type": "code",
   "execution_count": 4,
   "id": "curious-syndrome",
   "metadata": {
    "ExecuteTime": {
     "end_time": "2021-05-26T07:56:11.203531Z",
     "start_time": "2021-05-26T07:56:11.199729Z"
    }
   },
   "outputs": [],
   "source": [
    "# Rewrite the NeuralNetwork class so that the constructor receives\n",
    "# as input the input_dim and num_hidden, respectively the dimension of \n",
    "# the input and the number of hidden neurons\n",
    "# use pass again\n",
    "\n",
    "class NeuralNetwork(nn.Module):\n",
    "    pass\n",
    "    def __init__(self, input_dim, num_hidden):\n",
    "        super(NeuralNetwork).__init__() # CAlls the initailization of the parent class\n",
    "        pass\n"
   ]
  },
  {
   "cell_type": "code",
   "execution_count": 5,
   "id": "recreational-macro",
   "metadata": {
    "ExecuteTime": {
     "end_time": "2021-05-26T07:56:32.252906Z",
     "start_time": "2021-05-26T07:56:32.247913Z"
    }
   },
   "outputs": [],
   "source": [
    "assert NeuralNetwork(input_dim=10, num_hidden=16)"
   ]
  },
  {
   "cell_type": "code",
   "execution_count": 6,
   "id": "bigger-inclusion",
   "metadata": {
    "ExecuteTime": {
     "end_time": "2021-05-26T08:04:27.491588Z",
     "start_time": "2021-05-26T08:04:27.484159Z"
    }
   },
   "outputs": [],
   "source": [
    "# Rewrite the NeuralNetwork class so that the constructor receives\n",
    "# as input the input_dim, num_hidden1 and num_hidden2, respectively the dimension of \n",
    "# the input and the number of hidden neurons for the first fully connected\n",
    "# layer and the second. Define the attributes in the constructor\n",
    "# that consists of the layers, call them fc1, fc2 and fc3 and a sigmoid.\n",
    "# use pass again. Be careful to put the dimensions in the right places!\n",
    "# Since we will do a binary classification problem, fc3 will have 1 neuron\n",
    "# as output\n",
    "\n",
    "class NeuralNetwork(nn.Module):\n",
    "    def __init__(self, input_dim, num_hidden1, num_hidden2):\n",
    "        super().__init__()\n",
    "        self.fc1 = nn.Linear(input_dim, num_hidden1)\n",
    "        self.fc2 = nn.Linear(num_hidden1, num_hidden2)\n",
    "        self.fc3 = nn.Linear(num_hidden2, 1)\n",
    "        self.sigmoid = nn.Sigmoid()\n",
    "    \n",
    "    def forward(self, x):\n",
    "        layer1 = self.fc1(x)\n",
    "        act1 = self.sigmoid(layer1)\n",
    "        layer2 = self.fc2(act1)\n",
    "        act2 = self.sigmoid(layer2)\n",
    "        layer3 = self.fc3(act2)\n",
    "        out = self.sigmoid(layer3)\n",
    "        return out\n",
    "        \n",
    "        "
   ]
  },
  {
   "cell_type": "code",
   "execution_count": 7,
   "id": "hawaiian-noise",
   "metadata": {
    "ExecuteTime": {
     "end_time": "2021-05-26T08:04:48.612004Z",
     "start_time": "2021-05-26T08:04:48.606773Z"
    }
   },
   "outputs": [],
   "source": [
    "net = NeuralNetwork(16, 16, 16)\n",
    "assert net.fc1\n",
    "assert net.fc2\n",
    "assert net.fc3\n",
    "assert net.sigmoid"
   ]
  },
  {
   "cell_type": "code",
   "execution_count": 8,
   "id": "smart-southeast",
   "metadata": {},
   "outputs": [],
   "source": [
    "# Define the forward pass to make a reasonable use of the attributes\n",
    "# you defined before. Follow the same reasoning we used in class\n",
    "\n",
    "model = NeuralNetwork(10, 7, 8)\n"
   ]
  },
  {
   "cell_type": "code",
   "execution_count": 9,
   "id": "933260ee",
   "metadata": {},
   "outputs": [
    {
     "data": {
      "text/plain": [
       "<generator object Module.parameters at 0x000002BDC04235A0>"
      ]
     },
     "execution_count": 9,
     "metadata": {},
     "output_type": "execute_result"
    }
   ],
   "source": [
    "model.parameters()"
   ]
  },
  {
   "cell_type": "code",
   "execution_count": 10,
   "id": "latest-sacramento",
   "metadata": {},
   "outputs": [],
   "source": [
    "# For training a model, use the following optimizer and loss\n",
    "\n",
    "optimizer = torch.optim.Adam(model.parameters(), lr=0.01)\n",
    "loss = nn.BCELoss()\n"
   ]
  },
  {
   "cell_type": "code",
   "execution_count": 11,
   "id": "lesser-bunch",
   "metadata": {},
   "outputs": [],
   "source": [
    "# train a neural network (feel free to choose the num_hidden1 and num_hidden2)\n",
    "# on the dataset in data.csv file\n",
    "# You'll have fun with conflicting shapes and types and tensors, but\n",
    "# you'll get those errors anyway. Let's go into the wild and learn\n",
    "# by reading the errors and trying to understand them! :)\n",
    "# You can always use the provided Workbook"
   ]
  },
  {
   "cell_type": "code",
   "execution_count": 12,
   "id": "8b3b4db9",
   "metadata": {},
   "outputs": [
    {
     "data": {
      "text/html": [
       "<div>\n",
       "<style scoped>\n",
       "    .dataframe tbody tr th:only-of-type {\n",
       "        vertical-align: middle;\n",
       "    }\n",
       "\n",
       "    .dataframe tbody tr th {\n",
       "        vertical-align: top;\n",
       "    }\n",
       "\n",
       "    .dataframe thead th {\n",
       "        text-align: right;\n",
       "    }\n",
       "</style>\n",
       "<table border=\"1\" class=\"dataframe\">\n",
       "  <thead>\n",
       "    <tr style=\"text-align: right;\">\n",
       "      <th></th>\n",
       "      <th>0</th>\n",
       "      <th>1</th>\n",
       "      <th>2</th>\n",
       "    </tr>\n",
       "  </thead>\n",
       "  <tbody>\n",
       "    <tr>\n",
       "      <th>0</th>\n",
       "      <td>0.78051</td>\n",
       "      <td>-0.063669</td>\n",
       "      <td>1</td>\n",
       "    </tr>\n",
       "    <tr>\n",
       "      <th>1</th>\n",
       "      <td>0.28774</td>\n",
       "      <td>0.291390</td>\n",
       "      <td>1</td>\n",
       "    </tr>\n",
       "  </tbody>\n",
       "</table>\n",
       "</div>"
      ],
      "text/plain": [
       "         0         1  2\n",
       "0  0.78051 -0.063669  1\n",
       "1  0.28774  0.291390  1"
      ]
     },
     "execution_count": 12,
     "metadata": {},
     "output_type": "execute_result"
    }
   ],
   "source": [
    "df = pd.read_csv('data.csv',header=None)\n",
    "df.head(2)"
   ]
  },
  {
   "cell_type": "code",
   "execution_count": 13,
   "id": "fef2659e",
   "metadata": {},
   "outputs": [],
   "source": [
    "x,y = df.iloc[:,[0,1]], df.iloc[:,2]"
   ]
  },
  {
   "cell_type": "code",
   "execution_count": 14,
   "id": "0188a707",
   "metadata": {},
   "outputs": [],
   "source": [
    "x = torch.tensor(x.values,dtype=torch.float)\n"
   ]
  },
  {
   "cell_type": "markdown",
   "id": "b1e969b2",
   "metadata": {},
   "source": []
  },
  {
   "cell_type": "code",
   "execution_count": 15,
   "id": "c85789ce",
   "metadata": {},
   "outputs": [],
   "source": [
    "y= torch.tensor(y.values, dtype=torch.float)"
   ]
  },
  {
   "cell_type": "code",
   "execution_count": 16,
   "id": "2ce7ac78",
   "metadata": {},
   "outputs": [],
   "source": [
    "#reshaping y \n",
    "y = y.view(-1,1)       \n",
    "\n"
   ]
  },
  {
   "cell_type": "code",
   "execution_count": 17,
   "id": "4446775d",
   "metadata": {},
   "outputs": [
    {
     "data": {
      "text/plain": [
       "(torch.Size([100, 2]), torch.Size([100, 1]))"
      ]
     },
     "execution_count": 17,
     "metadata": {},
     "output_type": "execute_result"
    }
   ],
   "source": [
    "x.shape,y.shape"
   ]
  },
  {
   "cell_type": "code",
   "execution_count": 18,
   "id": "78a1652c",
   "metadata": {},
   "outputs": [
    {
     "name": "stdout",
     "output_type": "stream",
     "text": [
      "Epoch0,loss0.73\n",
      "Epoch1,loss0.72\n",
      "Epoch2,loss0.72\n",
      "Epoch3,loss0.71\n",
      "Epoch4,loss0.70\n",
      "Epoch5,loss0.70\n",
      "Epoch6,loss0.70\n",
      "Epoch7,loss0.69\n",
      "Epoch8,loss0.69\n",
      "Epoch9,loss0.69\n",
      "Epoch10,loss0.69\n",
      "Epoch11,loss0.69\n",
      "Epoch12,loss0.69\n",
      "Epoch13,loss0.69\n",
      "Epoch14,loss0.69\n",
      "Epoch15,loss0.70\n",
      "Epoch16,loss0.70\n",
      "Epoch17,loss0.70\n",
      "Epoch18,loss0.69\n",
      "Epoch19,loss0.69\n",
      "Epoch20,loss0.69\n",
      "Epoch21,loss0.69\n",
      "Epoch22,loss0.69\n",
      "Epoch23,loss0.69\n",
      "Epoch24,loss0.69\n",
      "Epoch25,loss0.69\n",
      "Epoch26,loss0.69\n",
      "Epoch27,loss0.69\n",
      "Epoch28,loss0.69\n",
      "Epoch29,loss0.69\n",
      "Epoch30,loss0.69\n",
      "Epoch31,loss0.69\n",
      "Epoch32,loss0.69\n",
      "Epoch33,loss0.69\n",
      "Epoch34,loss0.69\n",
      "Epoch35,loss0.69\n",
      "Epoch36,loss0.69\n",
      "Epoch37,loss0.69\n",
      "Epoch38,loss0.69\n",
      "Epoch39,loss0.69\n",
      "Epoch40,loss0.69\n",
      "Epoch41,loss0.69\n",
      "Epoch42,loss0.69\n",
      "Epoch43,loss0.68\n",
      "Epoch44,loss0.68\n",
      "Epoch45,loss0.68\n",
      "Epoch46,loss0.68\n",
      "Epoch47,loss0.68\n",
      "Epoch48,loss0.68\n",
      "Epoch49,loss0.68\n",
      "Epoch50,loss0.68\n",
      "Epoch51,loss0.68\n",
      "Epoch52,loss0.68\n",
      "Epoch53,loss0.68\n",
      "Epoch54,loss0.68\n",
      "Epoch55,loss0.67\n",
      "Epoch56,loss0.67\n",
      "Epoch57,loss0.67\n",
      "Epoch58,loss0.67\n",
      "Epoch59,loss0.67\n",
      "Epoch60,loss0.67\n",
      "Epoch61,loss0.66\n",
      "Epoch62,loss0.66\n",
      "Epoch63,loss0.66\n",
      "Epoch64,loss0.66\n",
      "Epoch65,loss0.66\n",
      "Epoch66,loss0.65\n",
      "Epoch67,loss0.65\n",
      "Epoch68,loss0.65\n",
      "Epoch69,loss0.64\n",
      "Epoch70,loss0.64\n",
      "Epoch71,loss0.64\n",
      "Epoch72,loss0.63\n",
      "Epoch73,loss0.63\n",
      "Epoch74,loss0.62\n",
      "Epoch75,loss0.62\n",
      "Epoch76,loss0.61\n",
      "Epoch77,loss0.61\n",
      "Epoch78,loss0.60\n",
      "Epoch79,loss0.60\n",
      "Epoch80,loss0.59\n",
      "Epoch81,loss0.58\n",
      "Epoch82,loss0.58\n",
      "Epoch83,loss0.57\n",
      "Epoch84,loss0.56\n",
      "Epoch85,loss0.55\n",
      "Epoch86,loss0.55\n",
      "Epoch87,loss0.54\n",
      "Epoch88,loss0.53\n",
      "Epoch89,loss0.52\n",
      "Epoch90,loss0.51\n",
      "Epoch91,loss0.50\n",
      "Epoch92,loss0.49\n",
      "Epoch93,loss0.48\n",
      "Epoch94,loss0.47\n",
      "Epoch95,loss0.46\n",
      "Epoch96,loss0.45\n",
      "Epoch97,loss0.44\n",
      "Epoch98,loss0.43\n",
      "Epoch99,loss0.42\n"
     ]
    }
   ],
   "source": [
    "\n",
    "\n",
    "\n",
    "model = NeuralNetwork(2, 7, 8)  \n",
    "optimizer = torch.optim.Adam(model.parameters(), lr=0.01)\n",
    "loss = nn.BCELoss()\n",
    "\n",
    "def model_fit(x_tensor,y_tensor,model,loss,lr,optimizer,num_epochs):\n",
    "    for epoch in range(num_epochs):\n",
    "        optimizer.zero_grad()\n",
    "        y_pred = model(x)\n",
    "        loss_value = loss(y_pred,y)\n",
    "        print(f'Epoch{epoch},loss{loss_value.item():.2f}')\n",
    "        loss_value.backward()\n",
    "        optimizer.step()\n",
    "    return model\n",
    "\n",
    "\n",
    "model_result = model_fit(x,y,model=model,loss=loss,lr=0.1,num_epochs=100,optimizer=optimizer)\n",
    "\n"
   ]
  },
  {
   "cell_type": "code",
   "execution_count": null,
   "id": "3f7fad8c",
   "metadata": {},
   "outputs": [],
   "source": []
  }
 ],
 "metadata": {
  "kernelspec": {
   "display_name": "Python 3.10.4 ('env')",
   "language": "python",
   "name": "python3"
  },
  "language_info": {
   "codemirror_mode": {
    "name": "ipython",
    "version": 3
   },
   "file_extension": ".py",
   "mimetype": "text/x-python",
   "name": "python",
   "nbconvert_exporter": "python",
   "pygments_lexer": "ipython3",
   "version": "3.10.4"
  },
  "varInspector": {
   "cols": {
    "lenName": 16,
    "lenType": 16,
    "lenVar": 40
   },
   "kernels_config": {
    "python": {
     "delete_cmd_postfix": "",
     "delete_cmd_prefix": "del ",
     "library": "var_list.py",
     "varRefreshCmd": "print(var_dic_list())"
    },
    "r": {
     "delete_cmd_postfix": ") ",
     "delete_cmd_prefix": "rm(",
     "library": "var_list.r",
     "varRefreshCmd": "cat(var_dic_list()) "
    }
   },
   "types_to_exclude": [
    "module",
    "function",
    "builtin_function_or_method",
    "instance",
    "_Feature"
   ],
   "window_display": false
  },
  "vscode": {
   "interpreter": {
    "hash": "5a80a721eddef92e831e6e272c4656ac3b1576e9f7df1307f67eb40125234cad"
   }
  }
 },
 "nbformat": 4,
 "nbformat_minor": 5
}
