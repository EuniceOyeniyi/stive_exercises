{
 "cells": [
  {
   "cell_type": "markdown",
   "id": "purple-profession",
   "metadata": {},
   "source": [
    "<div style=\"background:#222222; color:#ffffff; padding:20px\">\n",
    "    <h2 align=\"center\"> Friday Fashion Challenge</h2>\n",
    "    <h2 align=\"center\" style=\"color:#01ff84\"> Pytorch and Fashion-MNIST</h2>\n",
    "<br>\n",
    "<div>\n",
    "You'll be using the <a href=\"https://github.com/zalandoresearch/fashion-mnist\" style=\"color:#01ff84>\"> Fashion-MNIST dataset</a>\n",
    ", a drop-in replacement for the MNIST dataset. MNIST is actually quite trivial with neural networks where you can easily achieve better than 97% accuracy. Fashion-MNIST is a set of 28x28 greyscale images of clothes. It's more complex than MNIST, so it's a better representation of the actual performance of your network, and a better representation of datasets you'll use in the real world.\n",
    "</div>\n",
    "<img src='https://res.cloudinary.com/practicaldev/image/fetch/s--tGTLvoST--/c_imagga_scale,f_auto,fl_progressive,h_720,q_auto,w_1280/https://raw.githubusercontent.com/zalandoresearch/fashion-mnist/master/doc/img/fashion-mnist-sprite.png' width=500px>\n",
    "    \n",
    "<div> \n",
    "<br>\n",
    "Download and import the dataset\n"
   ]
  },
  {
   "cell_type": "code",
   "execution_count": 2,
   "id": "adopted-array",
   "metadata": {},
   "outputs": [],
   "source": [
    "import torch\n",
    "from torchvision import datasets, transforms\n",
    "# Define a transform to normalize the data\n",
    "transform = transforms.Compose([transforms.ToTensor(),\n",
    "                                transforms.Normalize((0.5,), (0.5,))])\n",
    "# Download and load the training data\n",
    "trainset = datasets.FashionMNIST('~/.pytorch/F_MNIST_data/', download=True, train=True, transform=transform)\n",
    "trainloader = torch.utils.data.DataLoader(trainset, batch_size=64, shuffle=True)\n",
    "\n",
    "# Download and load the test data\n",
    "testset = datasets.FashionMNIST('~/.pytorch/F_MNIST_data/', download=True, train=False, transform=transform)\n",
    "testloader = torch.utils.data.DataLoader(testset, batch_size=64, shuffle=True)"
   ]
  },
  {
   "cell_type": "markdown",
   "id": "polar-palestine",
   "metadata": {},
   "source": [
    "<div style=\"background:#222222; color:#ffffff; padding:20px\">\n",
    "  <strong style=\"color:#01ff84\">Helper functions</strong>\n",
    "  <p>1. Visualize a torch vector and a sample prediction:</p>\n",
    "<div>"
   ]
  },
  {
   "cell_type": "code",
   "execution_count": 3,
   "id": "revolutionary-mystery",
   "metadata": {},
   "outputs": [],
   "source": [
    "import matplotlib.pyplot as plt\n",
    "import numpy as np\n",
    "\n",
    "def imshow(image, ax=None, title=None, normalize=True):\n",
    "    \"\"\"Imshow for Tensor.\"\"\"\n",
    "    if ax is None:\n",
    "        fig, ax = plt.subplots()\n",
    "    image = image.numpy().transpose((1, 2, 0))\n",
    "\n",
    "    if normalize:\n",
    "        mean = np.array([0.485, 0.456, 0.406])\n",
    "        std = np.array([0.229, 0.224, 0.225])\n",
    "        image = std * image + mean\n",
    "        image = np.clip(image, 0, 1)\n",
    "\n",
    "    ax.imshow(image)\n",
    "    ax.spines['top'].set_visible(False)\n",
    "    ax.spines['right'].set_visible(False)\n",
    "    ax.spines['left'].set_visible(False)\n",
    "    ax.spines['bottom'].set_visible(False)\n",
    "    ax.tick_params(axis='both', length=0)\n",
    "    ax.set_xticklabels('')\n",
    "    ax.set_yticklabels('')\n",
    "\n",
    "    return ax\n",
    "\n",
    "def view_classify(img, ps, version=\"MNIST\"):\n",
    "    ''' Function for viewing an image and it's predicted classes.\n",
    "    '''\n",
    "    ps = ps.data.numpy().squeeze()\n",
    "\n",
    "    fig, (ax1, ax2) = plt.subplots(figsize=(6,9), ncols=2)\n",
    "    ax1.imshow(img.resize_(1, 28, 28).numpy().squeeze())\n",
    "    ax1.axis('off')\n",
    "    ax2.barh(np.arange(10), ps)\n",
    "    ax2.set_aspect(0.1)\n",
    "    ax2.set_yticks(np.arange(10))\n",
    "    if version == \"MNIST\":\n",
    "        ax2.set_yticklabels(np.arange(10))\n",
    "    elif version == \"Fashion\":\n",
    "        ax2.set_yticklabels(['T-shirt/top',\n",
    "                            'Trouser',\n",
    "                            'Pullover',\n",
    "                            'Dress',\n",
    "                            'Coat',\n",
    "                            'Sandal',\n",
    "                            'Shirt',\n",
    "                            'Sneaker',\n",
    "                            'Bag',\n",
    "                            'Ankle Boot'], size='small');\n",
    "    ax2.set_title('Class Probability')\n",
    "    ax2.set_xlim(0, 1.1)\n",
    "\n",
    "    plt.tight_layout()\n",
    "    plt.show()\n"
   ]
  },
  {
   "cell_type": "code",
   "execution_count": 4,
   "id": "conscious-effort",
   "metadata": {},
   "outputs": [
    {
     "data": {
      "image/png": "[encoded data removed]",
      "text/plain": [
       "<Figure size 432x288 with 1 Axes>"
      ]
     },
     "metadata": {
      "needs_background": "light"
     },
     "output_type": "display_data"
    }
   ],
   "source": [
    "image, label = next(iter(trainloader))\n",
    "imshow(image[0,:]);"
   ]
  },
  {
   "cell_type": "code",
   "execution_count": 5,
   "id": "3eac069b",
   "metadata": {},
   "outputs": [
    {
     "name": "stdout",
     "output_type": "stream",
     "text": [
      "Sequential(\n",
      "  (0): Linear(in_features=784, out_features=300, bias=True)\n",
      "  (1): ReLU()\n",
      "  (2): Linear(in_features=300, out_features=150, bias=True)\n",
      "  (3): ReLU()\n",
      "  (4): Linear(in_features=150, out_features=64, bias=True)\n",
      "  (5): ReLU()\n",
      "  (6): Linear(in_features=64, out_features=10, bias=True)\n",
      ")\n"
     ]
    }
   ],
   "source": [
    "\n",
    "from torch import nn\n",
    "input_size   = 784\n",
    "hidden_sizes = [300, 150, 64]\n",
    "output_size   = 10\n",
    "\n",
    "# Build a feed-forward network\n",
    "model = nn.Sequential(nn.Linear(input_size, hidden_sizes[0]),\n",
    "                      nn.ReLU(),\n",
    "                      nn.Linear(hidden_sizes[0], hidden_sizes[1]),\n",
    "                      nn.ReLU(),\n",
    "                      nn.Linear(hidden_sizes[1], hidden_sizes[2]),\n",
    "                      nn.ReLU(),\n",
    "                      nn.Linear(hidden_sizes[2], output_size))\n",
    "print(model)"
   ]
  },
  {
   "cell_type": "code",
   "execution_count": 6,
   "id": "ea7137d8",
   "metadata": {},
   "outputs": [],
   "source": [
    "from torch import optim\n",
    "import torch.nn.functional as F\n",
    "criterion = nn.CrossEntropyLoss()\n",
    "optimizer = optim.Adam(model.parameters(), lr=0.001)"
   ]
  },
  {
   "cell_type": "code",
   "execution_count": 8,
   "id": "c7f4ddcb",
   "metadata": {},
   "outputs": [
    {
     "name": "stdout",
     "output_type": "stream",
     "text": [
      "Epoch: 1/100\n",
      "epoch: 0 | test_loss: 0.37975502014160156 | accuracy: 0.850600004196167\n",
      "Epoch: 2/100\n",
      "epoch: 1 | test_loss: 0.855175256729126 | accuracy: 0.8109999895095825\n",
      "Epoch: 3/100\n",
      "epoch: 2 | test_loss: 0.5330526232719421 | accuracy: 0.8514999747276306\n",
      "Epoch: 4/100\n",
      "epoch: 3 | test_loss: 0.23808929324150085 | accuracy: 0.8500999808311462\n",
      "Epoch: 5/100\n",
      "epoch: 4 | test_loss: 0.33969345688819885 | accuracy: 0.854200005531311\n",
      "Epoch: 6/100\n",
      "epoch: 5 | test_loss: 0.1810864359140396 | accuracy: 0.8557000160217285\n",
      "Epoch: 7/100\n",
      "epoch: 6 | test_loss: 0.31797489523887634 | accuracy: 0.8504999876022339\n",
      "Epoch: 8/100\n",
      "epoch: 7 | test_loss: 0.8415215611457825 | accuracy: 0.8526999950408936\n",
      "Epoch: 9/100\n",
      "epoch: 8 | test_loss: 0.4642602801322937 | accuracy: 0.8518999814987183\n",
      "Epoch: 10/100\n",
      "epoch: 9 | test_loss: 0.5336061120033264 | accuracy: 0.8607000112533569\n",
      "Epoch: 11/100\n",
      "epoch: 10 | test_loss: 0.3848189115524292 | accuracy: 0.8489000201225281\n",
      "Epoch: 12/100\n",
      "epoch: 11 | test_loss: 0.7120329141616821 | accuracy: 0.8535000085830688\n",
      "Epoch: 13/100\n",
      "epoch: 12 | test_loss: 1.2309966087341309 | accuracy: 0.8555999994277954\n",
      "Epoch: 14/100\n",
      "epoch: 13 | test_loss: 0.7613329887390137 | accuracy: 0.8614000082015991\n",
      "Epoch: 15/100\n",
      "epoch: 14 | test_loss: 0.39082011580467224 | accuracy: 0.8138999938964844\n",
      "Epoch: 16/100\n",
      "epoch: 15 | test_loss: 0.3761298656463623 | accuracy: 0.8561999797821045\n",
      "Epoch: 17/100\n",
      "epoch: 16 | test_loss: 0.12209489196538925 | accuracy: 0.8529000282287598\n",
      "Epoch: 18/100\n",
      "epoch: 17 | test_loss: 0.7697993516921997 | accuracy: 0.8460000157356262\n",
      "Epoch: 19/100\n",
      "epoch: 18 | test_loss: 0.2654782831668854 | accuracy: 0.8618000149726868\n",
      "Epoch: 20/100\n",
      "epoch: 19 | test_loss: 0.11239957064390182 | accuracy: 0.8555999994277954\n",
      "Epoch: 21/100\n",
      "epoch: 20 | test_loss: 0.19662943482398987 | accuracy: 0.8611000180244446\n",
      "Epoch: 22/100\n",
      "epoch: 21 | test_loss: 1.0651148557662964 | accuracy: 0.8325999975204468\n",
      "Epoch: 23/100\n",
      "epoch: 22 | test_loss: 0.2759265601634979 | accuracy: 0.8615000247955322\n",
      "Epoch: 24/100\n",
      "epoch: 23 | test_loss: 0.08104058355093002 | accuracy: 0.8565999865531921\n",
      "Epoch: 25/100\n",
      "epoch: 24 | test_loss: 0.3587214946746826 | accuracy: 0.8586000204086304\n",
      "Epoch: 26/100\n",
      "epoch: 25 | test_loss: 0.40707844495773315 | accuracy: 0.8476999998092651\n",
      "Epoch: 27/100\n",
      "epoch: 26 | test_loss: 0.863604724407196 | accuracy: 0.862500011920929\n",
      "Epoch: 28/100\n",
      "epoch: 27 | test_loss: 0.32035648822784424 | accuracy: 0.857200026512146\n",
      "Epoch: 29/100\n",
      "epoch: 28 | test_loss: 0.6244975328445435 | accuracy: 0.8560000061988831\n",
      "Epoch: 30/100\n",
      "epoch: 29 | test_loss: 0.25056421756744385 | accuracy: 0.859000027179718\n",
      "Epoch: 31/100\n",
      "epoch: 30 | test_loss: 1.0222426652908325 | accuracy: 0.861299991607666\n",
      "Epoch: 32/100\n",
      "epoch: 31 | test_loss: 0.13194125890731812 | accuracy: 0.8618999719619751\n",
      "Epoch: 33/100\n",
      "epoch: 32 | test_loss: 1.4092663526535034 | accuracy: 0.8603000044822693\n",
      "Epoch: 34/100\n",
      "epoch: 33 | test_loss: 0.6794272065162659 | accuracy: 0.8616999983787537\n",
      "Epoch: 35/100\n",
      "epoch: 34 | test_loss: 1.7344878911972046 | accuracy: 0.8646000027656555\n",
      "Epoch: 36/100\n",
      "epoch: 35 | test_loss: 0.2822849452495575 | accuracy: 0.855400025844574\n",
      "Epoch: 37/100\n",
      "epoch: 36 | test_loss: 0.16624876856803894 | accuracy: 0.8592000007629395\n",
      "Epoch: 38/100\n",
      "epoch: 37 | test_loss: 0.33369627594947815 | accuracy: 0.8572999835014343\n",
      "Epoch: 39/100\n",
      "epoch: 38 | test_loss: 0.4587406516075134 | accuracy: 0.8553000092506409\n",
      "Epoch: 40/100\n",
      "epoch: 39 | test_loss: 0.10296051949262619 | accuracy: 0.8553000092506409\n",
      "Epoch: 41/100\n",
      "epoch: 40 | test_loss: 0.02785240299999714 | accuracy: 0.8622999787330627\n",
      "Epoch: 42/100\n",
      "epoch: 41 | test_loss: 0.7589975595474243 | accuracy: 0.8580999970436096\n",
      "Epoch: 43/100\n",
      "epoch: 42 | test_loss: 0.6293824315071106 | accuracy: 0.8589000105857849\n",
      "Epoch: 44/100\n",
      "epoch: 43 | test_loss: 0.4202479422092438 | accuracy: 0.843999981880188\n",
      "Epoch: 45/100\n",
      "epoch: 44 | test_loss: 0.500127911567688 | accuracy: 0.8633999824523926\n",
      "Epoch: 46/100\n",
      "epoch: 45 | test_loss: 0.4246146082878113 | accuracy: 0.8513000011444092\n",
      "Epoch: 47/100\n",
      "epoch: 46 | test_loss: 0.4435393214225769 | accuracy: 0.8346999883651733\n",
      "Epoch: 48/100\n",
      "epoch: 47 | test_loss: 0.03495914489030838 | accuracy: 0.8621000051498413\n",
      "Epoch: 49/100\n",
      "epoch: 48 | test_loss: 0.9386453032493591 | accuracy: 0.8601999878883362\n",
      "Epoch: 50/100\n",
      "epoch: 49 | test_loss: 0.10978728532791138 | accuracy: 0.8514000177383423\n",
      "Epoch: 51/100\n",
      "epoch: 50 | test_loss: 0.2318732589483261 | accuracy: 0.8575000166893005\n",
      "Epoch: 52/100\n",
      "epoch: 51 | test_loss: 0.03411436825990677 | accuracy: 0.8626000285148621\n",
      "Epoch: 53/100\n",
      "epoch: 52 | test_loss: 0.1819147765636444 | accuracy: 0.8562999963760376\n",
      "Epoch: 54/100\n",
      "epoch: 53 | test_loss: 0.5434693694114685 | accuracy: 0.8554999828338623\n",
      "Epoch: 55/100\n",
      "epoch: 54 | test_loss: 0.608127236366272 | accuracy: 0.8662999868392944\n",
      "Epoch: 56/100\n",
      "epoch: 55 | test_loss: 0.2240195870399475 | accuracy: 0.8610000014305115\n",
      "Epoch: 57/100\n",
      "epoch: 56 | test_loss: 0.7455670237541199 | accuracy: 0.8596000075340271\n",
      "Epoch: 58/100\n",
      "epoch: 57 | test_loss: 0.0853470116853714 | accuracy: 0.861299991607666\n",
      "Epoch: 59/100\n",
      "epoch: 58 | test_loss: 2.0647411346435547 | accuracy: 0.8615000247955322\n",
      "Epoch: 60/100\n",
      "epoch: 59 | test_loss: 0.2706775665283203 | accuracy: 0.8492000102996826\n",
      "Epoch: 61/100\n",
      "epoch: 60 | test_loss: 0.4548546075820923 | accuracy: 0.8593000173568726\n",
      "Epoch: 62/100\n",
      "epoch: 61 | test_loss: 0.03972894698381424 | accuracy: 0.8567000031471252\n",
      "Epoch: 63/100\n",
      "epoch: 62 | test_loss: 0.8544695973396301 | accuracy: 0.8615000247955322\n",
      "Epoch: 64/100\n",
      "epoch: 63 | test_loss: 0.08477051556110382 | accuracy: 0.8589000105857849\n",
      "Epoch: 65/100\n",
      "epoch: 64 | test_loss: 0.3849834203720093 | accuracy: 0.8632000088691711\n",
      "Epoch: 66/100\n",
      "epoch: 65 | test_loss: 0.3302614092826843 | accuracy: 0.838699996471405\n",
      "Epoch: 67/100\n",
      "epoch: 66 | test_loss: 0.15092846751213074 | accuracy: 0.8636999726295471\n",
      "Epoch: 68/100\n",
      "epoch: 67 | test_loss: 0.16082006692886353 | accuracy: 0.8646000027656555\n",
      "Epoch: 69/100\n",
      "epoch: 68 | test_loss: 0.3537015914916992 | accuracy: 0.8596000075340271\n",
      "Epoch: 70/100\n",
      "epoch: 69 | test_loss: 0.29639506340026855 | accuracy: 0.8633999824523926\n",
      "Epoch: 71/100\n",
      "epoch: 70 | test_loss: 0.4720709025859833 | accuracy: 0.8604999780654907\n",
      "Epoch: 72/100\n",
      "epoch: 71 | test_loss: 0.5627281069755554 | accuracy: 0.8564000129699707\n",
      "Epoch: 73/100\n",
      "epoch: 72 | test_loss: 0.25693631172180176 | accuracy: 0.855400025844574\n",
      "Epoch: 74/100\n",
      "epoch: 73 | test_loss: 1.2929648160934448 | accuracy: 0.8485000133514404\n",
      "Epoch: 75/100\n",
      "epoch: 74 | test_loss: 0.14840567111968994 | accuracy: 0.8618000149726868\n",
      "Epoch: 76/100\n",
      "epoch: 75 | test_loss: 0.702612042427063 | accuracy: 0.8557999730110168\n",
      "Epoch: 77/100\n",
      "epoch: 76 | test_loss: 0.5158137083053589 | accuracy: 0.8446999788284302\n",
      "Epoch: 78/100\n",
      "epoch: 77 | test_loss: 0.3224639296531677 | accuracy: 0.8519999980926514\n",
      "Epoch: 79/100\n",
      "epoch: 78 | test_loss: 0.42134058475494385 | accuracy: 0.86080002784729\n",
      "Epoch: 80/100\n",
      "epoch: 79 | test_loss: 0.4631195366382599 | accuracy: 0.8633000254631042\n",
      "Epoch: 81/100\n",
      "epoch: 80 | test_loss: 0.2117213010787964 | accuracy: 0.8342000246047974\n",
      "Epoch: 82/100\n",
      "epoch: 81 | test_loss: 0.3430645167827606 | accuracy: 0.8644000291824341\n",
      "Epoch: 83/100\n",
      "epoch: 82 | test_loss: 0.21856603026390076 | accuracy: 0.8460999727249146\n",
      "Epoch: 84/100\n",
      "epoch: 83 | test_loss: 0.3476261496543884 | accuracy: 0.8593000173568726\n",
      "Epoch: 85/100\n",
      "epoch: 84 | test_loss: 0.17244111001491547 | accuracy: 0.864300012588501\n",
      "Epoch: 86/100\n",
      "epoch: 85 | test_loss: 0.4903589189052582 | accuracy: 0.8596000075340271\n",
      "Epoch: 87/100\n",
      "epoch: 86 | test_loss: 0.4342624545097351 | accuracy: 0.8574000000953674\n",
      "Epoch: 88/100\n",
      "epoch: 87 | test_loss: 0.21682202816009521 | accuracy: 0.8600999712944031\n",
      "Epoch: 89/100\n",
      "epoch: 88 | test_loss: 0.6202497482299805 | accuracy: 0.8452000021934509\n",
      "Epoch: 90/100\n",
      "epoch: 89 | test_loss: 0.4415143132209778 | accuracy: 0.8590999841690063\n",
      "Epoch: 91/100\n",
      "epoch: 90 | test_loss: 0.5653331279754639 | accuracy: 0.8574000000953674\n",
      "Epoch: 92/100\n",
      "epoch: 91 | test_loss: 0.5045580267906189 | accuracy: 0.8648999929428101\n",
      "Epoch: 93/100\n",
      "epoch: 92 | test_loss: 0.07088402658700943 | accuracy: 0.8637999892234802\n",
      "Epoch: 94/100\n",
      "epoch: 93 | test_loss: 0.7792170643806458 | accuracy: 0.8478999733924866\n",
      "Epoch: 95/100\n",
      "epoch: 94 | test_loss: 0.8034834861755371 | accuracy: 0.8490999937057495\n",
      "Epoch: 96/100\n",
      "epoch: 95 | test_loss: 0.22153259813785553 | accuracy: 0.8503000140190125\n",
      "Epoch: 97/100\n",
      "epoch: 96 | test_loss: 0.20972584187984467 | accuracy: 0.8593000173568726\n",
      "Epoch: 98/100\n",
      "epoch: 97 | test_loss: 0.3717862665653229 | accuracy: 0.8641999959945679\n",
      "Epoch: 99/100\n",
      "epoch: 98 | test_loss: 0.03524273633956909 | accuracy: 0.8468000292778015\n",
      "Epoch: 100/100\n",
      "epoch: 99 | test_loss: 0.7553498148918152 | accuracy: 0.84170001745224\n"
     ]
    }
   ],
   "source": [
    "epochs = 100\n",
    "print_every = 60\n",
    "train_loss = []\n",
    "test_loss = []\n",
    "accuracies = []\n",
    "best_accuracy = 0.85\n",
    "for e in range(epochs):\n",
    "    print(f\"Epoch: {e+1}/{epochs}\")\n",
    "    running_loss_train = 0\n",
    "    \n",
    "    \n",
    "\n",
    "    for i, (images, labels) in enumerate(iter(trainloader)):\n",
    "\n",
    "        # Flatten MNIST images into a 784 long vector\n",
    "        images.resize_(images.size()[0], 784)\n",
    "        \n",
    "        optimizer.zero_grad()\n",
    "        \n",
    "        output = model.forward(images)   # 1) Forward pass\n",
    "        loss = criterion(output, labels) # 2) Compute loss\n",
    "        loss.backward()                  # 3) Backward pass\n",
    "        optimizer.step()                  # 4) Update model\n",
    "        \n",
    "        running_loss_train+=(loss.item())\n",
    "    training_loss = running_loss_train/ len(trainloader)\n",
    "    train_loss.append(training_loss)\n",
    "        \n",
    "        \n",
    "        # if i % print_every == 0:\n",
    "        #     print(f\"\\tIteration: {i}\\t Loss: {training_loss/print_every:.4f}\")\n",
    "        #     training_loss = 0\n",
    "    \n",
    "    model.eval()\n",
    "    correct_pred = 0\n",
    "    total_size = 0\n",
    "    running_loss_test = 0\n",
    "    \n",
    "    with torch.no_grad():\n",
    "        for i, (images, labels) in enumerate(iter(testloader)):\n",
    "\n",
    "            #reshaping images\n",
    "            images.resize_(images.size()[0], 784)\n",
    "\n",
    "            #Prediction\n",
    "            output2 = model(images)\n",
    "            prediction = F.softmax(output2, dim=1).argmax(dim=1)\n",
    "\n",
    "            #getting accuracy\n",
    "            correct_pred+=(prediction==labels).sum()\n",
    "            total_size += labels.size(0)\n",
    "            \n",
    "\n",
    "            #getting the loss value\n",
    "            loss2 = criterion(output2,labels)\n",
    "            running_loss_test+=(loss2.item())  \n",
    "\n",
    "        testing_loss = running_loss_test/len(testloader)\n",
    "        test_loss.append(testing_loss)\n",
    "\n",
    "\n",
    "        accuracy = correct_pred / total_size\n",
    "        accuracies.append(accuracy)\n",
    "        if accuracy > best_accuracy:\n",
    "            torch.save(model.state_dict(), f'model_{accuracy: .2f}.pth')\n",
    "\n",
    "    model.train()\n",
    "    print(f'epoch: {e} | test_loss: {loss2.item()} | accuracy: {accuracy.item()}')\n"
   ]
  },
  {
   "cell_type": "code",
   "execution_count": 9,
   "id": "5e8ed9f2",
   "metadata": {},
   "outputs": [
    {
     "data": {
      "image/png": "[encoded data removed]",
      "text/plain": [
       "<Figure size 1080x576 with 1 Axes>"
      ]
     },
     "metadata": {
      "needs_background": "light"
     },
     "output_type": "display_data"
    }
   ],
   "source": [
    "plt.figure(figsize=(15,8))\n",
    "plt.plot(train_loss, label='Train loss')\n",
    "plt.plot(test_loss, label='Test loss')\n",
    "plt.plot(accuracies, label='Accuracy')\n",
    "plt.legend()\n",
    "plt.show()"
   ]
  },
  {
   "cell_type": "code",
   "execution_count": 46,
   "id": "97c5e2fc",
   "metadata": {},
   "outputs": [
    {
     "data": {
      "image/png": "[encoded data removed]",
      "text/plain": [
       "<Figure size 432x648 with 2 Axes>"
      ]
     },
     "metadata": {
      "image/png": {
       "height": 216,
       "width": 424
      },
      "needs_background": "light"
     },
     "output_type": "display_data"
    }
   ],
   "source": [
    "%matplotlib inline\n",
    "%config InlineBackend.figure_format = 'retina'\n",
    "\n",
    "dataiter = iter(testloader)\n",
    "images, labels = dataiter.next()\n",
    "img = images[1]\n",
    "img = img.view(img.shape[0], -1)\n",
    "ps = model(img) # ps stands for probabilities: your model should return values between 0 and 1\n",
    "# that sums to 1. A softmax does this job!\n",
    "\n",
    "# Plot the image and probabilities\n",
    "view_classify(img, ps, version='Fashion')"
   ]
  },
  {
   "cell_type": "code",
   "execution_count": 62,
   "id": "fatty-formula",
   "metadata": {},
   "outputs": [],
   "source": [
    "# READ HERE! This is just a snippet of the code that can help you. The model has not been\n",
    "# defined above, so if you run this cell you should get an error. This is just to show you\n",
    "# what the output of the function looks like\n",
    "\n",
    "%matplotlib inline\n",
    "%config InlineBackend.figure_format = 'retina'\n",
    "\n",
    "dataiter = iter(testloader)\n",
    "images, labels = dataiter.next()\n",
    "images = images.view(images.shape[0],-1) #flatten the image\n",
    "probs = model(images)\n",
    " \n"
   ]
  },
  {
   "cell_type": "markdown",
   "id": "coordinate-hunger",
   "metadata": {},
   "source": [
    "<div style=\"background:#222222; color:#ffffff; padding:20px\">\n",
    "    <h3 align=\"center\"> TIPS for the validation part</h3>\n",
    "<br>\n",
    "<div>\n",
    "  <strong style=\"color:#01ff84\">Visualize the most likely class</strong>\n",
    "  <p>With the probabilities, we can get the most likely class using the <code>ps.topk</code> method. This returns the $k$ highest values. Since we just want the most likely class, we can use <code>ps.topk(1)</code>. This returns a tuple of the top-$k$ values and the top-$k$ indices. If the highest value is the fifth element, we'll get back 4 as the index.:</p>\n",
    "<div>"
   ]
  },
  {
   "cell_type": "code",
   "execution_count": 63,
   "id": "uniform-alert",
   "metadata": {},
   "outputs": [
    {
     "name": "stdout",
     "output_type": "stream",
     "text": [
      "tensor([[7],\n",
      "        [2],\n",
      "        [3],\n",
      "        [4],\n",
      "        [5],\n",
      "        [7],\n",
      "        [1],\n",
      "        [7],\n",
      "        [9],\n",
      "        [2]])\n"
     ]
    }
   ],
   "source": [
    "top_p, top_class = probs.topk(1, dim=1)\n",
    "# # Look at the most likely classes for the first 10 examples\n",
    "\n",
    "print(top_class[:10,:])"
   ]
  },
  {
   "cell_type": "markdown",
   "id": "swiss-notion",
   "metadata": {},
   "source": [
    "Now we can check if the predicted classes match the labels. This is simple to do by equating `top_class` and `labels`, but we have to be careful of the shapes. Here `top_class` is a 2D tensor with shape `(batch_size, 1)` while `labels` is 1D with shape `(batch_size)`. To get the equality to work out the way we want, `top_class` and `labels` must have the same shape.\n",
    "\n",
    "If we do\n",
    "\n",
    "```python\n",
    "equals = top_class == labels\n",
    "```\n",
    "\n",
    "`equals` will have shape `(batch_size, batch_size)`, try it yourself. What it's doing is comparing the one element in each row of `top_class` with each element in `labels` which returns 64 (or your batch size) True/False boolean values for each row."
   ]
  },
  {
   "cell_type": "code",
   "execution_count": 66,
   "id": "1133bc08",
   "metadata": {},
   "outputs": [
    {
     "data": {
      "text/plain": [
       "torch.Size([64, 1])"
      ]
     },
     "execution_count": 66,
     "metadata": {},
     "output_type": "execute_result"
    }
   ],
   "source": [
    "top_class.shape"
   ]
  },
  {
   "cell_type": "code",
   "execution_count": 67,
   "id": "minimal-begin",
   "metadata": {},
   "outputs": [],
   "source": [
    "equals = top_class == labels.view(*top_class.shape)\n",
    "# equals = top_class == labels\n"
   ]
  },
  {
   "cell_type": "code",
   "execution_count": 68,
   "id": "e8993b32",
   "metadata": {},
   "outputs": [],
   "source": [
    "# missclassified_ = []\n",
    "# # print(equals)\n",
    "# for index,value in enumerate(equals):\n",
    "#     # print(len(value))\n",
    "    \n",
    "#     if not value.item():\n",
    "#         missclassified_.append(index)\n",
    "\n",
    "# print(missclassified_)\n"
   ]
  },
  {
   "cell_type": "markdown",
   "id": "voluntary-variety",
   "metadata": {},
   "source": [
    "If you want to see the indexes of the misclassified images in the batch, you can run the following:"
   ]
  },
  {
   "cell_type": "code",
   "execution_count": 69,
   "id": "italic-preliminary",
   "metadata": {},
   "outputs": [],
   "source": [
    "misclassified = [index for index,value in enumerate(equals) if value.item() is False] \n"
   ]
  },
  {
   "cell_type": "markdown",
   "id": "broke-delicious",
   "metadata": {},
   "source": [
    "Then you can use those indices to index `images[...]`!"
   ]
  },
  {
   "cell_type": "markdown",
   "id": "growing-publication",
   "metadata": {},
   "source": [
    "<div style=\"background:#222222; color:#ffffff; padding:20px\">\n",
    "  <strong style=\"color:#01ff84\">Compute the accuracy</strong>\n",
    "  "
   ]
  },
  {
   "cell_type": "markdown",
   "id": "electoral-chest",
   "metadata": {},
   "source": [
    "Now we need to calculate the percentage of correct predictions. `equals` has binary values, either 0 or 1. This means that if we just sum up all the values and divide by the number of values, we get the percentage of correct predictions. This is the same operation as taking the mean, so we can get the accuracy with a call to `torch.mean`. If only it was that simple. If you try `torch.mean(equals)`, you'll get an error\n",
    "\n",
    "```\n",
    "RuntimeError: mean is not implemented for type torch.ByteTensor\n",
    "```\n",
    "\n",
    "This happens because `equals` has type `torch.ByteTensor` but `torch.mean` isn't implement for tensors with that type. So we'll need to convert `equals` to a float tensor. Note that when we take `torch.mean` it returns a scalar tensor, to get the actual value as a float we'll need to do `accuracy.item()`."
   ]
  },
  {
   "cell_type": "code",
   "execution_count": 70,
   "id": "chemical-swimming",
   "metadata": {},
   "outputs": [
    {
     "name": "stdout",
     "output_type": "stream",
     "text": [
      "Accuracy: 84.375%\n"
     ]
    }
   ],
   "source": [
    "accuracy = torch.mean(equals.type(torch.FloatTensor))\n",
    "print(f'Accuracy: {accuracy.item()*100}%')"
   ]
  },
  {
   "cell_type": "markdown",
   "id": "personalized-rapid",
   "metadata": {},
   "source": [
    "Remember that when you do operations over the weights, both in the forward pass and in the optimization step, Pytorch keeps track of them and `autograd`, that is a Pytorch module for automatically calculating the gradients of tensors, will compute the gradient of them! This is useful when you have to perform the backward pass as well, but not for the validation!\n",
    "\n",
    "Why?\n",
    "\n",
    "The reason you compute the gradient is that you want to minimize the loss function, and the gradient allows you to find in which \"direction\" you have to adjust the weights to reach the minumum of the loss function. \n",
    "\n",
    "So this is a step you perform in the training loop, because you want to adjust and learn the weights. In the validation, you use the weights you've learned so far to test how the model is performing, so you don't need to either update the weights or to compute the gradients!\n",
    "\n",
    "You can use a \"context manager\" to turn off the gradients while doing the validation step:\n",
    "\n",
    "```python\n",
    "# turn off gradients\n",
    "with torch.no_grad():\n",
    "    # validation pass here\n",
    "    for images, labels in testloader:\n",
    "        ...\n",
    "```"
   ]
  },
  {
   "cell_type": "markdown",
   "id": "automotive-texture",
   "metadata": {},
   "source": [
    "<div style=\"background:#222222; color:#ffffff; padding:20px\">\n",
    "  <strong style=\"color:#01ff84\">CAVEAT</strong>\n",
    "<ul>\n",
    " <li> Remember to reset the gradients of the optimizer in the training loop! <br>\n",
    "    <code> optimizer.zero_grad()\n",
    "    loss.backward()\n",
    "    optimizer.step()</code>\n",
    "    </li>\n",
    " <li> Be careful about the nn.CrossEntropyLoss(): it wants the raw logits as inputs, and not the output of the softmax! I recommend you to use the <code>LogSoftmax</code> as last layer of your network, and the <code>nn.NLLLoss()</code> as criterion. However, to have the probabilities (the ps in the code) you must use <code>torch.exp(output)</code> since the <code>LogSoftmax</code> gives the log of the probabilities!\n",
    " </ul>\n",
    "    \n",
    "</div>\n",
    "  "
   ]
  },
  {
   "cell_type": "markdown",
   "id": "gorgeous-hurricane",
   "metadata": {},
   "source": [
    "<div style=\"background:#222222; color:#ffffff; padding:20px\">\n",
    "   <h3 align=\"center\" style=\"color:#01ff84\"> Save and load a model</h3>\n",
    "    \n",
    "The simplest thing to do is simply save the state dict with <code>torch.save</code>. For example, we can save it to a file <code>'checkpoint.pth'</code>."
   ]
  },
  {
   "cell_type": "code",
   "execution_count": 71,
   "id": "superior-paragraph",
   "metadata": {},
   "outputs": [],
   "source": [
    "torch.save(model.state_dict(), 'checkpoint.pth')"
   ]
  },
  {
   "cell_type": "markdown",
   "id": "sitting-equity",
   "metadata": {},
   "source": [
    "<div style=\"background:#222222; color:#ffffff; padding:20px\">\n",
    "    Then we can load the state dict with <code>torch.load</code>."
   ]
  },
  {
   "cell_type": "code",
   "execution_count": 72,
   "id": "proved-veteran",
   "metadata": {},
   "outputs": [
    {
     "name": "stdout",
     "output_type": "stream",
     "text": [
      "odict_keys(['0.weight', '0.bias', '2.weight', '2.bias', '4.weight', '4.bias', '6.weight', '6.bias'])\n"
     ]
    }
   ],
   "source": [
    "state_dict = torch.load('checkpoint.pth')\n",
    "print(state_dict.keys())"
   ]
  },
  {
   "cell_type": "markdown",
   "id": "different-modem",
   "metadata": {},
   "source": [
    "<div style=\"background:#222222; color:#ffffff; padding:20px\">\n",
    "\n",
    "And to load the state dict in to the network, you do `model.load_state_dict(state_dict)`."
   ]
  },
  {
   "cell_type": "code",
   "execution_count": 73,
   "id": "aquatic-newport",
   "metadata": {},
   "outputs": [
    {
     "data": {
      "text/plain": [
       "<All keys matched successfully>"
      ]
     },
     "execution_count": 73,
     "metadata": {},
     "output_type": "execute_result"
    }
   ],
   "source": [
    "model.load_state_dict(state_dict)"
   ]
  },
  {
   "cell_type": "code",
   "execution_count": null,
   "id": "01ee46a5",
   "metadata": {},
   "outputs": [],
   "source": []
  },
  {
   "cell_type": "markdown",
   "id": "victorian-geology",
   "metadata": {},
   "source": [
    "<div style=\"background:#222222; color:#ffffff; padding:20px\">\n",
    "\n",
    "This works only if you have recreated the same exact model (with same layers and so on) and stored it in model, so that it can load the needed information!\n",
    "\n",
    "If you want also to save the epoch and the state of the optimizer, for example, read here https://pytorch.org/tutorials/recipes/recipes/saving_and_loading_a_general_checkpoint.html.\n",
    "\n",
    "   <h3 align=\"center\" style=\"color:#01ff84\"> Good luck! 🤞</h3>"
   ]
  },
  {
   "cell_type": "markdown",
   "id": "contemporary-adobe",
   "metadata": {},
   "source": []
  },
  {
   "cell_type": "code",
   "execution_count": null,
   "id": "northern-chest",
   "metadata": {},
   "outputs": [],
   "source": []
  }
 ],
 "metadata": {
  "kernelspec": {
   "display_name": "Python 3.10.4 ('env')",
   "language": "python",
   "name": "python3"
  },
  "language_info": {
   "codemirror_mode": {
    "name": "ipython",
    "version": 3
   },
   "file_extension": ".py",
   "mimetype": "text/x-python",
   "name": "python",
   "nbconvert_exporter": "python",
   "pygments_lexer": "ipython3",
   "version": "3.10.4"
  },
  "vscode": {
   "interpreter": {
    "hash": "5a80a721eddef92e831e6e272c4656ac3b1576e9f7df1307f67eb40125234cad"
   }
  }
 },
 "nbformat": 4,
 "nbformat_minor": 5
}
